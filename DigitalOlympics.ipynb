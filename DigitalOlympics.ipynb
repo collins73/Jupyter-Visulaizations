{
 "cells": [
  {
   "cell_type": "code",
   "execution_count": 1,
   "metadata": {
    "scrolled": true
   },
   "outputs": [],
   "source": [
    "# Data is provided from Lake County, IL. Demographics which is based on 27 records or observations\n",
    "# Source: Data.Gov\n",
    "\n",
    "import pandas as pd\n",
    "import plotly.express as px\n",
    "import matplotlib.pyplot as plt\n",
    "import numpy as np\n",
    "import chart_studio.plotly as py\n",
    "import seaborn as sns, bokeh\n",
    "from scipy import stats\n",
    "import cufflinks as cf\n",
    "from plotly.offline import download_plotlyjs, init_notebook_mode, plot, iplot\n",
    "\n",
    "%matplotlib inline\n",
    "\n",
    "NoHighSchool = np.array([5.7,2.8,2.5,11.2,6.2,6,3.8,18.8,9.7,3.4,2.1,4.7,4.1,3.9,11.6,5,32.1,3.2,21.1,4.2,11.2,33.6,20.3,3.1,8.7,16.5,7.5])\n",
    "Poverty = np.array([10.5,4.9,3.5,11.2,5.5,4.9,6.7,13.3,11.4, 5.4,4.5,4.3,3.9,3.5,9,3,30.5,4.4,12.8,1.4,7.2,23.1,13.6,4.5,7.2,14.5,8.9])\n",
    "Med_Income = np.array([75928,122789,130140,55431,81055,83500,115372,54176,63792,93849,152658,83104,127561,122704,79283,91426,33009,100833,64393,92094,73473,40907,52220,96804,75255,55098,56583])\n",
    "\n",
    "# plt.title('Poverty vs. No HS Diploma')\n",
    "# plt.ylabel('Poverty')\n",
    "# plt.xlabel('No HS Diploma')\n",
    "# plt.scatter(NoHighSchool,Poverty, label='No HS Education', color = 'purple', alpha=0.5)\n",
    "\n",
    "\n",
    "BSdegree = np.array([29.3,64.3,71.5,22.7,45.5,45.2,69.5,32.6,23.1,69.6,75.1,39.9,58.2,65.4,40.8,60,12.2,62.6,24.3,44.4,34,14.4,18.2,63.7,23.7,17.2,20.5])\n",
    "Poverty = np.array([10.5,4.9,3.5,11.2,5.5,4.9,6.7,13.3,11.4,5.4,4.5,4.3,3.9,3.5,9,3,30.5,4.4,12.8,1.4,7.2,23.1,13.6,4.5,7.2,14.5,8.9])\n",
    "\n",
    "df = pd.read_csv('Demographics.csv')\n",
    "# df = pd.read_csv('data.csv')\n",
    "# plt.title('Lake county IL. Demographics ')\n",
    "# plt.ylabel('Poverty')\n",
    "# plt.xlabel('BS Degree')\n",
    "# plt.scatter(BSdegree,Poverty, label='With BS Degrees', color = '#88c999', alpha=1)\n",
    "\n",
    "# plt.legend()\n",
    "# plt.show()"
   ]
  },
  {
   "cell_type": "code",
   "execution_count": 2,
   "metadata": {},
   "outputs": [
    {
     "data": {
      "text/html": [
       "        <script type=\"text/javascript\">\n",
       "        window.PlotlyConfig = {MathJaxConfig: 'local'};\n",
       "        if (window.MathJax) {MathJax.Hub.Config({SVG: {font: \"STIX-Web\"}});}\n",
       "        if (typeof require !== 'undefined') {\n",
       "        require.undef(\"plotly\");\n",
       "        requirejs.config({\n",
       "            paths: {\n",
       "                'plotly': ['https://cdn.plot.ly/plotly-latest.min']\n",
       "            }\n",
       "        });\n",
       "        require(['plotly'], function(Plotly) {\n",
       "            window._Plotly = Plotly;\n",
       "        });\n",
       "        }\n",
       "        </script>\n",
       "        "
      ]
     },
     "metadata": {},
     "output_type": "display_data"
    }
   ],
   "source": [
    "init_notebook_mode(connected=True)"
   ]
  },
  {
   "cell_type": "code",
   "execution_count": 3,
   "metadata": {},
   "outputs": [
    {
     "data": {
      "text/html": [
       "        <script type=\"text/javascript\">\n",
       "        window.PlotlyConfig = {MathJaxConfig: 'local'};\n",
       "        if (window.MathJax) {MathJax.Hub.Config({SVG: {font: \"STIX-Web\"}});}\n",
       "        if (typeof require !== 'undefined') {\n",
       "        require.undef(\"plotly\");\n",
       "        requirejs.config({\n",
       "            paths: {\n",
       "                'plotly': ['https://cdn.plot.ly/plotly-latest.min']\n",
       "            }\n",
       "        });\n",
       "        require(['plotly'], function(Plotly) {\n",
       "            window._Plotly = Plotly;\n",
       "        });\n",
       "        }\n",
       "        </script>\n",
       "        "
      ]
     },
     "metadata": {},
     "output_type": "display_data"
    }
   ],
   "source": [
    "cf.go_offline()"
   ]
  },
  {
   "cell_type": "markdown",
   "metadata": {},
   "source": [
    "# Define a Linear Regression Function in Python to find the relationship b/w variables.\n",
    "\n",
    "# In Machine Learning and in statistical modeling that relationship is used to  predict the outcome of future events.\n"
   ]
  },
  {
   "cell_type": "code",
   "execution_count": 15,
   "metadata": {},
   "outputs": [
    {
     "data": {
      "image/png": "[encoded data removed]",
      "text/plain": [
       "<Figure size 432x288 with 1 Axes>"
      ]
     },
     "metadata": {
      "needs_background": "light"
     },
     "output_type": "display_data"
    },
    {
     "name": "stdout",
     "output_type": "stream",
     "text": [
      "-0.7348512108953071\n",
      "1.2705871750858203e-05\n"
     ]
    }
   ],
   "source": [
    "slope, intercept, r, p, std_err = stats.linregress(BSdegree,Poverty) # Linear Regression\n",
    "\n",
    "def lin_regress(BSdegree):\n",
    "  return slope * BSdegree + intercept\n",
    "\n",
    "my_model = list(map(lin_regress, BSdegree))\n",
    "\n",
    "plt.scatter(BSdegree,Poverty, color='purple', alpha=0.5)\n",
    "plt.title('Lake county IL. Demographics ')\n",
    "plt.ylabel('Poverty')\n",
    "plt.xlabel('BS Degree')\n",
    "plt.plot(BSdegree, my_model)\n",
    "plt.show()\n",
    "print(r)\n",
    "print(p)"
   ]
  },
  {
   "cell_type": "code",
   "execution_count": 19,
   "metadata": {},
   "outputs": [
    {
     "data": {
      "image/png": "[encoded data removed]",
      "text/plain": [
       "<Figure size 432x288 with 1 Axes>"
      ]
     },
     "metadata": {
      "needs_background": "light"
     },
     "output_type": "display_data"
    },
    {
     "name": "stdout",
     "output_type": "stream",
     "text": [
      "-0.7523418345208827\n",
      "10.965912397764493\n"
     ]
    }
   ],
   "source": [
    "slope, intercept, r, p, std_err = stats.linregress(Med_Income,Poverty) # Linear Regression\n",
    "\n",
    "def lin_regress(Med_Income):\n",
    "  return slope * Med_Income + intercept\n",
    "\n",
    "my_model = list(map(lin_regress, Med_Income))\n",
    "\n",
    "plt.scatter(Med_Income,Poverty, color='purple', alpha = 0.5)\n",
    "\n",
    "new_income = lin_regress(70000) # Predict Future Values by passing in arguments for Med_Income\n",
    "\n",
    "\n",
    "\n",
    "plt.title('Lake county IL. Demographics ')\n",
    "plt.ylabel('Poverty')\n",
    "plt.xlabel('Medium Income')\n",
    "plt.plot(Med_Income, my_model)\n",
    "plt.show()\n",
    "print(r)\n",
    "print(new_income)"
   ]
  },
  {
   "cell_type": "code",
   "execution_count": 21,
   "metadata": {},
   "outputs": [
    {
     "data": {
      "image/png": "[encoded data removed]",
      "text/plain": [
       "<Figure size 432x288 with 1 Axes>"
      ]
     },
     "metadata": {
      "needs_background": "light"
     },
     "output_type": "display_data"
    },
    {
     "name": "stdout",
     "output_type": "stream",
     "text": [
      "0.9330273856590914\n",
      "19.267092028490648\n"
     ]
    }
   ],
   "source": [
    "slope, intercept, r, p, std_err = stats.linregress(NoHighSchool,Poverty) # Linear Regression\n",
    "\n",
    "def lin_regress(NoHighSchool):\n",
    "  return slope * NoHighSchool + intercept\n",
    "\n",
    "my_model = list(map(lin_regress, NoHighSchool))\n",
    "\n",
    "plt.scatter(NoHighSchool,Poverty, color='purple', alpha = 0.5)\n",
    "\n",
    "new_value = lin_regress(25) # Predict Future Values by passing in arguments for NoHighSchool\n",
    "\n",
    "\n",
    "\n",
    "plt.title('Lake county IL. Demographics ')\n",
    "plt.ylabel('Poverty')\n",
    "plt.xlabel('No HS Diploma')\n",
    "plt.plot(NoHighSchool, my_model)\n",
    "plt.show()\n",
    "print(r)\n",
    "print(new_value)"
   ]
  },
  {
   "cell_type": "code",
   "execution_count": 20,
   "metadata": {},
   "outputs": [
    {
     "name": "stdout",
     "output_type": "stream",
     "text": [
      "2.8536124306752953e-05\n"
     ]
    }
   ],
   "source": [
    "print(std_err)"
   ]
  },
  {
   "cell_type": "code",
   "execution_count": 7,
   "metadata": {},
   "outputs": [
    {
     "data": {
      "text/html": [
       "<div>\n",
       "<style scoped>\n",
       "    .dataframe tbody tr th:only-of-type {\n",
       "        vertical-align: middle;\n",
       "    }\n",
       "\n",
       "    .dataframe tbody tr th {\n",
       "        vertical-align: top;\n",
       "    }\n",
       "\n",
       "    .dataframe thead th {\n",
       "        text-align: right;\n",
       "    }\n",
       "</style>\n",
       "<table border=\"1\" class=\"dataframe\">\n",
       "  <thead>\n",
       "    <tr style=\"text-align: right;\">\n",
       "      <th></th>\n",
       "      <th>FID</th>\n",
       "      <th>ZIP</th>\n",
       "      <th>Total_Pop</th>\n",
       "      <th>White__</th>\n",
       "      <th>African_Am</th>\n",
       "      <th>Asian__</th>\n",
       "      <th>Hispanic_o</th>\n",
       "      <th>No_English</th>\n",
       "      <th>Under_5yea</th>\n",
       "      <th>Under_18ye</th>\n",
       "      <th>...</th>\n",
       "      <th>Female_</th>\n",
       "      <th>High_Schoo</th>\n",
       "      <th>Associate_</th>\n",
       "      <th>Bachelor_D</th>\n",
       "      <th>Food_Stamp</th>\n",
       "      <th>Med_Income</th>\n",
       "      <th>No_HS</th>\n",
       "      <th>Poverty</th>\n",
       "      <th>SHAPE_Length</th>\n",
       "      <th>SHAPE_Area</th>\n",
       "    </tr>\n",
       "  </thead>\n",
       "  <tbody>\n",
       "    <tr>\n",
       "      <th>0</th>\n",
       "      <td>1</td>\n",
       "      <td>60002</td>\n",
       "      <td>24305</td>\n",
       "      <td>88.648426</td>\n",
       "      <td>1.197285</td>\n",
       "      <td>2.493314</td>\n",
       "      <td>5.315779</td>\n",
       "      <td>10.2</td>\n",
       "      <td>5.6</td>\n",
       "      <td>24.1</td>\n",
       "      <td>...</td>\n",
       "      <td>46.858671</td>\n",
       "      <td>94.3</td>\n",
       "      <td>8.2</td>\n",
       "      <td>29.3</td>\n",
       "      <td>7.528748</td>\n",
       "      <td>75928</td>\n",
       "      <td>5.7</td>\n",
       "      <td>10.5</td>\n",
       "      <td>215525.15520</td>\n",
       "      <td>1.149062e+09</td>\n",
       "    </tr>\n",
       "    <tr>\n",
       "      <th>1</th>\n",
       "      <td>2</td>\n",
       "      <td>60010</td>\n",
       "      <td>44416</td>\n",
       "      <td>82.598613</td>\n",
       "      <td>0.569615</td>\n",
       "      <td>10.340868</td>\n",
       "      <td>4.723523</td>\n",
       "      <td>18.8</td>\n",
       "      <td>4.6</td>\n",
       "      <td>24.5</td>\n",
       "      <td>...</td>\n",
       "      <td>51.193264</td>\n",
       "      <td>97.2</td>\n",
       "      <td>5.4</td>\n",
       "      <td>64.3</td>\n",
       "      <td>2.462192</td>\n",
       "      <td>122789</td>\n",
       "      <td>2.8</td>\n",
       "      <td>4.9</td>\n",
       "      <td>178637.10960</td>\n",
       "      <td>8.027354e+08</td>\n",
       "    </tr>\n",
       "    <tr>\n",
       "      <th>2</th>\n",
       "      <td>3</td>\n",
       "      <td>60015</td>\n",
       "      <td>27373</td>\n",
       "      <td>88.528842</td>\n",
       "      <td>0.895043</td>\n",
       "      <td>4.460600</td>\n",
       "      <td>4.946480</td>\n",
       "      <td>17.0</td>\n",
       "      <td>4.7</td>\n",
       "      <td>26.5</td>\n",
       "      <td>...</td>\n",
       "      <td>51.006466</td>\n",
       "      <td>97.6</td>\n",
       "      <td>3.5</td>\n",
       "      <td>71.5</td>\n",
       "      <td>1.739495</td>\n",
       "      <td>130140</td>\n",
       "      <td>2.5</td>\n",
       "      <td>3.5</td>\n",
       "      <td>111400.89060</td>\n",
       "      <td>3.674576e+08</td>\n",
       "    </tr>\n",
       "    <tr>\n",
       "      <th>3</th>\n",
       "      <td>4</td>\n",
       "      <td>60020</td>\n",
       "      <td>10246</td>\n",
       "      <td>80.665626</td>\n",
       "      <td>1.542065</td>\n",
       "      <td>4.509077</td>\n",
       "      <td>12.590279</td>\n",
       "      <td>22.3</td>\n",
       "      <td>8.6</td>\n",
       "      <td>21.4</td>\n",
       "      <td>...</td>\n",
       "      <td>51.912942</td>\n",
       "      <td>88.9</td>\n",
       "      <td>7.9</td>\n",
       "      <td>22.7</td>\n",
       "      <td>14.162791</td>\n",
       "      <td>55431</td>\n",
       "      <td>11.2</td>\n",
       "      <td>11.2</td>\n",
       "      <td>92363.08463</td>\n",
       "      <td>1.666177e+08</td>\n",
       "    </tr>\n",
       "    <tr>\n",
       "      <th>4</th>\n",
       "      <td>5</td>\n",
       "      <td>60030</td>\n",
       "      <td>36563</td>\n",
       "      <td>77.594836</td>\n",
       "      <td>2.885431</td>\n",
       "      <td>5.688811</td>\n",
       "      <td>11.566338</td>\n",
       "      <td>16.1</td>\n",
       "      <td>5.7</td>\n",
       "      <td>25.3</td>\n",
       "      <td>...</td>\n",
       "      <td>50.214698</td>\n",
       "      <td>93.8</td>\n",
       "      <td>6.2</td>\n",
       "      <td>45.5</td>\n",
       "      <td>7.104066</td>\n",
       "      <td>81055</td>\n",
       "      <td>6.2</td>\n",
       "      <td>5.5</td>\n",
       "      <td>247258.22470</td>\n",
       "      <td>8.455179e+08</td>\n",
       "    </tr>\n",
       "  </tbody>\n",
       "</table>\n",
       "<p>5 rows × 23 columns</p>\n",
       "</div>"
      ],
      "text/plain": [
       "   FID    ZIP  Total_Pop    White__  African_Am    Asian__  Hispanic_o  \\\n",
       "0    1  60002      24305  88.648426    1.197285   2.493314    5.315779   \n",
       "1    2  60010      44416  82.598613    0.569615  10.340868    4.723523   \n",
       "2    3  60015      27373  88.528842    0.895043   4.460600    4.946480   \n",
       "3    4  60020      10246  80.665626    1.542065   4.509077   12.590279   \n",
       "4    5  60030      36563  77.594836    2.885431   5.688811   11.566338   \n",
       "\n",
       "   No_English  Under_5yea  Under_18ye  ...    Female_  High_Schoo  Associate_  \\\n",
       "0        10.2         5.6        24.1  ...  46.858671        94.3         8.2   \n",
       "1        18.8         4.6        24.5  ...  51.193264        97.2         5.4   \n",
       "2        17.0         4.7        26.5  ...  51.006466        97.6         3.5   \n",
       "3        22.3         8.6        21.4  ...  51.912942        88.9         7.9   \n",
       "4        16.1         5.7        25.3  ...  50.214698        93.8         6.2   \n",
       "\n",
       "   Bachelor_D  Food_Stamp  Med_Income  No_HS  Poverty  SHAPE_Length  \\\n",
       "0        29.3    7.528748       75928    5.7     10.5  215525.15520   \n",
       "1        64.3    2.462192      122789    2.8      4.9  178637.10960   \n",
       "2        71.5    1.739495      130140    2.5      3.5  111400.89060   \n",
       "3        22.7   14.162791       55431   11.2     11.2   92363.08463   \n",
       "4        45.5    7.104066       81055    6.2      5.5  247258.22470   \n",
       "\n",
       "     SHAPE_Area  \n",
       "0  1.149062e+09  \n",
       "1  8.027354e+08  \n",
       "2  3.674576e+08  \n",
       "3  1.666177e+08  \n",
       "4  8.455179e+08  \n",
       "\n",
       "[5 rows x 23 columns]"
      ]
     },
     "execution_count": 7,
     "metadata": {},
     "output_type": "execute_result"
    }
   ],
   "source": [
    "df.head()"
   ]
  },
  {
   "cell_type": "code",
   "execution_count": 8,
   "metadata": {},
   "outputs": [
    {
     "data": {
      "text/plain": [
       "27"
      ]
     },
     "execution_count": 8,
     "metadata": {},
     "output_type": "execute_result"
    }
   ],
   "source": [
    "len(df)"
   ]
  },
  {
   "cell_type": "code",
   "execution_count": 9,
   "metadata": {},
   "outputs": [
    {
     "data": {
      "text/plain": [
       "<seaborn.axisgrid.FacetGrid at 0x1ae9c79da00>"
      ]
     },
     "execution_count": 9,
     "metadata": {},
     "output_type": "execute_result"
    },
    {
     "data": {
      "image/png": "[encoded data removed]",
      "text/plain": [
       "<Figure size 360x360 with 1 Axes>"
      ]
     },
     "metadata": {
      "needs_background": "light"
     },
     "output_type": "display_data"
    }
   ],
   "source": [
    "sns.displot(df['Med_Income'], kde = True, color = 'purple')"
   ]
  },
  {
   "cell_type": "code",
   "execution_count": 10,
   "metadata": {},
   "outputs": [
    {
     "data": {
      "text/plain": [
       "<seaborn.axisgrid.FacetGrid at 0x1ae9e882f40>"
      ]
     },
     "execution_count": 10,
     "metadata": {},
     "output_type": "execute_result"
    },
    {
     "data": {
      "image/png": "[encoded data removed]",
      "text/plain": [
       "<Figure size 360x360 with 1 Axes>"
      ]
     },
     "metadata": {
      "needs_background": "light"
     },
     "output_type": "display_data"
    }
   ],
   "source": [
    "sns.displot(df['Poverty'], kde = True, color = 'gold')"
   ]
  },
  {
   "cell_type": "code",
   "execution_count": 11,
   "metadata": {},
   "outputs": [
    {
     "data": {
      "application/vnd.plotly.v1+json": {
       "config": {
        "plotlyServerURL": "https://plot.ly"
       },
       "data": [
        {
         "colorbar": {
          "title": {
           "text": "Millions USD"
          }
         },
         "colorscale": [
          [
           0,
           "rgb(255,245,240)"
          ],
          [
           0.125,
           "rgb(254,224,210)"
          ],
          [
           0.25,
           "rgb(252,187,161)"
          ],
          [
           0.375,
           "rgb(252,146,114)"
          ],
          [
           0.5,
           "rgb(251,106,74)"
          ],
          [
           0.625,
           "rgb(239,59,44)"
          ],
          [
           0.75,
           "rgb(203,24,29)"
          ],
          [
           0.875,
           "rgb(165,15,21)"
          ],
          [
           1,
           "rgb(103,0,13)"
          ]
         ],
         "locationmode": "USA-states",
         "locations": [
          "AL",
          "AK",
          "AZ",
          "AR",
          "CA",
          "CO",
          "CT",
          "DE",
          "FL",
          "GA",
          "HI",
          "ID",
          "IL",
          "IN",
          "IA",
          "KS",
          "KY",
          "LA",
          "ME",
          "MD",
          "MA",
          "MI",
          "MN",
          "MS",
          "MO",
          "MT",
          "NE",
          "NV",
          "NH",
          "NJ",
          "NM",
          "NY",
          "NC",
          "ND",
          "OH",
          "OK",
          "OR",
          "PA",
          "RI",
          "SC",
          "SD",
          "TN",
          "TX",
          "UT",
          "VT",
          "VA",
          "WA",
          "WV",
          "WI",
          "WY"
         ],
         "type": "choropleth",
         "z": [
          1390.63,
          13.31,
          1463.17,
          3586.02,
          16472.88,
          1851.33,
          259.62,
          282.19,
          3764.09,
          2860.84,
          401.84,
          2078.89,
          8709.48,
          5050.23,
          11273.76,
          4589.01,
          1889.15,
          1914.23,
          278.37,
          692.75,
          248.65,
          3164.16,
          7192.33,
          2170.8,
          3933.42,
          1718,
          7114.13,
          139.89,
          73.06,
          500.4,
          751.58,
          1488.9,
          3806.05,
          3761.96,
          3979.79,
          1646.41,
          1794.57,
          1969.87,
          31.59,
          929.93,
          3770.19,
          1535.13,
          6648.22,
          453.39,
          180.14,
          1146.48,
          3894.81,
          138.89,
          3090.23,
          349.69
         ]
        }
       ],
       "layout": {
        "geo": {
         "scope": "usa"
        },
        "template": {
         "data": {
          "bar": [
           {
            "error_x": {
             "color": "#2a3f5f"
            },
            "error_y": {
             "color": "#2a3f5f"
            },
            "marker": {
             "line": {
              "color": "#E5ECF6",
              "width": 0.5
             }
            },
            "type": "bar"
           }
          ],
          "barpolar": [
           {
            "marker": {
             "line": {
              "color": "#E5ECF6",
              "width": 0.5
             }
            },
            "type": "barpolar"
           }
          ],
          "carpet": [
           {
            "aaxis": {
             "endlinecolor": "#2a3f5f",
             "gridcolor": "white",
             "linecolor": "white",
             "minorgridcolor": "white",
             "startlinecolor": "#2a3f5f"
            },
            "baxis": {
             "endlinecolor": "#2a3f5f",
             "gridcolor": "white",
             "linecolor": "white",
             "minorgridcolor": "white",
             "startlinecolor": "#2a3f5f"
            },
            "type": "carpet"
           }
          ],
          "choropleth": [
           {
            "colorbar": {
             "outlinewidth": 0,
             "ticks": ""
            },
            "type": "choropleth"
           }
          ],
          "contour": [
           {
            "colorbar": {
             "outlinewidth": 0,
             "ticks": ""
            },
            "colorscale": [
             [
              0,
              "#0d0887"
             ],
             [
              0.1111111111111111,
              "#46039f"
             ],
             [
              0.2222222222222222,
              "#7201a8"
             ],
             [
              0.3333333333333333,
              "#9c179e"
             ],
             [
              0.4444444444444444,
              "#bd3786"
             ],
             [
              0.5555555555555556,
              "#d8576b"
             ],
             [
              0.6666666666666666,
              "#ed7953"
             ],
             [
              0.7777777777777778,
              "#fb9f3a"
             ],
             [
              0.8888888888888888,
              "#fdca26"
             ],
             [
              1,
              "#f0f921"
             ]
            ],
            "type": "contour"
           }
          ],
          "contourcarpet": [
           {
            "colorbar": {
             "outlinewidth": 0,
             "ticks": ""
            },
            "type": "contourcarpet"
           }
          ],
          "heatmap": [
           {
            "colorbar": {
             "outlinewidth": 0,
             "ticks": ""
            },
            "colorscale": [
             [
              0,
              "#0d0887"
             ],
             [
              0.1111111111111111,
              "#46039f"
             ],
             [
              0.2222222222222222,
              "#7201a8"
             ],
             [
              0.3333333333333333,
              "#9c179e"
             ],
             [
              0.4444444444444444,
              "#bd3786"
             ],
             [
              0.5555555555555556,
              "#d8576b"
             ],
             [
              0.6666666666666666,
              "#ed7953"
             ],
             [
              0.7777777777777778,
              "#fb9f3a"
             ],
             [
              0.8888888888888888,
              "#fdca26"
             ],
             [
              1,
              "#f0f921"
             ]
            ],
            "type": "heatmap"
           }
          ],
          "heatmapgl": [
           {
            "colorbar": {
             "outlinewidth": 0,
             "ticks": ""
            },
            "colorscale": [
             [
              0,
              "#0d0887"
             ],
             [
              0.1111111111111111,
              "#46039f"
             ],
             [
              0.2222222222222222,
              "#7201a8"
             ],
             [
              0.3333333333333333,
              "#9c179e"
             ],
             [
              0.4444444444444444,
              "#bd3786"
             ],
             [
              0.5555555555555556,
              "#d8576b"
             ],
             [
              0.6666666666666666,
              "#ed7953"
             ],
             [
              0.7777777777777778,
              "#fb9f3a"
             ],
             [
              0.8888888888888888,
              "#fdca26"
             ],
             [
              1,
              "#f0f921"
             ]
            ],
            "type": "heatmapgl"
           }
          ],
          "histogram": [
           {
            "marker": {
             "colorbar": {
              "outlinewidth": 0,
              "ticks": ""
             }
            },
            "type": "histogram"
           }
          ],
          "histogram2d": [
           {
            "colorbar": {
             "outlinewidth": 0,
             "ticks": ""
            },
            "colorscale": [
             [
              0,
              "#0d0887"
             ],
             [
              0.1111111111111111,
              "#46039f"
             ],
             [
              0.2222222222222222,
              "#7201a8"
             ],
             [
              0.3333333333333333,
              "#9c179e"
             ],
             [
              0.4444444444444444,
              "#bd3786"
             ],
             [
              0.5555555555555556,
              "#d8576b"
             ],
             [
              0.6666666666666666,
              "#ed7953"
             ],
             [
              0.7777777777777778,
              "#fb9f3a"
             ],
             [
              0.8888888888888888,
              "#fdca26"
             ],
             [
              1,
              "#f0f921"
             ]
            ],
            "type": "histogram2d"
           }
          ],
          "histogram2dcontour": [
           {
            "colorbar": {
             "outlinewidth": 0,
             "ticks": ""
            },
            "colorscale": [
             [
              0,
              "#0d0887"
             ],
             [
              0.1111111111111111,
              "#46039f"
             ],
             [
              0.2222222222222222,
              "#7201a8"
             ],
             [
              0.3333333333333333,
              "#9c179e"
             ],
             [
              0.4444444444444444,
              "#bd3786"
             ],
             [
              0.5555555555555556,
              "#d8576b"
             ],
             [
              0.6666666666666666,
              "#ed7953"
             ],
             [
              0.7777777777777778,
              "#fb9f3a"
             ],
             [
              0.8888888888888888,
              "#fdca26"
             ],
             [
              1,
              "#f0f921"
             ]
            ],
            "type": "histogram2dcontour"
           }
          ],
          "mesh3d": [
           {
            "colorbar": {
             "outlinewidth": 0,
             "ticks": ""
            },
            "type": "mesh3d"
           }
          ],
          "parcoords": [
           {
            "line": {
             "colorbar": {
              "outlinewidth": 0,
              "ticks": ""
             }
            },
            "type": "parcoords"
           }
          ],
          "pie": [
           {
            "automargin": true,
            "type": "pie"
           }
          ],
          "scatter": [
           {
            "marker": {
             "colorbar": {
              "outlinewidth": 0,
              "ticks": ""
             }
            },
            "type": "scatter"
           }
          ],
          "scatter3d": [
           {
            "line": {
             "colorbar": {
              "outlinewidth": 0,
              "ticks": ""
             }
            },
            "marker": {
             "colorbar": {
              "outlinewidth": 0,
              "ticks": ""
             }
            },
            "type": "scatter3d"
           }
          ],
          "scattercarpet": [
           {
            "marker": {
             "colorbar": {
              "outlinewidth": 0,
              "ticks": ""
             }
            },
            "type": "scattercarpet"
           }
          ],
          "scattergeo": [
           {
            "marker": {
             "colorbar": {
              "outlinewidth": 0,
              "ticks": ""
             }
            },
            "type": "scattergeo"
           }
          ],
          "scattergl": [
           {
            "marker": {
             "colorbar": {
              "outlinewidth": 0,
              "ticks": ""
             }
            },
            "type": "scattergl"
           }
          ],
          "scattermapbox": [
           {
            "marker": {
             "colorbar": {
              "outlinewidth": 0,
              "ticks": ""
             }
            },
            "type": "scattermapbox"
           }
          ],
          "scatterpolar": [
           {
            "marker": {
             "colorbar": {
              "outlinewidth": 0,
              "ticks": ""
             }
            },
            "type": "scatterpolar"
           }
          ],
          "scatterpolargl": [
           {
            "marker": {
             "colorbar": {
              "outlinewidth": 0,
              "ticks": ""
             }
            },
            "type": "scatterpolargl"
           }
          ],
          "scatterternary": [
           {
            "marker": {
             "colorbar": {
              "outlinewidth": 0,
              "ticks": ""
             }
            },
            "type": "scatterternary"
           }
          ],
          "surface": [
           {
            "colorbar": {
             "outlinewidth": 0,
             "ticks": ""
            },
            "colorscale": [
             [
              0,
              "#0d0887"
             ],
             [
              0.1111111111111111,
              "#46039f"
             ],
             [
              0.2222222222222222,
              "#7201a8"
             ],
             [
              0.3333333333333333,
              "#9c179e"
             ],
             [
              0.4444444444444444,
              "#bd3786"
             ],
             [
              0.5555555555555556,
              "#d8576b"
             ],
             [
              0.6666666666666666,
              "#ed7953"
             ],
             [
              0.7777777777777778,
              "#fb9f3a"
             ],
             [
              0.8888888888888888,
              "#fdca26"
             ],
             [
              1,
              "#f0f921"
             ]
            ],
            "type": "surface"
           }
          ],
          "table": [
           {
            "cells": {
             "fill": {
              "color": "#EBF0F8"
             },
             "line": {
              "color": "white"
             }
            },
            "header": {
             "fill": {
              "color": "#C8D4E3"
             },
             "line": {
              "color": "white"
             }
            },
            "type": "table"
           }
          ]
         },
         "layout": {
          "annotationdefaults": {
           "arrowcolor": "#2a3f5f",
           "arrowhead": 0,
           "arrowwidth": 1
          },
          "autotypenumbers": "strict",
          "coloraxis": {
           "colorbar": {
            "outlinewidth": 0,
            "ticks": ""
           }
          },
          "colorscale": {
           "diverging": [
            [
             0,
             "#8e0152"
            ],
            [
             0.1,
             "#c51b7d"
            ],
            [
             0.2,
             "#de77ae"
            ],
            [
             0.3,
             "#f1b6da"
            ],
            [
             0.4,
             "#fde0ef"
            ],
            [
             0.5,
             "#f7f7f7"
            ],
            [
             0.6,
             "#e6f5d0"
            ],
            [
             0.7,
             "#b8e186"
            ],
            [
             0.8,
             "#7fbc41"
            ],
            [
             0.9,
             "#4d9221"
            ],
            [
             1,
             "#276419"
            ]
           ],
           "sequential": [
            [
             0,
             "#0d0887"
            ],
            [
             0.1111111111111111,
             "#46039f"
            ],
            [
             0.2222222222222222,
             "#7201a8"
            ],
            [
             0.3333333333333333,
             "#9c179e"
            ],
            [
             0.4444444444444444,
             "#bd3786"
            ],
            [
             0.5555555555555556,
             "#d8576b"
            ],
            [
             0.6666666666666666,
             "#ed7953"
            ],
            [
             0.7777777777777778,
             "#fb9f3a"
            ],
            [
             0.8888888888888888,
             "#fdca26"
            ],
            [
             1,
             "#f0f921"
            ]
           ],
           "sequentialminus": [
            [
             0,
             "#0d0887"
            ],
            [
             0.1111111111111111,
             "#46039f"
            ],
            [
             0.2222222222222222,
             "#7201a8"
            ],
            [
             0.3333333333333333,
             "#9c179e"
            ],
            [
             0.4444444444444444,
             "#bd3786"
            ],
            [
             0.5555555555555556,
             "#d8576b"
            ],
            [
             0.6666666666666666,
             "#ed7953"
            ],
            [
             0.7777777777777778,
             "#fb9f3a"
            ],
            [
             0.8888888888888888,
             "#fdca26"
            ],
            [
             1,
             "#f0f921"
            ]
           ]
          },
          "colorway": [
           "#636efa",
           "#EF553B",
           "#00cc96",
           "#ab63fa",
           "#FFA15A",
           "#19d3f3",
           "#FF6692",
           "#B6E880",
           "#FF97FF",
           "#FECB52"
          ],
          "font": {
           "color": "#2a3f5f"
          },
          "geo": {
           "bgcolor": "white",
           "lakecolor": "white",
           "landcolor": "#E5ECF6",
           "showlakes": true,
           "showland": true,
           "subunitcolor": "white"
          },
          "hoverlabel": {
           "align": "left"
          },
          "hovermode": "closest",
          "mapbox": {
           "style": "light"
          },
          "paper_bgcolor": "white",
          "plot_bgcolor": "#E5ECF6",
          "polar": {
           "angularaxis": {
            "gridcolor": "white",
            "linecolor": "white",
            "ticks": ""
           },
           "bgcolor": "#E5ECF6",
           "radialaxis": {
            "gridcolor": "white",
            "linecolor": "white",
            "ticks": ""
           }
          },
          "scene": {
           "xaxis": {
            "backgroundcolor": "#E5ECF6",
            "gridcolor": "white",
            "gridwidth": 2,
            "linecolor": "white",
            "showbackground": true,
            "ticks": "",
            "zerolinecolor": "white"
           },
           "yaxis": {
            "backgroundcolor": "#E5ECF6",
            "gridcolor": "white",
            "gridwidth": 2,
            "linecolor": "white",
            "showbackground": true,
            "ticks": "",
            "zerolinecolor": "white"
           },
           "zaxis": {
            "backgroundcolor": "#E5ECF6",
            "gridcolor": "white",
            "gridwidth": 2,
            "linecolor": "white",
            "showbackground": true,
            "ticks": "",
            "zerolinecolor": "white"
           }
          },
          "shapedefaults": {
           "line": {
            "color": "#2a3f5f"
           }
          },
          "ternary": {
           "aaxis": {
            "gridcolor": "white",
            "linecolor": "white",
            "ticks": ""
           },
           "baxis": {
            "gridcolor": "white",
            "linecolor": "white",
            "ticks": ""
           },
           "bgcolor": "#E5ECF6",
           "caxis": {
            "gridcolor": "white",
            "linecolor": "white",
            "ticks": ""
           }
          },
          "title": {
           "x": 0.05
          },
          "xaxis": {
           "automargin": true,
           "gridcolor": "white",
           "linecolor": "white",
           "ticks": "",
           "title": {
            "standoff": 15
           },
           "zerolinecolor": "white",
           "zerolinewidth": 2
          },
          "yaxis": {
           "automargin": true,
           "gridcolor": "white",
           "linecolor": "white",
           "ticks": "",
           "title": {
            "standoff": 15
           },
           "zerolinecolor": "white",
           "zerolinewidth": 2
          }
         }
        },
        "title": {
         "text": "2011 US Agriculture Exports by State"
        }
       }
      },
      "text/html": [
       "<div>                            <div id=\"e1f64712-28bd-47cf-936d-1486bb7bdd57\" class=\"plotly-graph-div\" style=\"height:525px; width:100%;\"></div>            <script type=\"text/javascript\">                require([\"plotly\"], function(Plotly) {                    window.PLOTLYENV=window.PLOTLYENV || {};                                    if (document.getElementById(\"e1f64712-28bd-47cf-936d-1486bb7bdd57\")) {                    Plotly.newPlot(                        \"e1f64712-28bd-47cf-936d-1486bb7bdd57\",                        [{\"colorbar\": {\"title\": {\"text\": \"Millions USD\"}}, \"colorscale\": [[0.0, \"rgb(255,245,240)\"], [0.125, \"rgb(254,224,210)\"], [0.25, \"rgb(252,187,161)\"], [0.375, \"rgb(252,146,114)\"], [0.5, \"rgb(251,106,74)\"], [0.625, \"rgb(239,59,44)\"], [0.75, \"rgb(203,24,29)\"], [0.875, \"rgb(165,15,21)\"], [1.0, \"rgb(103,0,13)\"]], \"locationmode\": \"USA-states\", \"locations\": [\"AL\", \"AK\", \"AZ\", \"AR\", \"CA\", \"CO\", \"CT\", \"DE\", \"FL\", \"GA\", \"HI\", \"ID\", \"IL\", \"IN\", \"IA\", \"KS\", \"KY\", \"LA\", \"ME\", \"MD\", \"MA\", \"MI\", \"MN\", \"MS\", \"MO\", \"MT\", \"NE\", \"NV\", \"NH\", \"NJ\", \"NM\", \"NY\", \"NC\", \"ND\", \"OH\", \"OK\", \"OR\", \"PA\", \"RI\", \"SC\", \"SD\", \"TN\", \"TX\", \"UT\", \"VT\", \"VA\", \"WA\", \"WV\", \"WI\", \"WY\"], \"type\": \"choropleth\", \"z\": [1390.63, 13.31, 1463.17, 3586.02, 16472.88, 1851.33, 259.62, 282.19, 3764.09, 2860.84, 401.84, 2078.89, 8709.48, 5050.23, 11273.76, 4589.01, 1889.15, 1914.23, 278.37, 692.75, 248.65, 3164.16, 7192.33, 2170.8, 3933.42, 1718.0, 7114.13, 139.89, 73.06, 500.4, 751.58, 1488.9, 3806.05, 3761.96, 3979.79, 1646.41, 1794.57, 1969.87, 31.59, 929.93, 3770.19, 1535.13, 6648.22, 453.39, 180.14, 1146.48, 3894.81, 138.89, 3090.23, 349.69]}],                        {\"geo\": {\"scope\": \"usa\"}, \"template\": {\"data\": {\"bar\": [{\"error_x\": {\"color\": \"#2a3f5f\"}, \"error_y\": {\"color\": \"#2a3f5f\"}, \"marker\": {\"line\": {\"color\": \"#E5ECF6\", \"width\": 0.5}}, \"type\": \"bar\"}], \"barpolar\": [{\"marker\": {\"line\": {\"color\": \"#E5ECF6\", \"width\": 0.5}}, \"type\": \"barpolar\"}], \"carpet\": [{\"aaxis\": {\"endlinecolor\": \"#2a3f5f\", \"gridcolor\": \"white\", \"linecolor\": \"white\", \"minorgridcolor\": \"white\", \"startlinecolor\": \"#2a3f5f\"}, \"baxis\": {\"endlinecolor\": \"#2a3f5f\", \"gridcolor\": \"white\", \"linecolor\": \"white\", \"minorgridcolor\": \"white\", \"startlinecolor\": \"#2a3f5f\"}, \"type\": \"carpet\"}], \"choropleth\": [{\"colorbar\": {\"outlinewidth\": 0, \"ticks\": \"\"}, \"type\": \"choropleth\"}], \"contour\": [{\"colorbar\": {\"outlinewidth\": 0, \"ticks\": \"\"}, \"colorscale\": [[0.0, \"#0d0887\"], [0.1111111111111111, \"#46039f\"], [0.2222222222222222, \"#7201a8\"], [0.3333333333333333, \"#9c179e\"], [0.4444444444444444, \"#bd3786\"], [0.5555555555555556, \"#d8576b\"], [0.6666666666666666, \"#ed7953\"], [0.7777777777777778, \"#fb9f3a\"], [0.8888888888888888, \"#fdca26\"], [1.0, \"#f0f921\"]], \"type\": \"contour\"}], \"contourcarpet\": [{\"colorbar\": {\"outlinewidth\": 0, \"ticks\": \"\"}, \"type\": \"contourcarpet\"}], \"heatmap\": [{\"colorbar\": {\"outlinewidth\": 0, \"ticks\": \"\"}, \"colorscale\": [[0.0, \"#0d0887\"], [0.1111111111111111, \"#46039f\"], [0.2222222222222222, \"#7201a8\"], [0.3333333333333333, \"#9c179e\"], [0.4444444444444444, \"#bd3786\"], [0.5555555555555556, \"#d8576b\"], [0.6666666666666666, \"#ed7953\"], [0.7777777777777778, \"#fb9f3a\"], [0.8888888888888888, \"#fdca26\"], [1.0, \"#f0f921\"]], \"type\": \"heatmap\"}], \"heatmapgl\": [{\"colorbar\": {\"outlinewidth\": 0, \"ticks\": \"\"}, \"colorscale\": [[0.0, \"#0d0887\"], [0.1111111111111111, \"#46039f\"], [0.2222222222222222, \"#7201a8\"], [0.3333333333333333, \"#9c179e\"], [0.4444444444444444, \"#bd3786\"], [0.5555555555555556, \"#d8576b\"], [0.6666666666666666, \"#ed7953\"], [0.7777777777777778, \"#fb9f3a\"], [0.8888888888888888, \"#fdca26\"], [1.0, \"#f0f921\"]], \"type\": \"heatmapgl\"}], \"histogram\": [{\"marker\": {\"colorbar\": {\"outlinewidth\": 0, \"ticks\": \"\"}}, \"type\": \"histogram\"}], \"histogram2d\": [{\"colorbar\": {\"outlinewidth\": 0, \"ticks\": \"\"}, \"colorscale\": [[0.0, \"#0d0887\"], [0.1111111111111111, \"#46039f\"], [0.2222222222222222, \"#7201a8\"], [0.3333333333333333, \"#9c179e\"], [0.4444444444444444, \"#bd3786\"], [0.5555555555555556, \"#d8576b\"], [0.6666666666666666, \"#ed7953\"], [0.7777777777777778, \"#fb9f3a\"], [0.8888888888888888, \"#fdca26\"], [1.0, \"#f0f921\"]], \"type\": \"histogram2d\"}], \"histogram2dcontour\": [{\"colorbar\": {\"outlinewidth\": 0, \"ticks\": \"\"}, \"colorscale\": [[0.0, \"#0d0887\"], [0.1111111111111111, \"#46039f\"], [0.2222222222222222, \"#7201a8\"], [0.3333333333333333, \"#9c179e\"], [0.4444444444444444, \"#bd3786\"], [0.5555555555555556, \"#d8576b\"], [0.6666666666666666, \"#ed7953\"], [0.7777777777777778, \"#fb9f3a\"], [0.8888888888888888, \"#fdca26\"], [1.0, \"#f0f921\"]], \"type\": \"histogram2dcontour\"}], \"mesh3d\": [{\"colorbar\": {\"outlinewidth\": 0, \"ticks\": \"\"}, \"type\": \"mesh3d\"}], \"parcoords\": [{\"line\": {\"colorbar\": {\"outlinewidth\": 0, \"ticks\": \"\"}}, \"type\": \"parcoords\"}], \"pie\": [{\"automargin\": true, \"type\": \"pie\"}], \"scatter\": [{\"marker\": {\"colorbar\": {\"outlinewidth\": 0, \"ticks\": \"\"}}, \"type\": \"scatter\"}], \"scatter3d\": [{\"line\": {\"colorbar\": {\"outlinewidth\": 0, \"ticks\": \"\"}}, \"marker\": {\"colorbar\": {\"outlinewidth\": 0, \"ticks\": \"\"}}, \"type\": \"scatter3d\"}], \"scattercarpet\": [{\"marker\": {\"colorbar\": {\"outlinewidth\": 0, \"ticks\": \"\"}}, \"type\": \"scattercarpet\"}], \"scattergeo\": [{\"marker\": {\"colorbar\": {\"outlinewidth\": 0, \"ticks\": \"\"}}, \"type\": \"scattergeo\"}], \"scattergl\": [{\"marker\": {\"colorbar\": {\"outlinewidth\": 0, \"ticks\": \"\"}}, \"type\": \"scattergl\"}], \"scattermapbox\": [{\"marker\": {\"colorbar\": {\"outlinewidth\": 0, \"ticks\": \"\"}}, \"type\": \"scattermapbox\"}], \"scatterpolar\": [{\"marker\": {\"colorbar\": {\"outlinewidth\": 0, \"ticks\": \"\"}}, \"type\": \"scatterpolar\"}], \"scatterpolargl\": [{\"marker\": {\"colorbar\": {\"outlinewidth\": 0, \"ticks\": \"\"}}, \"type\": \"scatterpolargl\"}], \"scatterternary\": [{\"marker\": {\"colorbar\": {\"outlinewidth\": 0, \"ticks\": \"\"}}, \"type\": \"scatterternary\"}], \"surface\": [{\"colorbar\": {\"outlinewidth\": 0, \"ticks\": \"\"}, \"colorscale\": [[0.0, \"#0d0887\"], [0.1111111111111111, \"#46039f\"], [0.2222222222222222, \"#7201a8\"], [0.3333333333333333, \"#9c179e\"], [0.4444444444444444, \"#bd3786\"], [0.5555555555555556, \"#d8576b\"], [0.6666666666666666, \"#ed7953\"], [0.7777777777777778, \"#fb9f3a\"], [0.8888888888888888, \"#fdca26\"], [1.0, \"#f0f921\"]], \"type\": \"surface\"}], \"table\": [{\"cells\": {\"fill\": {\"color\": \"#EBF0F8\"}, \"line\": {\"color\": \"white\"}}, \"header\": {\"fill\": {\"color\": \"#C8D4E3\"}, \"line\": {\"color\": \"white\"}}, \"type\": \"table\"}]}, \"layout\": {\"annotationdefaults\": {\"arrowcolor\": \"#2a3f5f\", \"arrowhead\": 0, \"arrowwidth\": 1}, \"autotypenumbers\": \"strict\", \"coloraxis\": {\"colorbar\": {\"outlinewidth\": 0, \"ticks\": \"\"}}, \"colorscale\": {\"diverging\": [[0, \"#8e0152\"], [0.1, \"#c51b7d\"], [0.2, \"#de77ae\"], [0.3, \"#f1b6da\"], [0.4, \"#fde0ef\"], [0.5, \"#f7f7f7\"], [0.6, \"#e6f5d0\"], [0.7, \"#b8e186\"], [0.8, \"#7fbc41\"], [0.9, \"#4d9221\"], [1, \"#276419\"]], \"sequential\": [[0.0, \"#0d0887\"], [0.1111111111111111, \"#46039f\"], [0.2222222222222222, \"#7201a8\"], [0.3333333333333333, \"#9c179e\"], [0.4444444444444444, \"#bd3786\"], [0.5555555555555556, \"#d8576b\"], [0.6666666666666666, \"#ed7953\"], [0.7777777777777778, \"#fb9f3a\"], [0.8888888888888888, \"#fdca26\"], [1.0, \"#f0f921\"]], \"sequentialminus\": [[0.0, \"#0d0887\"], [0.1111111111111111, \"#46039f\"], [0.2222222222222222, \"#7201a8\"], [0.3333333333333333, \"#9c179e\"], [0.4444444444444444, \"#bd3786\"], [0.5555555555555556, \"#d8576b\"], [0.6666666666666666, \"#ed7953\"], [0.7777777777777778, \"#fb9f3a\"], [0.8888888888888888, \"#fdca26\"], [1.0, \"#f0f921\"]]}, \"colorway\": [\"#636efa\", \"#EF553B\", \"#00cc96\", \"#ab63fa\", \"#FFA15A\", \"#19d3f3\", \"#FF6692\", \"#B6E880\", \"#FF97FF\", \"#FECB52\"], \"font\": {\"color\": \"#2a3f5f\"}, \"geo\": {\"bgcolor\": \"white\", \"lakecolor\": \"white\", \"landcolor\": \"#E5ECF6\", \"showlakes\": true, \"showland\": true, \"subunitcolor\": \"white\"}, \"hoverlabel\": {\"align\": \"left\"}, \"hovermode\": \"closest\", \"mapbox\": {\"style\": \"light\"}, \"paper_bgcolor\": \"white\", \"plot_bgcolor\": \"#E5ECF6\", \"polar\": {\"angularaxis\": {\"gridcolor\": \"white\", \"linecolor\": \"white\", \"ticks\": \"\"}, \"bgcolor\": \"#E5ECF6\", \"radialaxis\": {\"gridcolor\": \"white\", \"linecolor\": \"white\", \"ticks\": \"\"}}, \"scene\": {\"xaxis\": {\"backgroundcolor\": \"#E5ECF6\", \"gridcolor\": \"white\", \"gridwidth\": 2, \"linecolor\": \"white\", \"showbackground\": true, \"ticks\": \"\", \"zerolinecolor\": \"white\"}, \"yaxis\": {\"backgroundcolor\": \"#E5ECF6\", \"gridcolor\": \"white\", \"gridwidth\": 2, \"linecolor\": \"white\", \"showbackground\": true, \"ticks\": \"\", \"zerolinecolor\": \"white\"}, \"zaxis\": {\"backgroundcolor\": \"#E5ECF6\", \"gridcolor\": \"white\", \"gridwidth\": 2, \"linecolor\": \"white\", \"showbackground\": true, \"ticks\": \"\", \"zerolinecolor\": \"white\"}}, \"shapedefaults\": {\"line\": {\"color\": \"#2a3f5f\"}}, \"ternary\": {\"aaxis\": {\"gridcolor\": \"white\", \"linecolor\": \"white\", \"ticks\": \"\"}, \"baxis\": {\"gridcolor\": \"white\", \"linecolor\": \"white\", \"ticks\": \"\"}, \"bgcolor\": \"#E5ECF6\", \"caxis\": {\"gridcolor\": \"white\", \"linecolor\": \"white\", \"ticks\": \"\"}}, \"title\": {\"x\": 0.05}, \"xaxis\": {\"automargin\": true, \"gridcolor\": \"white\", \"linecolor\": \"white\", \"ticks\": \"\", \"title\": {\"standoff\": 15}, \"zerolinecolor\": \"white\", \"zerolinewidth\": 2}, \"yaxis\": {\"automargin\": true, \"gridcolor\": \"white\", \"linecolor\": \"white\", \"ticks\": \"\", \"title\": {\"standoff\": 15}, \"zerolinecolor\": \"white\", \"zerolinewidth\": 2}}}, \"title\": {\"text\": \"2011 US Agriculture Exports by State\"}},                        {\"responsive\": true}                    ).then(function(){\n",
       "                            \n",
       "var gd = document.getElementById('e1f64712-28bd-47cf-936d-1486bb7bdd57');\n",
       "var x = new MutationObserver(function (mutations, observer) {{\n",
       "        var display = window.getComputedStyle(gd).display;\n",
       "        if (!display || display === 'none') {{\n",
       "            console.log([gd, 'removed!']);\n",
       "            Plotly.purge(gd);\n",
       "            observer.disconnect();\n",
       "        }}\n",
       "}});\n",
       "\n",
       "// Listen for the removal of the full notebook cells\n",
       "var notebookContainer = gd.closest('#notebook-container');\n",
       "if (notebookContainer) {{\n",
       "    x.observe(notebookContainer, {childList: true});\n",
       "}}\n",
       "\n",
       "// Listen for the clearing of the current output cell\n",
       "var outputEl = gd.closest('.output');\n",
       "if (outputEl) {{\n",
       "    x.observe(outputEl, {childList: true});\n",
       "}}\n",
       "\n",
       "                        })                };                });            </script>        </div>"
      ]
     },
     "metadata": {},
     "output_type": "display_data"
    }
   ],
   "source": [
    "import plotly.graph_objects as go\n",
    "\n",
    "import pandas as pd\n",
    "df = pd.read_csv('https://raw.githubusercontent.com/plotly/datasets/master/2011_us_ag_exports.csv')\n",
    "\n",
    "fig = go.Figure(data=go.Choropleth(\n",
    "    locations=df['code'], # Spatial coordinates\n",
    "    z = df['total exports'].astype(float), # Data to be color-coded\n",
    "    locationmode = 'USA-states', # set of locations match entries in `locations`\n",
    "    colorscale = 'Reds',\n",
    "    colorbar_title = \"Millions USD\",\n",
    "))\n",
    "\n",
    "fig.update_layout(\n",
    "    title_text = '2011 US Agriculture Exports by State',\n",
    "    geo_scope='usa', # limite map scope to USA\n",
    ")\n",
    "\n",
    "fig.show()"
   ]
  },
  {
   "cell_type": "code",
   "execution_count": 12,
   "metadata": {},
   "outputs": [],
   "source": [
    "from plotly import __version__\n"
   ]
  },
  {
   "cell_type": "code",
   "execution_count": 13,
   "metadata": {},
   "outputs": [
    {
     "name": "stdout",
     "output_type": "stream",
     "text": [
      "4.14.3\n"
     ]
    }
   ],
   "source": [
    "print(__version__)"
   ]
  },
  {
   "cell_type": "code",
   "execution_count": 14,
   "metadata": {},
   "outputs": [],
   "source": [
    "df = pd.read_csv('https://raw.githubusercontent.com/plotly/datasets/master/2014_world_gdp_with_codes.csv')"
   ]
  },
  {
   "cell_type": "code",
   "execution_count": 15,
   "metadata": {},
   "outputs": [
    {
     "data": {
      "text/html": [
       "<div>\n",
       "<style scoped>\n",
       "    .dataframe tbody tr th:only-of-type {\n",
       "        vertical-align: middle;\n",
       "    }\n",
       "\n",
       "    .dataframe tbody tr th {\n",
       "        vertical-align: top;\n",
       "    }\n",
       "\n",
       "    .dataframe thead th {\n",
       "        text-align: right;\n",
       "    }\n",
       "</style>\n",
       "<table border=\"1\" class=\"dataframe\">\n",
       "  <thead>\n",
       "    <tr style=\"text-align: right;\">\n",
       "      <th></th>\n",
       "      <th>COUNTRY</th>\n",
       "      <th>GDP (BILLIONS)</th>\n",
       "      <th>CODE</th>\n",
       "    </tr>\n",
       "  </thead>\n",
       "  <tbody>\n",
       "    <tr>\n",
       "      <th>0</th>\n",
       "      <td>Afghanistan</td>\n",
       "      <td>21.71</td>\n",
       "      <td>AFG</td>\n",
       "    </tr>\n",
       "    <tr>\n",
       "      <th>1</th>\n",
       "      <td>Albania</td>\n",
       "      <td>13.40</td>\n",
       "      <td>ALB</td>\n",
       "    </tr>\n",
       "    <tr>\n",
       "      <th>2</th>\n",
       "      <td>Algeria</td>\n",
       "      <td>227.80</td>\n",
       "      <td>DZA</td>\n",
       "    </tr>\n",
       "    <tr>\n",
       "      <th>3</th>\n",
       "      <td>American Samoa</td>\n",
       "      <td>0.75</td>\n",
       "      <td>ASM</td>\n",
       "    </tr>\n",
       "    <tr>\n",
       "      <th>4</th>\n",
       "      <td>Andorra</td>\n",
       "      <td>4.80</td>\n",
       "      <td>AND</td>\n",
       "    </tr>\n",
       "  </tbody>\n",
       "</table>\n",
       "</div>"
      ],
      "text/plain": [
       "          COUNTRY  GDP (BILLIONS) CODE\n",
       "0     Afghanistan           21.71  AFG\n",
       "1         Albania           13.40  ALB\n",
       "2         Algeria          227.80  DZA\n",
       "3  American Samoa            0.75  ASM\n",
       "4         Andorra            4.80  AND"
      ]
     },
     "execution_count": 15,
     "metadata": {},
     "output_type": "execute_result"
    }
   ],
   "source": [
    "df.head()"
   ]
  },
  {
   "cell_type": "code",
   "execution_count": 16,
   "metadata": {},
   "outputs": [
    {
     "data": {
      "text/html": [
       "<div>\n",
       "<style scoped>\n",
       "    .dataframe tbody tr th:only-of-type {\n",
       "        vertical-align: middle;\n",
       "    }\n",
       "\n",
       "    .dataframe tbody tr th {\n",
       "        vertical-align: top;\n",
       "    }\n",
       "\n",
       "    .dataframe thead th {\n",
       "        text-align: right;\n",
       "    }\n",
       "</style>\n",
       "<table border=\"1\" class=\"dataframe\">\n",
       "  <thead>\n",
       "    <tr style=\"text-align: right;\">\n",
       "      <th></th>\n",
       "      <th>COUNTRY</th>\n",
       "      <th>GDP (BILLIONS)</th>\n",
       "      <th>CODE</th>\n",
       "    </tr>\n",
       "  </thead>\n",
       "  <tbody>\n",
       "    <tr>\n",
       "      <th>0</th>\n",
       "      <td>Afghanistan</td>\n",
       "      <td>21.71</td>\n",
       "      <td>AFG</td>\n",
       "    </tr>\n",
       "    <tr>\n",
       "      <th>1</th>\n",
       "      <td>Albania</td>\n",
       "      <td>13.40</td>\n",
       "      <td>ALB</td>\n",
       "    </tr>\n",
       "    <tr>\n",
       "      <th>2</th>\n",
       "      <td>Algeria</td>\n",
       "      <td>227.80</td>\n",
       "      <td>DZA</td>\n",
       "    </tr>\n",
       "    <tr>\n",
       "      <th>3</th>\n",
       "      <td>American Samoa</td>\n",
       "      <td>0.75</td>\n",
       "      <td>ASM</td>\n",
       "    </tr>\n",
       "    <tr>\n",
       "      <th>4</th>\n",
       "      <td>Andorra</td>\n",
       "      <td>4.80</td>\n",
       "      <td>AND</td>\n",
       "    </tr>\n",
       "    <tr>\n",
       "      <th>...</th>\n",
       "      <td>...</td>\n",
       "      <td>...</td>\n",
       "      <td>...</td>\n",
       "    </tr>\n",
       "    <tr>\n",
       "      <th>217</th>\n",
       "      <td>Virgin Islands</td>\n",
       "      <td>5.08</td>\n",
       "      <td>VGB</td>\n",
       "    </tr>\n",
       "    <tr>\n",
       "      <th>218</th>\n",
       "      <td>West Bank</td>\n",
       "      <td>6.64</td>\n",
       "      <td>WBG</td>\n",
       "    </tr>\n",
       "    <tr>\n",
       "      <th>219</th>\n",
       "      <td>Yemen</td>\n",
       "      <td>45.45</td>\n",
       "      <td>YEM</td>\n",
       "    </tr>\n",
       "    <tr>\n",
       "      <th>220</th>\n",
       "      <td>Zambia</td>\n",
       "      <td>25.61</td>\n",
       "      <td>ZMB</td>\n",
       "    </tr>\n",
       "    <tr>\n",
       "      <th>221</th>\n",
       "      <td>Zimbabwe</td>\n",
       "      <td>13.74</td>\n",
       "      <td>ZWE</td>\n",
       "    </tr>\n",
       "  </tbody>\n",
       "</table>\n",
       "<p>222 rows × 3 columns</p>\n",
       "</div>"
      ],
      "text/plain": [
       "            COUNTRY  GDP (BILLIONS) CODE\n",
       "0       Afghanistan           21.71  AFG\n",
       "1           Albania           13.40  ALB\n",
       "2           Algeria          227.80  DZA\n",
       "3    American Samoa            0.75  ASM\n",
       "4           Andorra            4.80  AND\n",
       "..              ...             ...  ...\n",
       "217  Virgin Islands            5.08  VGB\n",
       "218       West Bank            6.64  WBG\n",
       "219           Yemen           45.45  YEM\n",
       "220          Zambia           25.61  ZMB\n",
       "221        Zimbabwe           13.74  ZWE\n",
       "\n",
       "[222 rows x 3 columns]"
      ]
     },
     "execution_count": 16,
     "metadata": {},
     "output_type": "execute_result"
    }
   ],
   "source": [
    "df"
   ]
  },
  {
   "cell_type": "code",
   "execution_count": 17,
   "metadata": {},
   "outputs": [
    {
     "data": {
      "application/vnd.plotly.v1+json": {
       "config": {
        "plotlyServerURL": "https://plot.ly"
       },
       "data": [
        {
         "autocolorscale": false,
         "colorbar": {
          "tickprefix": "$",
          "title": {
           "text": "GDP<br>Billions US$"
          }
         },
         "colorscale": [
          [
           0,
           "rgb(255,245,240)"
          ],
          [
           0.125,
           "rgb(254,224,210)"
          ],
          [
           0.25,
           "rgb(252,187,161)"
          ],
          [
           0.375,
           "rgb(252,146,114)"
          ],
          [
           0.5,
           "rgb(251,106,74)"
          ],
          [
           0.625,
           "rgb(239,59,44)"
          ],
          [
           0.75,
           "rgb(203,24,29)"
          ],
          [
           0.875,
           "rgb(165,15,21)"
          ],
          [
           1,
           "rgb(103,0,13)"
          ]
         ],
         "locations": [
          "AFG",
          "ALB",
          "DZA",
          "ASM",
          "AND",
          "AGO",
          "AIA",
          "ATG",
          "ARG",
          "ARM",
          "ABW",
          "AUS",
          "AUT",
          "AZE",
          "BHM",
          "BHR",
          "BGD",
          "BRB",
          "BLR",
          "BEL",
          "BLZ",
          "BEN",
          "BMU",
          "BTN",
          "BOL",
          "BIH",
          "BWA",
          "BRA",
          "VGB",
          "BRN",
          "BGR",
          "BFA",
          "MMR",
          "BDI",
          "CPV",
          "KHM",
          "CMR",
          "CAN",
          "CYM",
          "CAF",
          "TCD",
          "CHL",
          "CHN",
          "COL",
          "COM",
          "COD",
          "COG",
          "COK",
          "CRI",
          "CIV",
          "HRV",
          "CUB",
          "CUW",
          "CYP",
          "CZE",
          "DNK",
          "DJI",
          "DMA",
          "DOM",
          "ECU",
          "EGY",
          "SLV",
          "GNQ",
          "ERI",
          "EST",
          "ETH",
          "FLK",
          "FRO",
          "FJI",
          "FIN",
          "FRA",
          "PYF",
          "GAB",
          "GMB",
          "GEO",
          "DEU",
          "GHA",
          "GIB",
          "GRC",
          "GRL",
          "GRD",
          "GUM",
          "GTM",
          "GGY",
          "GNB",
          "GIN",
          "GUY",
          "HTI",
          "HND",
          "HKG",
          "HUN",
          "ISL",
          "IND",
          "IDN",
          "IRN",
          "IRQ",
          "IRL",
          "IMN",
          "ISR",
          "ITA",
          "JAM",
          "JPN",
          "JEY",
          "JOR",
          "KAZ",
          "KEN",
          "KIR",
          "PRK",
          "KOR",
          "KSV",
          "KWT",
          "KGZ",
          "LAO",
          "LVA",
          "LBN",
          "LSO",
          "LBR",
          "LBY",
          "LIE",
          "LTU",
          "LUX",
          "MAC",
          "MKD",
          "MDG",
          "MWI",
          "MYS",
          "MDV",
          "MLI",
          "MLT",
          "MHL",
          "MRT",
          "MUS",
          "MEX",
          "FSM",
          "MDA",
          "MCO",
          "MNG",
          "MNE",
          "MAR",
          "MOZ",
          "NAM",
          "NPL",
          "NLD",
          "NCL",
          "NZL",
          "NIC",
          "NGA",
          "NER",
          "NIU",
          "MNP",
          "NOR",
          "OMN",
          "PAK",
          "PLW",
          "PAN",
          "PNG",
          "PRY",
          "PER",
          "PHL",
          "POL",
          "PRT",
          "PRI",
          "QAT",
          "ROU",
          "RUS",
          "RWA",
          "KNA",
          "LCA",
          "MAF",
          "SPM",
          "VCT",
          "WSM",
          "SMR",
          "STP",
          "SAU",
          "SEN",
          "SRB",
          "SYC",
          "SLE",
          "SGP",
          "SXM",
          "SVK",
          "SVN",
          "SLB",
          "SOM",
          "ZAF",
          "SSD",
          "ESP",
          "LKA",
          "SDN",
          "SUR",
          "SWZ",
          "SWE",
          "CHE",
          "SYR",
          "TWN",
          "TJK",
          "TZA",
          "THA",
          "TLS",
          "TGO",
          "TON",
          "TTO",
          "TUN",
          "TUR",
          "TKM",
          "TUV",
          "UGA",
          "UKR",
          "ARE",
          "GBR",
          "USA",
          "URY",
          "UZB",
          "VUT",
          "VEN",
          "VNM",
          "VGB",
          "WBG",
          "YEM",
          "ZMB",
          "ZWE"
         ],
         "marker": {
          "line": {
           "color": "darkgray",
           "width": 0.5
          }
         },
         "reversescale": true,
         "text": [
          "Afghanistan",
          "Albania",
          "Algeria",
          "American Samoa",
          "Andorra",
          "Angola",
          "Anguilla",
          "Antigua and Barbuda",
          "Argentina",
          "Armenia",
          "Aruba",
          "Australia",
          "Austria",
          "Azerbaijan",
          "Bahamas, The",
          "Bahrain",
          "Bangladesh",
          "Barbados",
          "Belarus",
          "Belgium",
          "Belize",
          "Benin",
          "Bermuda",
          "Bhutan",
          "Bolivia",
          "Bosnia and Herzegovina",
          "Botswana",
          "Brazil",
          "British Virgin Islands",
          "Brunei",
          "Bulgaria",
          "Burkina Faso",
          "Burma",
          "Burundi",
          "Cabo Verde",
          "Cambodia",
          "Cameroon",
          "Canada",
          "Cayman Islands",
          "Central African Republic",
          "Chad",
          "Chile",
          "China",
          "Colombia",
          "Comoros",
          "Congo, Democratic Republic of the",
          "Congo, Republic of the",
          "Cook Islands",
          "Costa Rica",
          "Cote d'Ivoire",
          "Croatia",
          "Cuba",
          "Curacao",
          "Cyprus",
          "Czech Republic",
          "Denmark",
          "Djibouti",
          "Dominica",
          "Dominican Republic",
          "Ecuador",
          "Egypt",
          "El Salvador",
          "Equatorial Guinea",
          "Eritrea",
          "Estonia",
          "Ethiopia",
          "Falkland Islands (Islas Malvinas)",
          "Faroe Islands",
          "Fiji",
          "Finland",
          "France",
          "French Polynesia",
          "Gabon",
          "Gambia, The",
          "Georgia",
          "Germany",
          "Ghana",
          "Gibraltar",
          "Greece",
          "Greenland",
          "Grenada",
          "Guam",
          "Guatemala",
          "Guernsey",
          "Guinea-Bissau",
          "Guinea",
          "Guyana",
          "Haiti",
          "Honduras",
          "Hong Kong",
          "Hungary",
          "Iceland",
          "India",
          "Indonesia",
          "Iran",
          "Iraq",
          "Ireland",
          "Isle of Man",
          "Israel",
          "Italy",
          "Jamaica",
          "Japan",
          "Jersey",
          "Jordan",
          "Kazakhstan",
          "Kenya",
          "Kiribati",
          "Korea, North",
          "Korea, South",
          "Kosovo",
          "Kuwait",
          "Kyrgyzstan",
          "Laos",
          "Latvia",
          "Lebanon",
          "Lesotho",
          "Liberia",
          "Libya",
          "Liechtenstein",
          "Lithuania",
          "Luxembourg",
          "Macau",
          "Macedonia",
          "Madagascar",
          "Malawi",
          "Malaysia",
          "Maldives",
          "Mali",
          "Malta",
          "Marshall Islands",
          "Mauritania",
          "Mauritius",
          "Mexico",
          "Micronesia, Federated States of",
          "Moldova",
          "Monaco",
          "Mongolia",
          "Montenegro",
          "Morocco",
          "Mozambique",
          "Namibia",
          "Nepal",
          "Netherlands",
          "New Caledonia",
          "New Zealand",
          "Nicaragua",
          "Nigeria",
          "Niger",
          "Niue",
          "Northern Mariana Islands",
          "Norway",
          "Oman",
          "Pakistan",
          "Palau",
          "Panama",
          "Papua New Guinea",
          "Paraguay",
          "Peru",
          "Philippines",
          "Poland",
          "Portugal",
          "Puerto Rico",
          "Qatar",
          "Romania",
          "Russia",
          "Rwanda",
          "Saint Kitts and Nevis",
          "Saint Lucia",
          "Saint Martin",
          "Saint Pierre and Miquelon",
          "Saint Vincent and the Grenadines",
          "Samoa",
          "San Marino",
          "Sao Tome and Principe",
          "Saudi Arabia",
          "Senegal",
          "Serbia",
          "Seychelles",
          "Sierra Leone",
          "Singapore",
          "Sint Maarten",
          "Slovakia",
          "Slovenia",
          "Solomon Islands",
          "Somalia",
          "South Africa",
          "South Sudan",
          "Spain",
          "Sri Lanka",
          "Sudan",
          "Suriname",
          "Swaziland",
          "Sweden",
          "Switzerland",
          "Syria",
          "Taiwan",
          "Tajikistan",
          "Tanzania",
          "Thailand",
          "Timor-Leste",
          "Togo",
          "Tonga",
          "Trinidad and Tobago",
          "Tunisia",
          "Turkey",
          "Turkmenistan",
          "Tuvalu",
          "Uganda",
          "Ukraine",
          "United Arab Emirates",
          "United Kingdom",
          "United States",
          "Uruguay",
          "Uzbekistan",
          "Vanuatu",
          "Venezuela",
          "Vietnam",
          "Virgin Islands",
          "West Bank",
          "Yemen",
          "Zambia",
          "Zimbabwe"
         ],
         "type": "choropleth",
         "z": [
          21.71,
          13.4,
          227.8,
          0.75,
          4.8,
          131.4,
          0.18,
          1.24,
          536.2,
          10.88,
          2.52,
          1483,
          436.1,
          77.91,
          8.65,
          34.05,
          186.6,
          4.28,
          75.25,
          527.8,
          1.67,
          9.24,
          5.2,
          2.09,
          34.08,
          19.55,
          16.3,
          2244,
          1.1,
          17.43,
          55.08,
          13.38,
          65.29,
          3.04,
          1.98,
          16.9,
          32.16,
          1794,
          2.25,
          1.73,
          15.84,
          264.1,
          10360,
          400.1,
          0.72,
          32.67,
          14.11,
          0.18,
          50.46,
          33.96,
          57.18,
          77.15,
          5.6,
          21.34,
          205.6,
          347.2,
          1.58,
          0.51,
          64.05,
          100.5,
          284.9,
          25.14,
          15.4,
          3.87,
          26.36,
          49.86,
          0.16,
          2.32,
          4.17,
          276.3,
          2902,
          7.15,
          20.68,
          0.92,
          16.13,
          3820,
          35.48,
          1.85,
          246.4,
          2.16,
          0.84,
          4.6,
          58.3,
          2.74,
          1.04,
          6.77,
          3.14,
          8.92,
          19.37,
          292.7,
          129.7,
          16.2,
          2048,
          856.1,
          402.7,
          232.2,
          245.8,
          4.08,
          305,
          2129,
          13.92,
          4770,
          5.77,
          36.55,
          225.6,
          62.72,
          0.16,
          28,
          1410,
          5.99,
          179.3,
          7.65,
          11.71,
          32.82,
          47.5,
          2.46,
          2.07,
          49.34,
          5.11,
          48.72,
          63.93,
          51.68,
          10.92,
          11.19,
          4.41,
          336.9,
          2.41,
          12.04,
          10.57,
          0.18,
          4.29,
          12.72,
          1296,
          0.34,
          7.74,
          6.06,
          11.73,
          4.66,
          112.6,
          16.59,
          13.11,
          19.64,
          880.4,
          11.1,
          201,
          11.85,
          594.3,
          8.29,
          0.01,
          1.23,
          511.6,
          80.54,
          237.5,
          0.65,
          44.69,
          16.1,
          31.3,
          208.2,
          284.6,
          552.2,
          228.2,
          93.52,
          212,
          199,
          2057,
          8,
          0.81,
          1.35,
          0.56,
          0.22,
          0.75,
          0.83,
          1.86,
          0.36,
          777.9,
          15.88,
          42.65,
          1.47,
          5.41,
          307.9,
          304.1,
          99.75,
          49.93,
          1.16,
          2.37,
          341.2,
          11.89,
          1400,
          71.57,
          70.03,
          5.27,
          3.84,
          559.1,
          679,
          64.7,
          529.5,
          9.16,
          36.62,
          373.8,
          4.51,
          4.84,
          0.49,
          29.63,
          49.12,
          813.3,
          43.5,
          0.04,
          26.09,
          134.9,
          416.4,
          2848,
          17420,
          55.6,
          63.08,
          0.82,
          209.2,
          187.8,
          5.08,
          6.64,
          45.45,
          25.61,
          13.74
         ]
        }
       ],
       "layout": {
        "annotations": [
         {
          "showarrow": false,
          "text": "Source: <a href=\"https://www.cia.gov/library/publications/the-world-factbook/fields/2195.html\">            CIA World Factbook</a>",
          "x": 0.55,
          "xref": "paper",
          "y": 0.1,
          "yref": "paper"
         }
        ],
        "geo": {
         "projection": {
          "type": "conic equidistant"
         },
         "showcoastlines": false,
         "showframe": false
        },
        "template": {
         "data": {
          "bar": [
           {
            "error_x": {
             "color": "#2a3f5f"
            },
            "error_y": {
             "color": "#2a3f5f"
            },
            "marker": {
             "line": {
              "color": "#E5ECF6",
              "width": 0.5
             }
            },
            "type": "bar"
           }
          ],
          "barpolar": [
           {
            "marker": {
             "line": {
              "color": "#E5ECF6",
              "width": 0.5
             }
            },
            "type": "barpolar"
           }
          ],
          "carpet": [
           {
            "aaxis": {
             "endlinecolor": "#2a3f5f",
             "gridcolor": "white",
             "linecolor": "white",
             "minorgridcolor": "white",
             "startlinecolor": "#2a3f5f"
            },
            "baxis": {
             "endlinecolor": "#2a3f5f",
             "gridcolor": "white",
             "linecolor": "white",
             "minorgridcolor": "white",
             "startlinecolor": "#2a3f5f"
            },
            "type": "carpet"
           }
          ],
          "choropleth": [
           {
            "colorbar": {
             "outlinewidth": 0,
             "ticks": ""
            },
            "type": "choropleth"
           }
          ],
          "contour": [
           {
            "colorbar": {
             "outlinewidth": 0,
             "ticks": ""
            },
            "colorscale": [
             [
              0,
              "#0d0887"
             ],
             [
              0.1111111111111111,
              "#46039f"
             ],
             [
              0.2222222222222222,
              "#7201a8"
             ],
             [
              0.3333333333333333,
              "#9c179e"
             ],
             [
              0.4444444444444444,
              "#bd3786"
             ],
             [
              0.5555555555555556,
              "#d8576b"
             ],
             [
              0.6666666666666666,
              "#ed7953"
             ],
             [
              0.7777777777777778,
              "#fb9f3a"
             ],
             [
              0.8888888888888888,
              "#fdca26"
             ],
             [
              1,
              "#f0f921"
             ]
            ],
            "type": "contour"
           }
          ],
          "contourcarpet": [
           {
            "colorbar": {
             "outlinewidth": 0,
             "ticks": ""
            },
            "type": "contourcarpet"
           }
          ],
          "heatmap": [
           {
            "colorbar": {
             "outlinewidth": 0,
             "ticks": ""
            },
            "colorscale": [
             [
              0,
              "#0d0887"
             ],
             [
              0.1111111111111111,
              "#46039f"
             ],
             [
              0.2222222222222222,
              "#7201a8"
             ],
             [
              0.3333333333333333,
              "#9c179e"
             ],
             [
              0.4444444444444444,
              "#bd3786"
             ],
             [
              0.5555555555555556,
              "#d8576b"
             ],
             [
              0.6666666666666666,
              "#ed7953"
             ],
             [
              0.7777777777777778,
              "#fb9f3a"
             ],
             [
              0.8888888888888888,
              "#fdca26"
             ],
             [
              1,
              "#f0f921"
             ]
            ],
            "type": "heatmap"
           }
          ],
          "heatmapgl": [
           {
            "colorbar": {
             "outlinewidth": 0,
             "ticks": ""
            },
            "colorscale": [
             [
              0,
              "#0d0887"
             ],
             [
              0.1111111111111111,
              "#46039f"
             ],
             [
              0.2222222222222222,
              "#7201a8"
             ],
             [
              0.3333333333333333,
              "#9c179e"
             ],
             [
              0.4444444444444444,
              "#bd3786"
             ],
             [
              0.5555555555555556,
              "#d8576b"
             ],
             [
              0.6666666666666666,
              "#ed7953"
             ],
             [
              0.7777777777777778,
              "#fb9f3a"
             ],
             [
              0.8888888888888888,
              "#fdca26"
             ],
             [
              1,
              "#f0f921"
             ]
            ],
            "type": "heatmapgl"
           }
          ],
          "histogram": [
           {
            "marker": {
             "colorbar": {
              "outlinewidth": 0,
              "ticks": ""
             }
            },
            "type": "histogram"
           }
          ],
          "histogram2d": [
           {
            "colorbar": {
             "outlinewidth": 0,
             "ticks": ""
            },
            "colorscale": [
             [
              0,
              "#0d0887"
             ],
             [
              0.1111111111111111,
              "#46039f"
             ],
             [
              0.2222222222222222,
              "#7201a8"
             ],
             [
              0.3333333333333333,
              "#9c179e"
             ],
             [
              0.4444444444444444,
              "#bd3786"
             ],
             [
              0.5555555555555556,
              "#d8576b"
             ],
             [
              0.6666666666666666,
              "#ed7953"
             ],
             [
              0.7777777777777778,
              "#fb9f3a"
             ],
             [
              0.8888888888888888,
              "#fdca26"
             ],
             [
              1,
              "#f0f921"
             ]
            ],
            "type": "histogram2d"
           }
          ],
          "histogram2dcontour": [
           {
            "colorbar": {
             "outlinewidth": 0,
             "ticks": ""
            },
            "colorscale": [
             [
              0,
              "#0d0887"
             ],
             [
              0.1111111111111111,
              "#46039f"
             ],
             [
              0.2222222222222222,
              "#7201a8"
             ],
             [
              0.3333333333333333,
              "#9c179e"
             ],
             [
              0.4444444444444444,
              "#bd3786"
             ],
             [
              0.5555555555555556,
              "#d8576b"
             ],
             [
              0.6666666666666666,
              "#ed7953"
             ],
             [
              0.7777777777777778,
              "#fb9f3a"
             ],
             [
              0.8888888888888888,
              "#fdca26"
             ],
             [
              1,
              "#f0f921"
             ]
            ],
            "type": "histogram2dcontour"
           }
          ],
          "mesh3d": [
           {
            "colorbar": {
             "outlinewidth": 0,
             "ticks": ""
            },
            "type": "mesh3d"
           }
          ],
          "parcoords": [
           {
            "line": {
             "colorbar": {
              "outlinewidth": 0,
              "ticks": ""
             }
            },
            "type": "parcoords"
           }
          ],
          "pie": [
           {
            "automargin": true,
            "type": "pie"
           }
          ],
          "scatter": [
           {
            "marker": {
             "colorbar": {
              "outlinewidth": 0,
              "ticks": ""
             }
            },
            "type": "scatter"
           }
          ],
          "scatter3d": [
           {
            "line": {
             "colorbar": {
              "outlinewidth": 0,
              "ticks": ""
             }
            },
            "marker": {
             "colorbar": {
              "outlinewidth": 0,
              "ticks": ""
             }
            },
            "type": "scatter3d"
           }
          ],
          "scattercarpet": [
           {
            "marker": {
             "colorbar": {
              "outlinewidth": 0,
              "ticks": ""
             }
            },
            "type": "scattercarpet"
           }
          ],
          "scattergeo": [
           {
            "marker": {
             "colorbar": {
              "outlinewidth": 0,
              "ticks": ""
             }
            },
            "type": "scattergeo"
           }
          ],
          "scattergl": [
           {
            "marker": {
             "colorbar": {
              "outlinewidth": 0,
              "ticks": ""
             }
            },
            "type": "scattergl"
           }
          ],
          "scattermapbox": [
           {
            "marker": {
             "colorbar": {
              "outlinewidth": 0,
              "ticks": ""
             }
            },
            "type": "scattermapbox"
           }
          ],
          "scatterpolar": [
           {
            "marker": {
             "colorbar": {
              "outlinewidth": 0,
              "ticks": ""
             }
            },
            "type": "scatterpolar"
           }
          ],
          "scatterpolargl": [
           {
            "marker": {
             "colorbar": {
              "outlinewidth": 0,
              "ticks": ""
             }
            },
            "type": "scatterpolargl"
           }
          ],
          "scatterternary": [
           {
            "marker": {
             "colorbar": {
              "outlinewidth": 0,
              "ticks": ""
             }
            },
            "type": "scatterternary"
           }
          ],
          "surface": [
           {
            "colorbar": {
             "outlinewidth": 0,
             "ticks": ""
            },
            "colorscale": [
             [
              0,
              "#0d0887"
             ],
             [
              0.1111111111111111,
              "#46039f"
             ],
             [
              0.2222222222222222,
              "#7201a8"
             ],
             [
              0.3333333333333333,
              "#9c179e"
             ],
             [
              0.4444444444444444,
              "#bd3786"
             ],
             [
              0.5555555555555556,
              "#d8576b"
             ],
             [
              0.6666666666666666,
              "#ed7953"
             ],
             [
              0.7777777777777778,
              "#fb9f3a"
             ],
             [
              0.8888888888888888,
              "#fdca26"
             ],
             [
              1,
              "#f0f921"
             ]
            ],
            "type": "surface"
           }
          ],
          "table": [
           {
            "cells": {
             "fill": {
              "color": "#EBF0F8"
             },
             "line": {
              "color": "white"
             }
            },
            "header": {
             "fill": {
              "color": "#C8D4E3"
             },
             "line": {
              "color": "white"
             }
            },
            "type": "table"
           }
          ]
         },
         "layout": {
          "annotationdefaults": {
           "arrowcolor": "#2a3f5f",
           "arrowhead": 0,
           "arrowwidth": 1
          },
          "autotypenumbers": "strict",
          "coloraxis": {
           "colorbar": {
            "outlinewidth": 0,
            "ticks": ""
           }
          },
          "colorscale": {
           "diverging": [
            [
             0,
             "#8e0152"
            ],
            [
             0.1,
             "#c51b7d"
            ],
            [
             0.2,
             "#de77ae"
            ],
            [
             0.3,
             "#f1b6da"
            ],
            [
             0.4,
             "#fde0ef"
            ],
            [
             0.5,
             "#f7f7f7"
            ],
            [
             0.6,
             "#e6f5d0"
            ],
            [
             0.7,
             "#b8e186"
            ],
            [
             0.8,
             "#7fbc41"
            ],
            [
             0.9,
             "#4d9221"
            ],
            [
             1,
             "#276419"
            ]
           ],
           "sequential": [
            [
             0,
             "#0d0887"
            ],
            [
             0.1111111111111111,
             "#46039f"
            ],
            [
             0.2222222222222222,
             "#7201a8"
            ],
            [
             0.3333333333333333,
             "#9c179e"
            ],
            [
             0.4444444444444444,
             "#bd3786"
            ],
            [
             0.5555555555555556,
             "#d8576b"
            ],
            [
             0.6666666666666666,
             "#ed7953"
            ],
            [
             0.7777777777777778,
             "#fb9f3a"
            ],
            [
             0.8888888888888888,
             "#fdca26"
            ],
            [
             1,
             "#f0f921"
            ]
           ],
           "sequentialminus": [
            [
             0,
             "#0d0887"
            ],
            [
             0.1111111111111111,
             "#46039f"
            ],
            [
             0.2222222222222222,
             "#7201a8"
            ],
            [
             0.3333333333333333,
             "#9c179e"
            ],
            [
             0.4444444444444444,
             "#bd3786"
            ],
            [
             0.5555555555555556,
             "#d8576b"
            ],
            [
             0.6666666666666666,
             "#ed7953"
            ],
            [
             0.7777777777777778,
             "#fb9f3a"
            ],
            [
             0.8888888888888888,
             "#fdca26"
            ],
            [
             1,
             "#f0f921"
            ]
           ]
          },
          "colorway": [
           "#636efa",
           "#EF553B",
           "#00cc96",
           "#ab63fa",
           "#FFA15A",
           "#19d3f3",
           "#FF6692",
           "#B6E880",
           "#FF97FF",
           "#FECB52"
          ],
          "font": {
           "color": "#2a3f5f"
          },
          "geo": {
           "bgcolor": "white",
           "lakecolor": "white",
           "landcolor": "#E5ECF6",
           "showlakes": true,
           "showland": true,
           "subunitcolor": "white"
          },
          "hoverlabel": {
           "align": "left"
          },
          "hovermode": "closest",
          "mapbox": {
           "style": "light"
          },
          "paper_bgcolor": "white",
          "plot_bgcolor": "#E5ECF6",
          "polar": {
           "angularaxis": {
            "gridcolor": "white",
            "linecolor": "white",
            "ticks": ""
           },
           "bgcolor": "#E5ECF6",
           "radialaxis": {
            "gridcolor": "white",
            "linecolor": "white",
            "ticks": ""
           }
          },
          "scene": {
           "xaxis": {
            "backgroundcolor": "#E5ECF6",
            "gridcolor": "white",
            "gridwidth": 2,
            "linecolor": "white",
            "showbackground": true,
            "ticks": "",
            "zerolinecolor": "white"
           },
           "yaxis": {
            "backgroundcolor": "#E5ECF6",
            "gridcolor": "white",
            "gridwidth": 2,
            "linecolor": "white",
            "showbackground": true,
            "ticks": "",
            "zerolinecolor": "white"
           },
           "zaxis": {
            "backgroundcolor": "#E5ECF6",
            "gridcolor": "white",
            "gridwidth": 2,
            "linecolor": "white",
            "showbackground": true,
            "ticks": "",
            "zerolinecolor": "white"
           }
          },
          "shapedefaults": {
           "line": {
            "color": "#2a3f5f"
           }
          },
          "ternary": {
           "aaxis": {
            "gridcolor": "white",
            "linecolor": "white",
            "ticks": ""
           },
           "baxis": {
            "gridcolor": "white",
            "linecolor": "white",
            "ticks": ""
           },
           "bgcolor": "#E5ECF6",
           "caxis": {
            "gridcolor": "white",
            "linecolor": "white",
            "ticks": ""
           }
          },
          "title": {
           "x": 0.05
          },
          "xaxis": {
           "automargin": true,
           "gridcolor": "white",
           "linecolor": "white",
           "ticks": "",
           "title": {
            "standoff": 15
           },
           "zerolinecolor": "white",
           "zerolinewidth": 2
          },
          "yaxis": {
           "automargin": true,
           "gridcolor": "white",
           "linecolor": "white",
           "ticks": "",
           "title": {
            "standoff": 15
           },
           "zerolinecolor": "white",
           "zerolinewidth": 2
          }
         }
        },
        "title": {
         "text": "2014 Global GDP"
        }
       }
      },
      "text/html": [
       "<div>                            <div id=\"12c9ed1f-6a00-4e9f-8499-28530b04cd42\" class=\"plotly-graph-div\" style=\"height:525px; width:100%;\"></div>            <script type=\"text/javascript\">                require([\"plotly\"], function(Plotly) {                    window.PLOTLYENV=window.PLOTLYENV || {};                                    if (document.getElementById(\"12c9ed1f-6a00-4e9f-8499-28530b04cd42\")) {                    Plotly.newPlot(                        \"12c9ed1f-6a00-4e9f-8499-28530b04cd42\",                        [{\"autocolorscale\": false, \"colorbar\": {\"tickprefix\": \"$\", \"title\": {\"text\": \"GDP<br>Billions US$\"}}, \"colorscale\": [[0.0, \"rgb(255,245,240)\"], [0.125, \"rgb(254,224,210)\"], [0.25, \"rgb(252,187,161)\"], [0.375, \"rgb(252,146,114)\"], [0.5, \"rgb(251,106,74)\"], [0.625, \"rgb(239,59,44)\"], [0.75, \"rgb(203,24,29)\"], [0.875, \"rgb(165,15,21)\"], [1.0, \"rgb(103,0,13)\"]], \"locations\": [\"AFG\", \"ALB\", \"DZA\", \"ASM\", \"AND\", \"AGO\", \"AIA\", \"ATG\", \"ARG\", \"ARM\", \"ABW\", \"AUS\", \"AUT\", \"AZE\", \"BHM\", \"BHR\", \"BGD\", \"BRB\", \"BLR\", \"BEL\", \"BLZ\", \"BEN\", \"BMU\", \"BTN\", \"BOL\", \"BIH\", \"BWA\", \"BRA\", \"VGB\", \"BRN\", \"BGR\", \"BFA\", \"MMR\", \"BDI\", \"CPV\", \"KHM\", \"CMR\", \"CAN\", \"CYM\", \"CAF\", \"TCD\", \"CHL\", \"CHN\", \"COL\", \"COM\", \"COD\", \"COG\", \"COK\", \"CRI\", \"CIV\", \"HRV\", \"CUB\", \"CUW\", \"CYP\", \"CZE\", \"DNK\", \"DJI\", \"DMA\", \"DOM\", \"ECU\", \"EGY\", \"SLV\", \"GNQ\", \"ERI\", \"EST\", \"ETH\", \"FLK\", \"FRO\", \"FJI\", \"FIN\", \"FRA\", \"PYF\", \"GAB\", \"GMB\", \"GEO\", \"DEU\", \"GHA\", \"GIB\", \"GRC\", \"GRL\", \"GRD\", \"GUM\", \"GTM\", \"GGY\", \"GNB\", \"GIN\", \"GUY\", \"HTI\", \"HND\", \"HKG\", \"HUN\", \"ISL\", \"IND\", \"IDN\", \"IRN\", \"IRQ\", \"IRL\", \"IMN\", \"ISR\", \"ITA\", \"JAM\", \"JPN\", \"JEY\", \"JOR\", \"KAZ\", \"KEN\", \"KIR\", \"PRK\", \"KOR\", \"KSV\", \"KWT\", \"KGZ\", \"LAO\", \"LVA\", \"LBN\", \"LSO\", \"LBR\", \"LBY\", \"LIE\", \"LTU\", \"LUX\", \"MAC\", \"MKD\", \"MDG\", \"MWI\", \"MYS\", \"MDV\", \"MLI\", \"MLT\", \"MHL\", \"MRT\", \"MUS\", \"MEX\", \"FSM\", \"MDA\", \"MCO\", \"MNG\", \"MNE\", \"MAR\", \"MOZ\", \"NAM\", \"NPL\", \"NLD\", \"NCL\", \"NZL\", \"NIC\", \"NGA\", \"NER\", \"NIU\", \"MNP\", \"NOR\", \"OMN\", \"PAK\", \"PLW\", \"PAN\", \"PNG\", \"PRY\", \"PER\", \"PHL\", \"POL\", \"PRT\", \"PRI\", \"QAT\", \"ROU\", \"RUS\", \"RWA\", \"KNA\", \"LCA\", \"MAF\", \"SPM\", \"VCT\", \"WSM\", \"SMR\", \"STP\", \"SAU\", \"SEN\", \"SRB\", \"SYC\", \"SLE\", \"SGP\", \"SXM\", \"SVK\", \"SVN\", \"SLB\", \"SOM\", \"ZAF\", \"SSD\", \"ESP\", \"LKA\", \"SDN\", \"SUR\", \"SWZ\", \"SWE\", \"CHE\", \"SYR\", \"TWN\", \"TJK\", \"TZA\", \"THA\", \"TLS\", \"TGO\", \"TON\", \"TTO\", \"TUN\", \"TUR\", \"TKM\", \"TUV\", \"UGA\", \"UKR\", \"ARE\", \"GBR\", \"USA\", \"URY\", \"UZB\", \"VUT\", \"VEN\", \"VNM\", \"VGB\", \"WBG\", \"YEM\", \"ZMB\", \"ZWE\"], \"marker\": {\"line\": {\"color\": \"darkgray\", \"width\": 0.5}}, \"reversescale\": true, \"text\": [\"Afghanistan\", \"Albania\", \"Algeria\", \"American Samoa\", \"Andorra\", \"Angola\", \"Anguilla\", \"Antigua and Barbuda\", \"Argentina\", \"Armenia\", \"Aruba\", \"Australia\", \"Austria\", \"Azerbaijan\", \"Bahamas, The\", \"Bahrain\", \"Bangladesh\", \"Barbados\", \"Belarus\", \"Belgium\", \"Belize\", \"Benin\", \"Bermuda\", \"Bhutan\", \"Bolivia\", \"Bosnia and Herzegovina\", \"Botswana\", \"Brazil\", \"British Virgin Islands\", \"Brunei\", \"Bulgaria\", \"Burkina Faso\", \"Burma\", \"Burundi\", \"Cabo Verde\", \"Cambodia\", \"Cameroon\", \"Canada\", \"Cayman Islands\", \"Central African Republic\", \"Chad\", \"Chile\", \"China\", \"Colombia\", \"Comoros\", \"Congo, Democratic Republic of the\", \"Congo, Republic of the\", \"Cook Islands\", \"Costa Rica\", \"Cote d'Ivoire\", \"Croatia\", \"Cuba\", \"Curacao\", \"Cyprus\", \"Czech Republic\", \"Denmark\", \"Djibouti\", \"Dominica\", \"Dominican Republic\", \"Ecuador\", \"Egypt\", \"El Salvador\", \"Equatorial Guinea\", \"Eritrea\", \"Estonia\", \"Ethiopia\", \"Falkland Islands (Islas Malvinas)\", \"Faroe Islands\", \"Fiji\", \"Finland\", \"France\", \"French Polynesia\", \"Gabon\", \"Gambia, The\", \"Georgia\", \"Germany\", \"Ghana\", \"Gibraltar\", \"Greece\", \"Greenland\", \"Grenada\", \"Guam\", \"Guatemala\", \"Guernsey\", \"Guinea-Bissau\", \"Guinea\", \"Guyana\", \"Haiti\", \"Honduras\", \"Hong Kong\", \"Hungary\", \"Iceland\", \"India\", \"Indonesia\", \"Iran\", \"Iraq\", \"Ireland\", \"Isle of Man\", \"Israel\", \"Italy\", \"Jamaica\", \"Japan\", \"Jersey\", \"Jordan\", \"Kazakhstan\", \"Kenya\", \"Kiribati\", \"Korea, North\", \"Korea, South\", \"Kosovo\", \"Kuwait\", \"Kyrgyzstan\", \"Laos\", \"Latvia\", \"Lebanon\", \"Lesotho\", \"Liberia\", \"Libya\", \"Liechtenstein\", \"Lithuania\", \"Luxembourg\", \"Macau\", \"Macedonia\", \"Madagascar\", \"Malawi\", \"Malaysia\", \"Maldives\", \"Mali\", \"Malta\", \"Marshall Islands\", \"Mauritania\", \"Mauritius\", \"Mexico\", \"Micronesia, Federated States of\", \"Moldova\", \"Monaco\", \"Mongolia\", \"Montenegro\", \"Morocco\", \"Mozambique\", \"Namibia\", \"Nepal\", \"Netherlands\", \"New Caledonia\", \"New Zealand\", \"Nicaragua\", \"Nigeria\", \"Niger\", \"Niue\", \"Northern Mariana Islands\", \"Norway\", \"Oman\", \"Pakistan\", \"Palau\", \"Panama\", \"Papua New Guinea\", \"Paraguay\", \"Peru\", \"Philippines\", \"Poland\", \"Portugal\", \"Puerto Rico\", \"Qatar\", \"Romania\", \"Russia\", \"Rwanda\", \"Saint Kitts and Nevis\", \"Saint Lucia\", \"Saint Martin\", \"Saint Pierre and Miquelon\", \"Saint Vincent and the Grenadines\", \"Samoa\", \"San Marino\", \"Sao Tome and Principe\", \"Saudi Arabia\", \"Senegal\", \"Serbia\", \"Seychelles\", \"Sierra Leone\", \"Singapore\", \"Sint Maarten\", \"Slovakia\", \"Slovenia\", \"Solomon Islands\", \"Somalia\", \"South Africa\", \"South Sudan\", \"Spain\", \"Sri Lanka\", \"Sudan\", \"Suriname\", \"Swaziland\", \"Sweden\", \"Switzerland\", \"Syria\", \"Taiwan\", \"Tajikistan\", \"Tanzania\", \"Thailand\", \"Timor-Leste\", \"Togo\", \"Tonga\", \"Trinidad and Tobago\", \"Tunisia\", \"Turkey\", \"Turkmenistan\", \"Tuvalu\", \"Uganda\", \"Ukraine\", \"United Arab Emirates\", \"United Kingdom\", \"United States\", \"Uruguay\", \"Uzbekistan\", \"Vanuatu\", \"Venezuela\", \"Vietnam\", \"Virgin Islands\", \"West Bank\", \"Yemen\", \"Zambia\", \"Zimbabwe\"], \"type\": \"choropleth\", \"z\": [21.71, 13.4, 227.8, 0.75, 4.8, 131.4, 0.18, 1.24, 536.2, 10.88, 2.52, 1483.0, 436.1, 77.91, 8.65, 34.05, 186.6, 4.28, 75.25, 527.8, 1.67, 9.24, 5.2, 2.09, 34.08, 19.55, 16.3, 2244.0, 1.1, 17.43, 55.08, 13.38, 65.29, 3.04, 1.98, 16.9, 32.16, 1794.0, 2.25, 1.73, 15.84, 264.1, 10360.0, 400.1, 0.72, 32.67, 14.11, 0.18, 50.46, 33.96, 57.18, 77.15, 5.6, 21.34, 205.6, 347.2, 1.58, 0.51, 64.05, 100.5, 284.9, 25.14, 15.4, 3.87, 26.36, 49.86, 0.16, 2.32, 4.17, 276.3, 2902.0, 7.15, 20.68, 0.92, 16.13, 3820.0, 35.48, 1.85, 246.4, 2.16, 0.84, 4.6, 58.3, 2.74, 1.04, 6.77, 3.14, 8.92, 19.37, 292.7, 129.7, 16.2, 2048.0, 856.1, 402.7, 232.2, 245.8, 4.08, 305.0, 2129.0, 13.92, 4770.0, 5.77, 36.55, 225.6, 62.72, 0.16, 28.0, 1410.0, 5.99, 179.3, 7.65, 11.71, 32.82, 47.5, 2.46, 2.07, 49.34, 5.11, 48.72, 63.93, 51.68, 10.92, 11.19, 4.41, 336.9, 2.41, 12.04, 10.57, 0.18, 4.29, 12.72, 1296.0, 0.34, 7.74, 6.06, 11.73, 4.66, 112.6, 16.59, 13.11, 19.64, 880.4, 11.1, 201.0, 11.85, 594.3, 8.29, 0.01, 1.23, 511.6, 80.54, 237.5, 0.65, 44.69, 16.1, 31.3, 208.2, 284.6, 552.2, 228.2, 93.52, 212.0, 199.0, 2057.0, 8.0, 0.81, 1.35, 0.56, 0.22, 0.75, 0.83, 1.86, 0.36, 777.9, 15.88, 42.65, 1.47, 5.41, 307.9, 304.1, 99.75, 49.93, 1.16, 2.37, 341.2, 11.89, 1400.0, 71.57, 70.03, 5.27, 3.84, 559.1, 679.0, 64.7, 529.5, 9.16, 36.62, 373.8, 4.51, 4.84, 0.49, 29.63, 49.12, 813.3, 43.5, 0.04, 26.09, 134.9, 416.4, 2848.0, 17420.0, 55.6, 63.08, 0.82, 209.2, 187.8, 5.08, 6.64, 45.45, 25.61, 13.74]}],                        {\"annotations\": [{\"showarrow\": false, \"text\": \"Source: <a href=\\\"https://www.cia.gov/library/publications/the-world-factbook/fields/2195.html\\\">            CIA World Factbook</a>\", \"x\": 0.55, \"xref\": \"paper\", \"y\": 0.1, \"yref\": \"paper\"}], \"geo\": {\"projection\": {\"type\": \"conic equidistant\"}, \"showcoastlines\": false, \"showframe\": false}, \"template\": {\"data\": {\"bar\": [{\"error_x\": {\"color\": \"#2a3f5f\"}, \"error_y\": {\"color\": \"#2a3f5f\"}, \"marker\": {\"line\": {\"color\": \"#E5ECF6\", \"width\": 0.5}}, \"type\": \"bar\"}], \"barpolar\": [{\"marker\": {\"line\": {\"color\": \"#E5ECF6\", \"width\": 0.5}}, \"type\": \"barpolar\"}], \"carpet\": [{\"aaxis\": {\"endlinecolor\": \"#2a3f5f\", \"gridcolor\": \"white\", \"linecolor\": \"white\", \"minorgridcolor\": \"white\", \"startlinecolor\": \"#2a3f5f\"}, \"baxis\": {\"endlinecolor\": \"#2a3f5f\", \"gridcolor\": \"white\", \"linecolor\": \"white\", \"minorgridcolor\": \"white\", \"startlinecolor\": \"#2a3f5f\"}, \"type\": \"carpet\"}], \"choropleth\": [{\"colorbar\": {\"outlinewidth\": 0, \"ticks\": \"\"}, \"type\": \"choropleth\"}], \"contour\": [{\"colorbar\": {\"outlinewidth\": 0, \"ticks\": \"\"}, \"colorscale\": [[0.0, \"#0d0887\"], [0.1111111111111111, \"#46039f\"], [0.2222222222222222, \"#7201a8\"], [0.3333333333333333, \"#9c179e\"], [0.4444444444444444, \"#bd3786\"], [0.5555555555555556, \"#d8576b\"], [0.6666666666666666, \"#ed7953\"], [0.7777777777777778, \"#fb9f3a\"], [0.8888888888888888, \"#fdca26\"], [1.0, \"#f0f921\"]], \"type\": \"contour\"}], \"contourcarpet\": [{\"colorbar\": {\"outlinewidth\": 0, \"ticks\": \"\"}, \"type\": \"contourcarpet\"}], \"heatmap\": [{\"colorbar\": {\"outlinewidth\": 0, \"ticks\": \"\"}, \"colorscale\": [[0.0, \"#0d0887\"], [0.1111111111111111, \"#46039f\"], [0.2222222222222222, \"#7201a8\"], [0.3333333333333333, \"#9c179e\"], [0.4444444444444444, \"#bd3786\"], [0.5555555555555556, \"#d8576b\"], [0.6666666666666666, \"#ed7953\"], [0.7777777777777778, \"#fb9f3a\"], [0.8888888888888888, \"#fdca26\"], [1.0, \"#f0f921\"]], \"type\": \"heatmap\"}], \"heatmapgl\": [{\"colorbar\": {\"outlinewidth\": 0, \"ticks\": \"\"}, \"colorscale\": [[0.0, \"#0d0887\"], [0.1111111111111111, \"#46039f\"], [0.2222222222222222, \"#7201a8\"], [0.3333333333333333, \"#9c179e\"], [0.4444444444444444, \"#bd3786\"], [0.5555555555555556, \"#d8576b\"], [0.6666666666666666, \"#ed7953\"], [0.7777777777777778, \"#fb9f3a\"], [0.8888888888888888, \"#fdca26\"], [1.0, \"#f0f921\"]], \"type\": \"heatmapgl\"}], \"histogram\": [{\"marker\": {\"colorbar\": {\"outlinewidth\": 0, \"ticks\": \"\"}}, \"type\": \"histogram\"}], \"histogram2d\": [{\"colorbar\": {\"outlinewidth\": 0, \"ticks\": \"\"}, \"colorscale\": [[0.0, \"#0d0887\"], [0.1111111111111111, \"#46039f\"], [0.2222222222222222, \"#7201a8\"], [0.3333333333333333, \"#9c179e\"], [0.4444444444444444, \"#bd3786\"], [0.5555555555555556, \"#d8576b\"], [0.6666666666666666, \"#ed7953\"], [0.7777777777777778, \"#fb9f3a\"], [0.8888888888888888, \"#fdca26\"], [1.0, \"#f0f921\"]], \"type\": \"histogram2d\"}], \"histogram2dcontour\": [{\"colorbar\": {\"outlinewidth\": 0, \"ticks\": \"\"}, \"colorscale\": [[0.0, \"#0d0887\"], [0.1111111111111111, \"#46039f\"], [0.2222222222222222, \"#7201a8\"], [0.3333333333333333, \"#9c179e\"], [0.4444444444444444, \"#bd3786\"], [0.5555555555555556, \"#d8576b\"], [0.6666666666666666, \"#ed7953\"], [0.7777777777777778, \"#fb9f3a\"], [0.8888888888888888, \"#fdca26\"], [1.0, \"#f0f921\"]], \"type\": \"histogram2dcontour\"}], \"mesh3d\": [{\"colorbar\": {\"outlinewidth\": 0, \"ticks\": \"\"}, \"type\": \"mesh3d\"}], \"parcoords\": [{\"line\": {\"colorbar\": {\"outlinewidth\": 0, \"ticks\": \"\"}}, \"type\": \"parcoords\"}], \"pie\": [{\"automargin\": true, \"type\": \"pie\"}], \"scatter\": [{\"marker\": {\"colorbar\": {\"outlinewidth\": 0, \"ticks\": \"\"}}, \"type\": \"scatter\"}], \"scatter3d\": [{\"line\": {\"colorbar\": {\"outlinewidth\": 0, \"ticks\": \"\"}}, \"marker\": {\"colorbar\": {\"outlinewidth\": 0, \"ticks\": \"\"}}, \"type\": \"scatter3d\"}], \"scattercarpet\": [{\"marker\": {\"colorbar\": {\"outlinewidth\": 0, \"ticks\": \"\"}}, \"type\": \"scattercarpet\"}], \"scattergeo\": [{\"marker\": {\"colorbar\": {\"outlinewidth\": 0, \"ticks\": \"\"}}, \"type\": \"scattergeo\"}], \"scattergl\": [{\"marker\": {\"colorbar\": {\"outlinewidth\": 0, \"ticks\": \"\"}}, \"type\": \"scattergl\"}], \"scattermapbox\": [{\"marker\": {\"colorbar\": {\"outlinewidth\": 0, \"ticks\": \"\"}}, \"type\": \"scattermapbox\"}], \"scatterpolar\": [{\"marker\": {\"colorbar\": {\"outlinewidth\": 0, \"ticks\": \"\"}}, \"type\": \"scatterpolar\"}], \"scatterpolargl\": [{\"marker\": {\"colorbar\": {\"outlinewidth\": 0, \"ticks\": \"\"}}, \"type\": \"scatterpolargl\"}], \"scatterternary\": [{\"marker\": {\"colorbar\": {\"outlinewidth\": 0, \"ticks\": \"\"}}, \"type\": \"scatterternary\"}], \"surface\": [{\"colorbar\": {\"outlinewidth\": 0, \"ticks\": \"\"}, \"colorscale\": [[0.0, \"#0d0887\"], [0.1111111111111111, \"#46039f\"], [0.2222222222222222, \"#7201a8\"], [0.3333333333333333, \"#9c179e\"], [0.4444444444444444, \"#bd3786\"], [0.5555555555555556, \"#d8576b\"], [0.6666666666666666, \"#ed7953\"], [0.7777777777777778, \"#fb9f3a\"], [0.8888888888888888, \"#fdca26\"], [1.0, \"#f0f921\"]], \"type\": \"surface\"}], \"table\": [{\"cells\": {\"fill\": {\"color\": \"#EBF0F8\"}, \"line\": {\"color\": \"white\"}}, \"header\": {\"fill\": {\"color\": \"#C8D4E3\"}, \"line\": {\"color\": \"white\"}}, \"type\": \"table\"}]}, \"layout\": {\"annotationdefaults\": {\"arrowcolor\": \"#2a3f5f\", \"arrowhead\": 0, \"arrowwidth\": 1}, \"autotypenumbers\": \"strict\", \"coloraxis\": {\"colorbar\": {\"outlinewidth\": 0, \"ticks\": \"\"}}, \"colorscale\": {\"diverging\": [[0, \"#8e0152\"], [0.1, \"#c51b7d\"], [0.2, \"#de77ae\"], [0.3, \"#f1b6da\"], [0.4, \"#fde0ef\"], [0.5, \"#f7f7f7\"], [0.6, \"#e6f5d0\"], [0.7, \"#b8e186\"], [0.8, \"#7fbc41\"], [0.9, \"#4d9221\"], [1, \"#276419\"]], \"sequential\": [[0.0, \"#0d0887\"], [0.1111111111111111, \"#46039f\"], [0.2222222222222222, \"#7201a8\"], [0.3333333333333333, \"#9c179e\"], [0.4444444444444444, \"#bd3786\"], [0.5555555555555556, \"#d8576b\"], [0.6666666666666666, \"#ed7953\"], [0.7777777777777778, \"#fb9f3a\"], [0.8888888888888888, \"#fdca26\"], [1.0, \"#f0f921\"]], \"sequentialminus\": [[0.0, \"#0d0887\"], [0.1111111111111111, \"#46039f\"], [0.2222222222222222, \"#7201a8\"], [0.3333333333333333, \"#9c179e\"], [0.4444444444444444, \"#bd3786\"], [0.5555555555555556, \"#d8576b\"], [0.6666666666666666, \"#ed7953\"], [0.7777777777777778, \"#fb9f3a\"], [0.8888888888888888, \"#fdca26\"], [1.0, \"#f0f921\"]]}, \"colorway\": [\"#636efa\", \"#EF553B\", \"#00cc96\", \"#ab63fa\", \"#FFA15A\", \"#19d3f3\", \"#FF6692\", \"#B6E880\", \"#FF97FF\", \"#FECB52\"], \"font\": {\"color\": \"#2a3f5f\"}, \"geo\": {\"bgcolor\": \"white\", \"lakecolor\": \"white\", \"landcolor\": \"#E5ECF6\", \"showlakes\": true, \"showland\": true, \"subunitcolor\": \"white\"}, \"hoverlabel\": {\"align\": \"left\"}, \"hovermode\": \"closest\", \"mapbox\": {\"style\": \"light\"}, \"paper_bgcolor\": \"white\", \"plot_bgcolor\": \"#E5ECF6\", \"polar\": {\"angularaxis\": {\"gridcolor\": \"white\", \"linecolor\": \"white\", \"ticks\": \"\"}, \"bgcolor\": \"#E5ECF6\", \"radialaxis\": {\"gridcolor\": \"white\", \"linecolor\": \"white\", \"ticks\": \"\"}}, \"scene\": {\"xaxis\": {\"backgroundcolor\": \"#E5ECF6\", \"gridcolor\": \"white\", \"gridwidth\": 2, \"linecolor\": \"white\", \"showbackground\": true, \"ticks\": \"\", \"zerolinecolor\": \"white\"}, \"yaxis\": {\"backgroundcolor\": \"#E5ECF6\", \"gridcolor\": \"white\", \"gridwidth\": 2, \"linecolor\": \"white\", \"showbackground\": true, \"ticks\": \"\", \"zerolinecolor\": \"white\"}, \"zaxis\": {\"backgroundcolor\": \"#E5ECF6\", \"gridcolor\": \"white\", \"gridwidth\": 2, \"linecolor\": \"white\", \"showbackground\": true, \"ticks\": \"\", \"zerolinecolor\": \"white\"}}, \"shapedefaults\": {\"line\": {\"color\": \"#2a3f5f\"}}, \"ternary\": {\"aaxis\": {\"gridcolor\": \"white\", \"linecolor\": \"white\", \"ticks\": \"\"}, \"baxis\": {\"gridcolor\": \"white\", \"linecolor\": \"white\", \"ticks\": \"\"}, \"bgcolor\": \"#E5ECF6\", \"caxis\": {\"gridcolor\": \"white\", \"linecolor\": \"white\", \"ticks\": \"\"}}, \"title\": {\"x\": 0.05}, \"xaxis\": {\"automargin\": true, \"gridcolor\": \"white\", \"linecolor\": \"white\", \"ticks\": \"\", \"title\": {\"standoff\": 15}, \"zerolinecolor\": \"white\", \"zerolinewidth\": 2}, \"yaxis\": {\"automargin\": true, \"gridcolor\": \"white\", \"linecolor\": \"white\", \"ticks\": \"\", \"title\": {\"standoff\": 15}, \"zerolinecolor\": \"white\", \"zerolinewidth\": 2}}}, \"title\": {\"text\": \"2014 Global GDP\"}},                        {\"responsive\": true}                    ).then(function(){\n",
       "                            \n",
       "var gd = document.getElementById('12c9ed1f-6a00-4e9f-8499-28530b04cd42');\n",
       "var x = new MutationObserver(function (mutations, observer) {{\n",
       "        var display = window.getComputedStyle(gd).display;\n",
       "        if (!display || display === 'none') {{\n",
       "            console.log([gd, 'removed!']);\n",
       "            Plotly.purge(gd);\n",
       "            observer.disconnect();\n",
       "        }}\n",
       "}});\n",
       "\n",
       "// Listen for the removal of the full notebook cells\n",
       "var notebookContainer = gd.closest('#notebook-container');\n",
       "if (notebookContainer) {{\n",
       "    x.observe(notebookContainer, {childList: true});\n",
       "}}\n",
       "\n",
       "// Listen for the clearing of the current output cell\n",
       "var outputEl = gd.closest('.output');\n",
       "if (outputEl) {{\n",
       "    x.observe(outputEl, {childList: true});\n",
       "}}\n",
       "\n",
       "                        })                };                });            </script>        </div>"
      ]
     },
     "metadata": {},
     "output_type": "display_data"
    }
   ],
   "source": [
    "df = pd.read_csv('https://raw.githubusercontent.com/plotly/datasets/master/2014_world_gdp_with_codes.csv')\n",
    "\n",
    "fig = go.Figure(data=go.Choropleth(\n",
    "    locations = df['CODE'],\n",
    "    z = df['GDP (BILLIONS)'],\n",
    "    text = df['COUNTRY'],\n",
    "    colorscale = 'Reds',\n",
    "    autocolorscale=False,\n",
    "    reversescale=True,\n",
    "    marker_line_color='darkgray',\n",
    "    marker_line_width=0.5,\n",
    "    colorbar_tickprefix = '$',\n",
    "    colorbar_title = 'GDP<br>Billions US$',\n",
    "))\n",
    "\n",
    "fig.update_layout(\n",
    "    title_text='2014 Global GDP',\n",
    "    geo=dict(\n",
    "        showframe=False,\n",
    "        showcoastlines=False,\n",
    "        projection_type='conic equidistant'\n",
    "    ),\n",
    "    annotations = [dict(\n",
    "        x=0.55,\n",
    "        y=0.1,\n",
    "        xref='paper',\n",
    "        yref='paper',\n",
    "        text='Source: <a href=\"https://www.cia.gov/library/publications/the-world-factbook/fields/2195.html\">\\\n",
    "            CIA World Factbook</a>',\n",
    "        showarrow = False\n",
    "    )]\n",
    ")\n",
    "\n",
    "fig.show()"
   ]
  },
  {
   "cell_type": "code",
   "execution_count": 43,
   "metadata": {},
   "outputs": [
    {
     "data": {
      "application/vnd.plotly.v1+json": {
       "config": {
        "linkText": "Export to plot.ly",
        "plotlyServerURL": "https://plot.ly",
        "showLink": true
       },
       "data": [
        {
         "boxpoints": false,
         "line": {
          "width": 1.3
         },
         "marker": {
          "color": "rgba(255, 153, 51, 1.0)"
         },
         "name": "Country",
         "orientation": "v",
         "type": "box",
         "y": [
          "Afghanistan ",
          "Albania ",
          "Algeria ",
          "Anguilla ",
          "Antigua & Barbuda ",
          "Argentina ",
          "Armenia ",
          "Aruba ",
          "Australia ",
          "Austria ",
          "Azerbaijan ",
          "Bahamas, The ",
          "Bahrain ",
          "Bangladesh ",
          "Barbados ",
          "Belarus ",
          "Belgium ",
          "Belize ",
          "Benin ",
          "Bermuda ",
          "Bhutan ",
          "Bolivia ",
          "Botswana ",
          "Brazil ",
          "British Virgin Is. ",
          "Brunei ",
          "Bulgaria ",
          "Burkina Faso ",
          "Burma ",
          "Burundi ",
          "Cambodia ",
          "Cameroon ",
          "Cape Verde ",
          "Cayman Islands ",
          "Central African Rep. ",
          "Chad ",
          "Chile ",
          "China ",
          "Colombia ",
          "Comoros ",
          "Congo, Dem. Rep. ",
          "Congo, Repub. of the ",
          "Costa Rica ",
          "Cote d'Ivoire ",
          "Cuba ",
          "Czech Republic ",
          "Denmark ",
          "Djibouti ",
          "Dominica ",
          "Dominican Republic ",
          "Ecuador ",
          "Egypt ",
          "El Salvador ",
          "Equatorial Guinea ",
          "Eritrea ",
          "Estonia ",
          "Ethiopia ",
          "Fiji ",
          "Finland ",
          "France ",
          "French Guiana ",
          "French Polynesia ",
          "Gabon ",
          "Gambia, The ",
          "Georgia ",
          "Germany ",
          "Ghana ",
          "Greece ",
          "Grenada ",
          "Guadeloupe ",
          "Guatemala ",
          "Guinea ",
          "Guinea-Bissau ",
          "Guyana ",
          "Haiti ",
          "Honduras ",
          "Hong Kong ",
          "Hungary ",
          "Iceland ",
          "India ",
          "Indonesia ",
          "Iran ",
          "Iraq ",
          "Ireland ",
          "Israel ",
          "Jamaica ",
          "Japan ",
          "Jordan ",
          "Kazakhstan ",
          "Kenya ",
          "Korea, North ",
          "Korea, South ",
          "Kuwait ",
          "Kyrgyzstan ",
          "Laos ",
          "Latvia ",
          "Lesotho ",
          "Liberia ",
          "Liechtenstein ",
          "Macau ",
          "Madagascar ",
          "Malawi ",
          "Malaysia ",
          "Maldives ",
          "Mali ",
          "Marshall Islands ",
          "Martinique ",
          "Mauritania ",
          "Mauritius ",
          "Mexico ",
          "Micronesia, Fed. St. ",
          "Mongolia ",
          "Mozambique ",
          "Namibia ",
          "Netherlands ",
          "Netherlands Antilles ",
          "New Caledonia ",
          "New Zealand ",
          "Nicaragua ",
          "Niger ",
          "Nigeria ",
          "Norway ",
          "Oman ",
          "Pakistan ",
          "Palau ",
          "Panama ",
          "Papua New Guinea ",
          "Paraguay ",
          "Peru ",
          "Philippines ",
          "Poland ",
          "Portugal ",
          "Puerto Rico ",
          "Qatar ",
          "Reunion ",
          "Romania ",
          "Rwanda ",
          "Saint Kitts & Nevis ",
          "Saint Lucia ",
          "Saint Vincent and the Grenadines ",
          "Samoa ",
          "Sao Tome & Principe ",
          "Saudi Arabia ",
          "Senegal ",
          "Seychelles ",
          "Sierra Leone ",
          "Singapore ",
          "Somalia ",
          "South Africa ",
          "Spain ",
          "Sri Lanka ",
          "Sudan ",
          "Suriname ",
          "Swaziland ",
          "Sweden ",
          "Switzerland ",
          "Syria ",
          "Taiwan ",
          "Tajikistan ",
          "Thailand ",
          "Togo ",
          "Tonga ",
          "Trinidad & Tobago ",
          "Tunisia ",
          "Turkey ",
          "Turkmenistan ",
          "Uganda ",
          "Ukraine ",
          "United Arab Emirates ",
          "United Kingdom ",
          "United States ",
          "Uruguay ",
          "Uzbekistan ",
          "Vanuatu ",
          "Venezuela ",
          "Vietnam ",
          "Yemen ",
          "Zambia ",
          "Zimbabwe "
         ]
        },
        {
         "boxpoints": false,
         "line": {
          "width": 1.3
         },
         "marker": {
          "color": "rgba(55, 128, 191, 1.0)"
         },
         "name": "Region",
         "orientation": "v",
         "type": "box",
         "y": [
          "ASIA (EX. NEAR EAST)         ",
          "EASTERN EUROPE                     ",
          "NORTHERN AFRICA                    ",
          "LATIN AMER. & CARIB    ",
          "LATIN AMER. & CARIB    ",
          "LATIN AMER. & CARIB    ",
          "C.W. OF IND. STATES ",
          "LATIN AMER. & CARIB    ",
          "OCEANIA                            ",
          "WESTERN EUROPE                     ",
          "C.W. OF IND. STATES ",
          "LATIN AMER. & CARIB    ",
          "NEAR EAST                          ",
          "ASIA (EX. NEAR EAST)         ",
          "LATIN AMER. & CARIB    ",
          "C.W. OF IND. STATES ",
          "WESTERN EUROPE                     ",
          "LATIN AMER. & CARIB    ",
          "SUB-SAHARAN AFRICA                 ",
          "NORTHERN AMERICA                   ",
          "ASIA (EX. NEAR EAST)         ",
          "LATIN AMER. & CARIB    ",
          "SUB-SAHARAN AFRICA                 ",
          "LATIN AMER. & CARIB    ",
          "LATIN AMER. & CARIB    ",
          "ASIA (EX. NEAR EAST)         ",
          "EASTERN EUROPE                     ",
          "SUB-SAHARAN AFRICA                 ",
          "ASIA (EX. NEAR EAST)         ",
          "SUB-SAHARAN AFRICA                 ",
          "ASIA (EX. NEAR EAST)         ",
          "SUB-SAHARAN AFRICA                 ",
          "SUB-SAHARAN AFRICA                 ",
          "LATIN AMER. & CARIB    ",
          "SUB-SAHARAN AFRICA                 ",
          "SUB-SAHARAN AFRICA                 ",
          "LATIN AMER. & CARIB    ",
          "ASIA (EX. NEAR EAST)         ",
          "LATIN AMER. & CARIB    ",
          "SUB-SAHARAN AFRICA                 ",
          "SUB-SAHARAN AFRICA                 ",
          "SUB-SAHARAN AFRICA                 ",
          "LATIN AMER. & CARIB    ",
          "SUB-SAHARAN AFRICA                 ",
          "LATIN AMER. & CARIB    ",
          "EASTERN EUROPE                     ",
          "WESTERN EUROPE                     ",
          "SUB-SAHARAN AFRICA                 ",
          "LATIN AMER. & CARIB    ",
          "LATIN AMER. & CARIB    ",
          "LATIN AMER. & CARIB    ",
          "NORTHERN AFRICA                    ",
          "LATIN AMER. & CARIB    ",
          "SUB-SAHARAN AFRICA                 ",
          "SUB-SAHARAN AFRICA                 ",
          "BALTICS                            ",
          "SUB-SAHARAN AFRICA                 ",
          "OCEANIA                            ",
          "WESTERN EUROPE                     ",
          "WESTERN EUROPE                     ",
          "LATIN AMER. & CARIB    ",
          "OCEANIA                            ",
          "SUB-SAHARAN AFRICA                 ",
          "SUB-SAHARAN AFRICA                 ",
          "C.W. OF IND. STATES ",
          "WESTERN EUROPE                     ",
          "SUB-SAHARAN AFRICA                 ",
          "WESTERN EUROPE                     ",
          "LATIN AMER. & CARIB    ",
          "LATIN AMER. & CARIB    ",
          "LATIN AMER. & CARIB    ",
          "SUB-SAHARAN AFRICA                 ",
          "SUB-SAHARAN AFRICA                 ",
          "LATIN AMER. & CARIB    ",
          "LATIN AMER. & CARIB    ",
          "LATIN AMER. & CARIB    ",
          "ASIA (EX. NEAR EAST)         ",
          "EASTERN EUROPE                     ",
          "WESTERN EUROPE                     ",
          "ASIA (EX. NEAR EAST)         ",
          "ASIA (EX. NEAR EAST)         ",
          "ASIA (EX. NEAR EAST)         ",
          "NEAR EAST                          ",
          "WESTERN EUROPE                     ",
          "NEAR EAST                          ",
          "LATIN AMER. & CARIB    ",
          "ASIA (EX. NEAR EAST)         ",
          "NEAR EAST                          ",
          "C.W. OF IND. STATES ",
          "SUB-SAHARAN AFRICA                 ",
          "ASIA (EX. NEAR EAST)         ",
          "ASIA (EX. NEAR EAST)         ",
          "NEAR EAST                          ",
          "C.W. OF IND. STATES ",
          "ASIA (EX. NEAR EAST)         ",
          "BALTICS                            ",
          "SUB-SAHARAN AFRICA                 ",
          "SUB-SAHARAN AFRICA                 ",
          "WESTERN EUROPE                     ",
          "ASIA (EX. NEAR EAST)         ",
          "SUB-SAHARAN AFRICA                 ",
          "SUB-SAHARAN AFRICA                 ",
          "ASIA (EX. NEAR EAST)         ",
          "ASIA (EX. NEAR EAST)         ",
          "SUB-SAHARAN AFRICA                 ",
          "OCEANIA                            ",
          "LATIN AMER. & CARIB    ",
          "SUB-SAHARAN AFRICA                 ",
          "SUB-SAHARAN AFRICA                 ",
          "LATIN AMER. & CARIB    ",
          "OCEANIA                            ",
          "ASIA (EX. NEAR EAST)         ",
          "SUB-SAHARAN AFRICA                 ",
          "SUB-SAHARAN AFRICA                 ",
          "WESTERN EUROPE                     ",
          "LATIN AMER. & CARIB    ",
          "OCEANIA                            ",
          "OCEANIA                            ",
          "LATIN AMER. & CARIB    ",
          "SUB-SAHARAN AFRICA                 ",
          "SUB-SAHARAN AFRICA                 ",
          "WESTERN EUROPE                     ",
          "NEAR EAST                          ",
          "ASIA (EX. NEAR EAST)         ",
          "OCEANIA                            ",
          "LATIN AMER. & CARIB    ",
          "OCEANIA                            ",
          "LATIN AMER. & CARIB    ",
          "LATIN AMER. & CARIB    ",
          "ASIA (EX. NEAR EAST)         ",
          "EASTERN EUROPE                     ",
          "WESTERN EUROPE                     ",
          "LATIN AMER. & CARIB    ",
          "NEAR EAST                          ",
          "SUB-SAHARAN AFRICA                 ",
          "EASTERN EUROPE                     ",
          "SUB-SAHARAN AFRICA                 ",
          "LATIN AMER. & CARIB    ",
          "LATIN AMER. & CARIB    ",
          "LATIN AMER. & CARIB    ",
          "OCEANIA                            ",
          "SUB-SAHARAN AFRICA                 ",
          "NEAR EAST                          ",
          "SUB-SAHARAN AFRICA                 ",
          "SUB-SAHARAN AFRICA                 ",
          "SUB-SAHARAN AFRICA                 ",
          "ASIA (EX. NEAR EAST)         ",
          "SUB-SAHARAN AFRICA                 ",
          "SUB-SAHARAN AFRICA                 ",
          "WESTERN EUROPE                     ",
          "ASIA (EX. NEAR EAST)         ",
          "SUB-SAHARAN AFRICA                 ",
          "LATIN AMER. & CARIB    ",
          "SUB-SAHARAN AFRICA                 ",
          "WESTERN EUROPE                     ",
          "WESTERN EUROPE                     ",
          "NEAR EAST                          ",
          "ASIA (EX. NEAR EAST)         ",
          "C.W. OF IND. STATES ",
          "ASIA (EX. NEAR EAST)         ",
          "SUB-SAHARAN AFRICA                 ",
          "OCEANIA                            ",
          "LATIN AMER. & CARIB    ",
          "NORTHERN AFRICA                    ",
          "NEAR EAST                          ",
          "C.W. OF IND. STATES ",
          "SUB-SAHARAN AFRICA                 ",
          "C.W. OF IND. STATES ",
          "NEAR EAST                          ",
          "WESTERN EUROPE                     ",
          "NORTHERN AMERICA                   ",
          "LATIN AMER. & CARIB    ",
          "C.W. OF IND. STATES ",
          "OCEANIA                            ",
          "LATIN AMER. & CARIB    ",
          "ASIA (EX. NEAR EAST)         ",
          "NEAR EAST                          ",
          "SUB-SAHARAN AFRICA                 ",
          "SUB-SAHARAN AFRICA                 "
         ]
        },
        {
         "boxpoints": false,
         "line": {
          "width": 1.3
         },
         "marker": {
          "color": "rgba(50, 171, 96, 1.0)"
         },
         "name": "Population",
         "orientation": "v",
         "type": "box",
         "y": [
          31056997,
          3581655,
          32930091,
          13477,
          69108,
          39921833,
          2976372,
          71891,
          20264082,
          8192880,
          7961619,
          303770,
          698585,
          147365352,
          279912,
          10293011,
          10379067,
          287730,
          7862944,
          65773,
          2279723,
          8989046,
          1639833,
          188078227,
          23098,
          379444,
          7385367,
          13902972,
          47382633,
          8090068,
          13881427,
          17340702,
          420979,
          45436,
          4303356,
          9944201,
          16134219,
          1313973713,
          43593035,
          690948,
          62660551,
          3702314,
          4075261,
          17654843,
          11382820,
          10235455,
          5450661,
          486530,
          68910,
          9183984,
          13547510,
          78887007,
          6822378,
          540109,
          4786994,
          1324333,
          74777981,
          905949,
          5231372,
          60876136,
          199509,
          274578,
          1424906,
          1641564,
          4661473,
          82422299,
          22409572,
          10688058,
          89703,
          452776,
          12293545,
          9690222,
          1442029,
          767245,
          8308504,
          7326496,
          6940432,
          9981334,
          299388,
          1095351995,
          245452739,
          68688433,
          26783383,
          4062235,
          6352117,
          2758124,
          127463611,
          5906760,
          15233244,
          34707817,
          23113019,
          48846823,
          2418393,
          5213898,
          6368481,
          2274735,
          2022331,
          3042004,
          33987,
          453125,
          18595469,
          13013926,
          24385858,
          359008,
          11716829,
          60422,
          436131,
          3177388,
          1240827,
          107449525,
          108004,
          2832224,
          19686505,
          2044147,
          16491461,
          221736,
          219246,
          4076140,
          5570129,
          12525094,
          131859731,
          4610820,
          3102229,
          165803560,
          20579,
          3191319,
          5670544,
          6506464,
          28302603,
          89468677,
          38536869,
          10605870,
          3927188,
          885359,
          787584,
          22303552,
          8648248,
          39129,
          168458,
          117848,
          176908,
          193413,
          27019731,
          11987121,
          81541,
          6005250,
          4492150,
          8863338,
          44187637,
          40397842,
          20222240,
          41236378,
          439117,
          1136334,
          9016596,
          7523934,
          18881361,
          23036087,
          7320815,
          64631595,
          5548702,
          114689,
          1065842,
          10175014,
          70413958,
          5042920,
          28195754,
          46710816,
          2602713,
          60609153,
          298444215,
          3431932,
          27307134,
          208869,
          25730435,
          84402966,
          21456188,
          11502010,
          12236805
         ]
        },
        {
         "boxpoints": false,
         "line": {
          "width": 1.3
         },
         "marker": {
          "color": "rgba(128, 0, 128, 1.0)"
         },
         "name": "Area (sq. mi.)",
         "orientation": "v",
         "type": "box",
         "y": [
          647500,
          28748,
          2381740,
          102,
          443,
          2766890,
          29800,
          193,
          7686850,
          83870,
          86600,
          13940,
          665,
          144000,
          431,
          207600,
          30528,
          22966,
          112620,
          53,
          47000,
          1098580,
          600370,
          8511965,
          153,
          5770,
          110910,
          274200,
          678500,
          27830,
          181040,
          475440,
          4033,
          262,
          622984,
          1284000,
          756950,
          9596960,
          1138910,
          2170,
          2345410,
          342000,
          51100,
          322460,
          110860,
          78866,
          43094,
          23000,
          754,
          48730,
          283560,
          1001450,
          21040,
          28051,
          121320,
          45226,
          1127127,
          18270,
          338145,
          547030,
          91000,
          4167,
          267667,
          11300,
          69700,
          357021,
          239460,
          131940,
          344,
          1780,
          108890,
          245857,
          36120,
          214970,
          27750,
          112090,
          1092,
          93030,
          103000,
          3287590,
          1919440,
          1648000,
          437072,
          70280,
          20770,
          10991,
          377835,
          92300,
          2717300,
          582650,
          120540,
          98480,
          17820,
          198500,
          236800,
          64589,
          30355,
          111370,
          160,
          28,
          587040,
          118480,
          329750,
          300,
          1240000,
          11854,
          1100,
          1030700,
          2040,
          1972550,
          702,
          1564116,
          801590,
          825418,
          41526,
          960,
          19060,
          268680,
          129494,
          1267000,
          923768,
          323802,
          212460,
          803940,
          458,
          78200,
          462840,
          406750,
          1285220,
          300000,
          312685,
          92391,
          13790,
          11437,
          2517,
          237500,
          26338,
          261,
          616,
          389,
          2944,
          1001,
          1960582,
          196190,
          455,
          71740,
          693,
          637657,
          1219912,
          504782,
          65610,
          2505810,
          163270,
          17363,
          449964,
          41290,
          185180,
          35980,
          143100,
          514000,
          56785,
          748,
          5128,
          163610,
          780580,
          488100,
          236040,
          603700,
          82880,
          244820,
          9631420,
          176220,
          447400,
          12200,
          912050,
          329560,
          527970,
          752614,
          390580
         ]
        },
        {
         "boxpoints": false,
         "line": {
          "width": 1.3
         },
         "marker": {
          "color": "rgba(219, 64, 82, 1.0)"
         },
         "name": "Pop. Density (per sq. mi.)",
         "orientation": "v",
         "type": "box",
         "y": [
          "48,0",
          "124,6",
          "13,8",
          "132,1",
          "156,0",
          "14,4",
          "99,9",
          "372,5",
          "2,6",
          "97,7",
          "91,9",
          "21,8",
          "1050,5",
          "1023,4",
          "649,5",
          "49,6",
          "340,0",
          "12,5",
          "69,8",
          "1241,0",
          "48,5",
          "8,2",
          "2,7",
          "22,1",
          "151,0",
          "65,8",
          "66,6",
          "50,7",
          "69,8",
          "290,7",
          "76,7",
          "36,5",
          "104,4",
          "173,4",
          "6,9",
          "7,7",
          "21,3",
          "136,9",
          "38,3",
          "318,4",
          "26,7",
          "10,8",
          "79,8",
          "54,8",
          "102,7",
          "129,8",
          "126,5",
          "21,2",
          "91,4",
          "188,5",
          "47,8",
          "78,8",
          "324,3",
          "19,3",
          "39,5",
          "29,3",
          "66,3",
          "49,6",
          "15,5",
          "111,3",
          "2,2",
          "65,9",
          "5,3",
          "145,3",
          "66,9",
          "230,9",
          "93,6",
          "81,0",
          "260,8",
          "254,4",
          "112,9",
          "39,4",
          "39,9",
          "3,6",
          "299,4",
          "65,4",
          "6355,7",
          "107,3",
          "2,9",
          "333,2",
          "127,9",
          "41,7",
          "61,3",
          "57,8",
          "305,8",
          "250,9",
          "337,4",
          "64,0",
          "5,6",
          "59,6",
          "191,8",
          "496,0",
          "135,7",
          "26,3",
          "26,9",
          "35,2",
          "66,6",
          "27,3",
          "212,4",
          "16183,0",
          "31,7",
          "109,8",
          "74,0",
          "1196,7",
          "9,5",
          "5,1",
          "396,5",
          "3,1",
          "608,3",
          "54,5",
          "153,9",
          "1,8",
          "24,6",
          "2,5",
          "397,1",
          "231,0",
          "11,5",
          "15,2",
          "43,0",
          "9,9",
          "142,7",
          "14,2",
          "14,6",
          "206,2",
          "44,9",
          "40,8",
          "12,3",
          "16,0",
          "22,0",
          "298,2",
          "123,3",
          "114,8",
          "284,8",
          "77,4",
          "312,9",
          "93,9",
          "328,4",
          "149,9",
          "273,5",
          "303,0",
          "60,1",
          "193,2",
          "13,8",
          "61,1",
          "179,2",
          "83,7",
          "6482,2",
          "13,9",
          "36,2",
          "80,0",
          "308,2",
          "16,5",
          "2,7",
          "65,5",
          "20,0",
          "182,2",
          "102,0",
          "640,3",
          "51,2",
          "125,7",
          "97,7",
          "153,3",
          "207,9",
          "62,2",
          "90,2",
          "10,3",
          "119,5",
          "77,4",
          "31,4",
          "247,6",
          "31,0",
          "19,5",
          "61,0",
          "17,1",
          "28,2",
          "256,1",
          "40,6",
          "15,3",
          "31,3"
         ]
        },
        {
         "boxpoints": false,
         "line": {
          "width": 1.3
         },
         "marker": {
          "color": "rgba(0, 128, 128, 1.0)"
         },
         "name": "Coastline (coast/area ratio)",
         "orientation": "v",
         "type": "box",
         "y": [
          "0,00",
          "1,26",
          "0,04",
          "59,80",
          "34,54",
          "0,18",
          "0,00",
          "35,49",
          "0,34",
          "0,00",
          "0,00",
          "25,41",
          "24,21",
          "0,40",
          "22,51",
          "0,00",
          "0,22",
          "1,68",
          "0,11",
          "194,34",
          "0,00",
          "0,00",
          "0,00",
          "0,09",
          "52,29",
          "2,79",
          "0,32",
          "0,00",
          "0,28",
          "0,00",
          "0,24",
          "0,08",
          "23,93",
          "61,07",
          "0,00",
          "0,00",
          "0,85",
          "0,15",
          "0,28",
          "15,67",
          "0,00",
          "0,05",
          "2,52",
          "0,16",
          "3,37",
          "0,00",
          "16,97",
          "1,37",
          "19,63",
          "2,64",
          "0,79",
          "0,24",
          "1,46",
          "1,06",
          "1,84",
          "8,39",
          "0,00",
          "6,18",
          "0,37",
          "0,63",
          "0,42",
          "60,60",
          "0,33",
          "0,71",
          "0,44",
          "0,67",
          "0,23",
          "10,37",
          "35,17",
          "17,19",
          "0,37",
          "0,13",
          "0,97",
          "0,21",
          "6,38",
          "0,73",
          "67,12",
          "0,00",
          "4,83",
          "0,21",
          "2,85",
          "0,15",
          "0,01",
          "2,06",
          "1,31",
          "9,30",
          "7,87",
          "0,03",
          "0,00",
          "0,09",
          "2,07",
          "2,45",
          "2,80",
          "0,00",
          "0,00",
          "0,82",
          "0,00",
          "0,52",
          "0,00",
          "146,43",
          "0,82",
          "0,00",
          "1,42",
          "214,67",
          "0,00",
          "3,12",
          "31,82",
          "0,07",
          "8,68",
          "0,47",
          "870,66",
          "0,00",
          "0,31",
          "0,19",
          "1,09",
          "37,92",
          "11,83",
          "5,63",
          "0,70",
          "0,00",
          "0,09",
          "7,77",
          "0,98",
          "0,13",
          "331,66",
          "3,18",
          "1,11",
          "0,00",
          "0,19",
          "12,10",
          "0,16",
          "1,94",
          "3,63",
          "4,92",
          "8,22",
          "0,09",
          "0,00",
          "51,72",
          "25,65",
          "21,59",
          "13,69",
          "20,88",
          "0,13",
          "0,27",
          "107,91",
          "0,56",
          "27,85",
          "0,47",
          "0,23",
          "0,98",
          "2,04",
          "0,03",
          "0,24",
          "0,00",
          "0,72",
          "0,00",
          "0,10",
          "4,35",
          "0,00",
          "0,63",
          "0,10",
          "56,02",
          "7,06",
          "0,70",
          "0,92",
          "0,00",
          "0,00",
          "0,46",
          "1,59",
          "5,08",
          "0,21",
          "0,37",
          "0,00",
          "20,72",
          "0,31",
          "1,05",
          "0,36",
          "0,00",
          "0,00"
         ]
        },
        {
         "boxpoints": false,
         "line": {
          "width": 1.3
         },
         "marker": {
          "color": "rgba(255, 255, 51, 1.0)"
         },
         "name": "Net migration",
         "orientation": "v",
         "type": "box",
         "y": [
          "23,06",
          "-4,93",
          "-0,39",
          "10,76",
          "-6,15",
          "0,61",
          "-6,47",
          "0",
          "3,98",
          "2",
          "-4,9",
          "-2,2",
          "1,05",
          "-0,71",
          "-0,31",
          "2,54",
          "1,23",
          "0",
          "0",
          "2,49",
          "0",
          "-1,32",
          "0",
          "-0,03",
          "10,01",
          "3,59",
          "-4,58",
          "0",
          "-1,8",
          "-0,06",
          "0",
          "0",
          "-12,07",
          "18,75",
          "0",
          "-0,11",
          "0",
          "-0,4",
          "-0,31",
          "0",
          "0",
          "-0,17",
          "0,51",
          "-0,07",
          "-1,58",
          "0,97",
          "2,48",
          "0",
          "-13,87",
          "-3,22",
          "-8,58",
          "-0,22",
          "-3,74",
          "0",
          "0",
          "-3,16",
          "0",
          "-3,14",
          "0,95",
          "0,66",
          "6,27",
          "2,94",
          "0",
          "1,57",
          "-4,7",
          "2,18",
          "-0,64",
          "2,35",
          "-13,92",
          "-0,15",
          "-1,67",
          "-3,06",
          "-1,57",
          "-2,07",
          "-3,4",
          "-1,99",
          "5,24",
          "0,86",
          "2,38",
          "-0,07",
          "0",
          "-0,84",
          "0",
          "4,99",
          "0,68",
          "-4,92",
          "0",
          "6,59",
          "-3,35",
          "-0,1",
          "0",
          "0",
          "14,18",
          "-2,45",
          "0",
          "-2,23",
          "-0,74",
          "0",
          "4,85",
          "4,86",
          "0",
          "0",
          "0",
          "0",
          "-0,33",
          "-6,04",
          "-0,05",
          "0",
          "-0,9",
          "-4,87",
          "-20,99",
          "0",
          "0",
          "0",
          "2,91",
          "-0,41",
          "0",
          "4,05",
          "-1,22",
          "-0,67",
          "0,26",
          "1,74",
          "0,28",
          "-2,77",
          "2,85",
          "-0,91",
          "0",
          "-0,08",
          "-1,05",
          "-1,5",
          "-0,49",
          "3,57",
          "-1,46",
          "16,29",
          "0",
          "-0,13",
          "0",
          "-7,11",
          "-2,67",
          "-7,64",
          "-11,7",
          "-2,72",
          "-2,71",
          "0,2",
          "-5,69",
          "0",
          "11,53",
          "5,37",
          "-0,29",
          "0,99",
          "-1,31",
          "-0,02",
          "-8,81",
          "0",
          "1,67",
          "4,05",
          "0",
          "0",
          "-2,86",
          "0",
          "0",
          "0",
          "-10,83",
          "-0,57",
          "0",
          "-0,86",
          "0",
          "-0,39",
          "1,03",
          "2,19",
          "3,41",
          "-0,32",
          "-1,72",
          "0",
          "-0,04",
          "-0,45",
          "0",
          "0",
          "0"
         ]
        },
        {
         "boxpoints": false,
         "line": {
          "width": 1.3
         },
         "marker": {
          "color": "rgba(128, 128, 0, 1.0)"
         },
         "name": "Infant mortality (per 1000 births)",
         "orientation": "v",
         "type": "box",
         "y": [
          "163,07",
          "21,52",
          "31",
          "21,03",
          "19,46",
          "15,18",
          "23,28",
          "5,89",
          "4,69",
          "4,66",
          "81,74",
          "25,21",
          "17,27",
          "62,6",
          "12,5",
          "13,37",
          "4,68",
          "25,69",
          "85",
          "8,53",
          "100,44",
          "53,11",
          "54,58",
          "29,61",
          "18,05",
          "12,61",
          "20,55",
          "97,57",
          "67,24",
          "69,29",
          "71,48",
          "68,26",
          "47,77",
          "8,19",
          "91",
          "93,82",
          "8,8",
          "24,18",
          "20,97",
          "74,93",
          "94,69",
          "93,86",
          "9,95",
          "90,83",
          "6,33",
          "3,93",
          "4,56",
          "104,13",
          "14,15",
          "32,38",
          "23,66",
          "32,59",
          "25,1",
          "85,13",
          "74,87",
          "7,87",
          "95,32",
          "12,62",
          "3,57",
          "4,26",
          "12,07",
          "8,44",
          "53,64",
          "72,02",
          "18,59",
          "4,16",
          "51,43",
          "5,53",
          "14,62",
          "8,6",
          "35,93",
          "90,37",
          "107,17",
          "33,26",
          "73,45",
          "29,32",
          "2,97",
          "8,57",
          "3,31",
          "56,29",
          "35,6",
          "41,58",
          "50,25",
          "5,39",
          "7,03",
          "12,36",
          "3,26",
          "17,35",
          "29,21",
          "61,47",
          "24,04",
          "7,05",
          "9,95",
          "35,64",
          "85,22",
          "9,55",
          "84,23",
          "128,87",
          "4,7",
          "4,39",
          "76,83",
          "103,32",
          "17,7",
          "56,52",
          "116,79",
          "29,45",
          "7,09",
          "70,89",
          "15,03",
          "20,91",
          "30,21",
          "53,79",
          "130,79",
          "48,98",
          "5,04",
          "10,03",
          "7,72",
          "5,85",
          "29,11",
          "121,69",
          "98,8",
          "3,7",
          "19,51",
          "72,44",
          "14,84",
          "20,47",
          "51,45",
          "25,63",
          "31,94",
          "23,51",
          "8,51",
          "5,05",
          "8,24",
          "18,61",
          "7,78",
          "26,43",
          "91,23",
          "14,49",
          "13,53",
          "14,78",
          "27,71",
          "43,11",
          "13,24",
          "55,51",
          "15,53",
          "143,64",
          "2,29",
          "116,7",
          "61,81",
          "4,42",
          "14,35",
          "62,5",
          "23,57",
          "69,27",
          "2,77",
          "4,39",
          "29,53",
          "6,4",
          "110,76",
          "20,48",
          "66,61",
          "12,62",
          "24,31",
          "24,77",
          "41,04",
          "73,08",
          "67,83",
          "20,34",
          "14,51",
          "5,16",
          "6,5",
          "11,95",
          "71,1",
          "55,16",
          "22,2",
          "25,95",
          "61,5",
          "88,29",
          "67,69"
         ]
        },
        {
         "boxpoints": false,
         "line": {
          "width": 1.3
         },
         "marker": {
          "color": "rgba(251, 128, 114, 1.0)"
         },
         "name": "GDP ($ per capita)",
         "orientation": "v",
         "type": "box",
         "y": [
          700,
          4500,
          6000,
          8600,
          11000,
          11200,
          3500,
          28000,
          29000,
          30000,
          3400,
          16700,
          16900,
          1900,
          15700,
          6100,
          29100,
          4900,
          1100,
          36000,
          1300,
          2400,
          9000,
          7600,
          16000,
          18600,
          7600,
          1100,
          1800,
          600,
          1900,
          1800,
          1400,
          35000,
          1100,
          1200,
          9900,
          5000,
          6300,
          700,
          700,
          700,
          9100,
          1400,
          2900,
          15700,
          31100,
          1300,
          5400,
          6000,
          3300,
          4000,
          4800,
          2700,
          700,
          12300,
          700,
          5800,
          27400,
          27600,
          8300,
          17500,
          5500,
          1700,
          2500,
          27600,
          2200,
          20000,
          5000,
          8000,
          4100,
          2100,
          800,
          4000,
          1600,
          2600,
          28800,
          13900,
          30900,
          2900,
          3200,
          7000,
          1500,
          29600,
          19800,
          3900,
          28200,
          4300,
          6300,
          1000,
          1300,
          17800,
          19000,
          1600,
          1700,
          10200,
          3000,
          1000,
          25000,
          19400,
          800,
          600,
          9000,
          3900,
          900,
          1600,
          14400,
          1800,
          11400,
          9000,
          2000,
          1800,
          1200,
          7200,
          28600,
          11400,
          15000,
          21600,
          2300,
          800,
          900,
          37800,
          13100,
          2100,
          9000,
          6300,
          2200,
          4700,
          5100,
          4600,
          11100,
          18000,
          16800,
          21500,
          5800,
          7000,
          1300,
          8800,
          5400,
          2900,
          5600,
          1200,
          11800,
          1600,
          7800,
          500,
          23700,
          500,
          10700,
          22000,
          3700,
          1900,
          4000,
          4900,
          26800,
          32700,
          3300,
          23400,
          1000,
          7400,
          1500,
          2200,
          9500,
          6900,
          6700,
          5800,
          1400,
          5400,
          23200,
          27700,
          37800,
          12800,
          1700,
          2900,
          4800,
          2500,
          800,
          800,
          1900
         ]
        },
        {
         "boxpoints": false,
         "line": {
          "width": 1.3
         },
         "marker": {
          "color": "rgba(128, 177, 211, 1.0)"
         },
         "name": "Literacy (%)",
         "orientation": "v",
         "type": "box",
         "y": [
          "36,0",
          "86,5",
          "70,0",
          "95,0",
          "89,0",
          "97,1",
          "98,6",
          "97,0",
          "100,0",
          "98,0",
          "97,0",
          "95,6",
          "89,1",
          "43,1",
          "97,4",
          "99,6",
          "98,0",
          "94,1",
          "40,9",
          "98,0",
          "42,2",
          "87,2",
          "79,8",
          "86,4",
          "97,8",
          "93,9",
          "98,6",
          "26,6",
          "85,3",
          "51,6",
          "69,4",
          "79,0",
          "76,6",
          "98,0",
          "51,0",
          "47,5",
          "96,2",
          "90,9",
          "92,5",
          "56,5",
          "65,5",
          "83,8",
          "96,0",
          "50,9",
          "97,0",
          "99,9",
          "100,0",
          "67,9",
          "94,0",
          "84,7",
          "92,5",
          "57,7",
          "80,2",
          "85,7",
          "58,6",
          "99,8",
          "42,7",
          "93,7",
          "100,0",
          "99,0",
          "83,0",
          "98,0",
          "63,2",
          "40,1",
          "99,0",
          "99,0",
          "74,8",
          "97,5",
          "98,0",
          "90,0",
          "70,6",
          "35,9",
          "42,4",
          "98,8",
          "52,9",
          "76,2",
          "93,5",
          "99,4",
          "99,9",
          "59,5",
          "87,9",
          "79,4",
          "40,4",
          "98,0",
          "95,4",
          "87,9",
          "99,0",
          "91,3",
          "98,4",
          "85,1",
          "99,0",
          "97,9",
          "83,5",
          "97,0",
          "66,4",
          "99,8",
          "84,8",
          "57,5",
          "100,0",
          "94,5",
          "68,9",
          "62,7",
          "88,7",
          "97,2",
          "46,4",
          "93,7",
          "97,7",
          "41,7",
          "85,6",
          "92,2",
          "89,0",
          "97,8",
          "47,8",
          "84,0",
          "99,0",
          "96,7",
          "91,0",
          "99,0",
          "67,5",
          "17,6",
          "68,0",
          "100,0",
          "75,8",
          "45,7",
          "92,0",
          "92,6",
          "64,6",
          "94,0",
          "90,9",
          "92,6",
          "99,8",
          "93,3",
          "94,1",
          "82,5",
          "88,9",
          "98,4",
          "70,4",
          "97,0",
          "67,0",
          "96,0",
          "99,7",
          "79,3",
          "78,8",
          "40,2",
          "58,0",
          "31,4",
          "92,5",
          "37,8",
          "86,4",
          "97,9",
          "92,3",
          "61,1",
          "93,0",
          "81,6",
          "99,0",
          "99,0",
          "76,9",
          "96,1",
          "99,4",
          "92,6",
          "60,9",
          "98,5",
          "98,6",
          "74,2",
          "86,5",
          "98,0",
          "69,9",
          "99,7",
          "77,9",
          "99,0",
          "97,0",
          "98,0",
          "99,3",
          "53,0",
          "93,4",
          "90,3",
          "50,2",
          "80,6",
          "90,7"
         ]
        },
        {
         "boxpoints": false,
         "line": {
          "width": 1.3
         },
         "marker": {
          "color": "rgba(128, 177, 211, 0.8999999999999999)"
         },
         "name": "Phones (per 1000)",
         "orientation": "v",
         "type": "box",
         "y": [
          "3,2",
          "71,2",
          "78,1",
          "460,0",
          "549,9",
          "220,4",
          "195,7",
          "516,1",
          "565,5",
          "452,2",
          "137,1",
          "460,6",
          "281,3",
          "7,3",
          "481,9",
          "319,1",
          "462,6",
          "115,7",
          "9,7",
          "851,4",
          "14,3",
          "71,9",
          "80,5",
          "225,3",
          "506,5",
          "237,2",
          "336,3",
          "7,0",
          "10,1",
          "3,4",
          "2,6",
          "5,7",
          "169,6",
          "836,3",
          "2,3",
          "1,3",
          "213,0",
          "266,7",
          "176,2",
          "24,5",
          "0,2",
          "3,7",
          "340,7",
          "14,6",
          "74,7",
          "314,3",
          "614,6",
          "22,8",
          "304,8",
          "97,4",
          "125,6",
          "131,8",
          "142,4",
          "18,5",
          "7,9",
          "333,8",
          "8,2",
          "112,6",
          "405,3",
          "586,4",
          "255,6",
          "194,5",
          "27,4",
          "26,8",
          "146,6",
          "667,9",
          "14,4",
          "589,7",
          "364,5",
          "463,8",
          "92,1",
          "2,7",
          "7,4",
          "143,5",
          "16,9",
          "67,5",
          "546,7",
          "336,2",
          "647,7",
          "45,4",
          "52,0",
          "276,4",
          "38,6",
          "500,5",
          "462,3",
          "124,0",
          "461,2",
          "104,5",
          "164,1",
          "8,1",
          "42,4",
          "486,1",
          "211,0",
          "84,0",
          "14,1",
          "321,4",
          "23,7",
          "2,3",
          "585,5",
          "384,9",
          "3,6",
          "7,9",
          "179,0",
          "90,0",
          "6,4",
          "91,2",
          "394,4",
          "12,9",
          "289,3",
          "181,6",
          "114,8",
          "55,1",
          "3,5",
          "62,6",
          "460,8",
          "365,3",
          "252,2",
          "441,7",
          "39,7",
          "1,9",
          "9,3",
          "461,7",
          "85,5",
          "31,8",
          "325,6",
          "137,9",
          "10,9",
          "49,2",
          "79,5",
          "38,4",
          "306,3",
          "399,2",
          "283,1",
          "232,0",
          "380,9",
          "196,9",
          "2,7",
          "638,9",
          "303,3",
          "190,9",
          "75,2",
          "36,2",
          "140,6",
          "22,2",
          "262,4",
          "4,0",
          "411,4",
          "11,3",
          "107,0",
          "453,5",
          "61,5",
          "16,3",
          "184,7",
          "30,8",
          "715,0",
          "680,9",
          "153,8",
          "591,0",
          "33,5",
          "108,9",
          "10,6",
          "97,7",
          "303,5",
          "123,6",
          "269,5",
          "74,6",
          "3,6",
          "259,9",
          "475,3",
          "543,5",
          "898,0",
          "291,4",
          "62,9",
          "32,6",
          "140,1",
          "187,7",
          "37,2",
          "8,2",
          "26,8"
         ]
        },
        {
         "boxpoints": false,
         "line": {
          "width": 1.3
         },
         "marker": {
          "color": "rgba(255, 153, 51, 0.8999999999999999)"
         },
         "name": "Arable (%)",
         "orientation": "v",
         "type": "box",
         "y": [
          "12,13",
          "21,09",
          "3,22",
          "0",
          "18,18",
          "12,31",
          "17,55",
          "10,53",
          "6,55",
          "16,91",
          "19,63",
          "0,8",
          "2,82",
          "62,11",
          "37,21",
          "29,55",
          "23,28",
          "2,85",
          "18,08",
          "20",
          "3,09",
          "2,67",
          "0,65",
          "6,96",
          "20",
          "0,57",
          "40,02",
          "14,43",
          "15,19",
          "35,05",
          "20,96",
          "12,81",
          "9,68",
          "3,85",
          "3,1",
          "2,86",
          "2,65",
          "15,4",
          "2,42",
          "35,87",
          "2,96",
          "0,51",
          "4,41",
          "9,75",
          "33,05",
          "39,8",
          "54,02",
          "0,04",
          "6,67",
          "22,65",
          "5,85",
          "2,87",
          "31,85",
          "4,63",
          "4,95",
          "16,04",
          "10,71",
          "10,95",
          "7,19",
          "33,53",
          "0,14",
          "0,82",
          "1,26",
          "25",
          "11,44",
          "33,85",
          "16,26",
          "21,1",
          "5,88",
          "11,24",
          "12,54",
          "3,63",
          "10,67",
          "2,44",
          "28,3",
          "9,55",
          "5,05",
          "50,09",
          "0,07",
          "54,4",
          "11,32",
          "8,72",
          "13,15",
          "15,2",
          "16,39",
          "16,07",
          "12,19",
          "2,67",
          "7,98",
          "8,08",
          "20,76",
          "17,18",
          "0,73",
          "7,3",
          "3,8",
          "29,67",
          "10,87",
          "3,95",
          "25",
          "0",
          "5,07",
          "23,38",
          "5,48",
          "13,33",
          "3,82",
          "16,67",
          "10,38",
          "0,48",
          "49,26",
          "12,99",
          "5,71",
          "0,77",
          "5,1",
          "0,99",
          "26,71",
          "10",
          "0,38",
          "5,6",
          "15,94",
          "3,54",
          "31,29",
          "2,87",
          "0",
          "27,87",
          "8,7",
          "7,36",
          "0,46",
          "7,6",
          "2,89",
          "18,95",
          "45,91",
          "21,75",
          "3,95",
          "1,64",
          "13,6",
          "40,82",
          "40,54",
          "19,44",
          "6,56",
          "17,95",
          "21,2",
          "6,25",
          "1,67",
          "12,78",
          "2,22",
          "6,98",
          "1,64",
          "1,67",
          "12,08",
          "26,07",
          "13,86",
          "6,83",
          "0,37",
          "10,35",
          "6,54",
          "10,42",
          "25,22",
          "24",
          "6,61",
          "29,36",
          "46,15",
          "23,61",
          "14,62",
          "17,86",
          "30,93",
          "3,72",
          "25,88",
          "56,21",
          "0,6",
          "23,46",
          "19,13",
          "7,43",
          "10,83",
          "2,46",
          "2,95",
          "19,97",
          "2,78",
          "7,08",
          "8,32"
         ]
        },
        {
         "boxpoints": false,
         "line": {
          "width": 1.3
         },
         "marker": {
          "color": "rgba(55, 128, 191, 0.8999999999999999)"
         },
         "name": "Crops (%)",
         "orientation": "v",
         "type": "box",
         "y": [
          "0,22",
          "4,42",
          "0,25",
          "0",
          "4,55",
          "0,48",
          "2,3",
          "0",
          "0,04",
          "0,86",
          "2,71",
          "0,4",
          "5,63",
          "3,07",
          "2,33",
          "0,6",
          "0,4",
          "1,71",
          "2,4",
          "0",
          "0,43",
          "0,19",
          "0,01",
          "0,9",
          "6,67",
          "0,76",
          "1,92",
          "0,19",
          "0,97",
          "14,02",
          "0,61",
          "2,58",
          "0,5",
          "0",
          "0,14",
          "0,02",
          "0,42",
          "1,25",
          "1,67",
          "23,32",
          "0,52",
          "0,13",
          "5,88",
          "13,84",
          "7,6",
          "3,05",
          "0,19",
          "0",
          "20",
          "10,33",
          "4,93",
          "0,48",
          "12,07",
          "3,57",
          "0,03",
          "0,45",
          "0,75",
          "4,65",
          "0,03",
          "2,07",
          "0,05",
          "5,46",
          "0,66",
          "0,5",
          "3,86",
          "0,59",
          "9,67",
          "8,78",
          "29,41",
          "3,55",
          "5,03",
          "2,58",
          "8,82",
          "0,15",
          "11,61",
          "3,22",
          "1,01",
          "2,06",
          "0",
          "2,74",
          "7,23",
          "1,39",
          "0,78",
          "0,03",
          "4,17",
          "10,16",
          "0,96",
          "1,83",
          "0,05",
          "0,98",
          "2,49",
          "1,95",
          "0,11",
          "0,35",
          "0,35",
          "0,47",
          "0,13",
          "2,28",
          "0",
          "0",
          "1,03",
          "1,49",
          "17,61",
          "16,67",
          "0,03",
          "38,89",
          "9,43",
          "0,01",
          "2,96",
          "1,31",
          "45,71",
          "0",
          "0,3",
          "0",
          "0,97",
          "0",
          "0,33",
          "6,99",
          "1,94",
          "0,01",
          "2,96",
          "0",
          "0,14",
          "0,87",
          "4,35",
          "1,98",
          "1,44",
          "0,23",
          "0,4",
          "16,77",
          "1,12",
          "7,81",
          "5,52",
          "0,27",
          "1,2",
          "2,25",
          "12,16",
          "2,78",
          "22,95",
          "17,95",
          "24,38",
          "48,96",
          "0,09",
          "0,21",
          "13,33",
          "0,89",
          "0",
          "0,04",
          "0,79",
          "9,87",
          "15,7",
          "0,18",
          "0,06",
          "0,7",
          "0,01",
          "0,61",
          "4,43",
          "1",
          "0,92",
          "6,46",
          "2,21",
          "43,06",
          "9,16",
          "13,74",
          "3,31",
          "0,14",
          "10,65",
          "1,61",
          "2,25",
          "0,21",
          "0,22",
          "0,23",
          "0,83",
          "7,38",
          "0,92",
          "5,95",
          "0,24",
          "0,03",
          "0,34"
         ]
        },
        {
         "boxpoints": false,
         "line": {
          "width": 1.3
         },
         "marker": {
          "color": "rgba(50, 171, 96, 0.8999999999999999)"
         },
         "name": "Other (%)",
         "orientation": "v",
         "type": "box",
         "y": [
          "87,65",
          "74,49",
          "96,53",
          "100",
          "77,27",
          "87,21",
          "80,15",
          "89,47",
          "93,41",
          "82,23",
          "77,66",
          "98,8",
          "91,55",
          "34,82",
          "60,46",
          "69,85",
          "76,32",
          "95,44",
          "79,52",
          "80",
          "96,48",
          "97,14",
          "99,34",
          "92,15",
          "73,33",
          "98,67",
          "58,06",
          "85,38",
          "83,84",
          "50,93",
          "78,43",
          "84,61",
          "89,82",
          "96,15",
          "96,76",
          "97,12",
          "96,93",
          "83,35",
          "95,91",
          "40,81",
          "96,52",
          "99,36",
          "89,71",
          "76,41",
          "59,35",
          "57,15",
          "45,79",
          "99,96",
          "73,33",
          "67,02",
          "89,22",
          "96,65",
          "56,08",
          "91,8",
          "95,02",
          "83,51",
          "88,54",
          "84,4",
          "92,78",
          "64,4",
          "99,81",
          "93,72",
          "98,08",
          "74,5",
          "84,7",
          "65,56",
          "74,07",
          "70,12",
          "64,71",
          "85,21",
          "82,43",
          "93,79",
          "80,51",
          "97,41",
          "60,09",
          "87,23",
          "93,94",
          "47,85",
          "99,93",
          "42,86",
          "81,45",
          "89,89",
          "86,07",
          "84,77",
          "79,44",
          "73,77",
          "86,85",
          "95,5",
          "91,97",
          "90,94",
          "76,75",
          "80,87",
          "99,16",
          "92,35",
          "95,85",
          "69,86",
          "89",
          "93,77",
          "75",
          "100",
          "93,91",
          "75,13",
          "76,91",
          "70",
          "96,15",
          "44,44",
          "80,19",
          "99,51",
          "47,78",
          "85,7",
          "48,58",
          "99,23",
          "94,6",
          "99,01",
          "72,32",
          "90",
          "99,29",
          "87,41",
          "82,12",
          "96,45",
          "65,75",
          "97,13",
          "99,74",
          "71,26",
          "86,95",
          "90,66",
          "98,1",
          "92,17",
          "96,71",
          "64,28",
          "52,97",
          "70,44",
          "90,53",
          "98,09",
          "85,2",
          "56,93",
          "47,3",
          "77,78",
          "70,49",
          "64,1",
          "54,42",
          "44,79",
          "98,24",
          "87,01",
          "84,45",
          "92,13",
          "98,36",
          "98,29",
          "87,13",
          "64,06",
          "70,44",
          "92,99",
          "99,57",
          "88,95",
          "93,45",
          "88,97",
          "70,35",
          "75",
          "92,47",
          "64,18",
          "51,64",
          "33,33",
          "76,22",
          "68,4",
          "65,76",
          "96,14",
          "63,47",
          "42,18",
          "97,15",
          "76,33",
          "80,65",
          "92,34",
          "88,34",
          "90,16",
          "96,13",
          "74,08",
          "96,98",
          "92,9",
          "91,34"
         ]
        },
        {
         "boxpoints": false,
         "line": {
          "width": 1.3
         },
         "marker": {
          "color": "rgba(128, 0, 128, 0.8999999999999999)"
         },
         "name": "Climate",
         "orientation": "v",
         "type": "box",
         "y": [
          "1",
          "3",
          "1",
          "2",
          "2",
          "3",
          "4",
          "2",
          "1",
          "3",
          "1",
          "2",
          "1",
          "2",
          "2",
          "4",
          "3",
          "2",
          "2",
          "2",
          "2",
          "1,5",
          "1",
          "2",
          "2",
          "2",
          "3",
          "2",
          "2",
          "2",
          "2",
          "1,5",
          "3",
          "2",
          "2",
          "2",
          "3",
          "1,5",
          "2",
          "2",
          "2",
          "2",
          "2",
          "2",
          "2",
          "3",
          "3",
          "1",
          "2",
          "2",
          "2",
          "1",
          "2",
          "2",
          "1,5",
          "3",
          "2",
          "2",
          "3",
          "4",
          "2",
          "2",
          "2",
          "2",
          "3",
          "3",
          "2",
          "3",
          "2",
          "2",
          "2",
          "2",
          "2",
          "2",
          "2",
          "2",
          "2",
          "3",
          "3",
          "2,5",
          "2",
          "1",
          "1",
          "3",
          "3",
          "2",
          "3",
          "1",
          "4",
          "1,5",
          "3",
          "3",
          "1",
          "2,5",
          "2",
          "3",
          "3",
          "2",
          "4",
          "2",
          "2",
          "2",
          "2",
          "2",
          "2",
          "2",
          "2",
          "1",
          "2",
          "1,5",
          "2",
          "1",
          "2",
          "1",
          "3",
          "2",
          "2",
          "3",
          "2",
          "1",
          "1,5",
          "3",
          "1",
          "1",
          "2",
          "2",
          "2",
          "2",
          "1,5",
          "2",
          "3",
          "3",
          "2",
          "1",
          "2",
          "3",
          "3",
          "2",
          "2",
          "2",
          "2",
          "2",
          "1",
          "2",
          "2",
          "2",
          "2",
          "1",
          "1",
          "3",
          "2",
          "2",
          "2",
          "2,5",
          "3",
          "3",
          "1",
          "2",
          "2",
          "2",
          "2",
          "2",
          "2",
          "3",
          "3",
          "1",
          "2",
          "3",
          "1",
          "3",
          "3",
          "3",
          "1",
          "2",
          "2",
          "2",
          "1",
          "2",
          "2"
         ]
        },
        {
         "boxpoints": false,
         "line": {
          "width": 1.3
         },
         "marker": {
          "color": "rgba(219, 64, 82, 0.8999999999999999)"
         },
         "name": "Birthrate",
         "orientation": "v",
         "type": "box",
         "y": [
          "46,6",
          "15,11",
          "17,14",
          "14,17",
          "16,93",
          "16,73",
          "12,07",
          "11,03",
          "12,14",
          "8,74",
          "20,74",
          "17,57",
          "17,8",
          "29,8",
          "12,71",
          "11,16",
          "10,38",
          "28,84",
          "38,85",
          "11,4",
          "33,65",
          "23,3",
          "23,08",
          "16,56",
          "14,89",
          "18,79",
          "9,65",
          "45,62",
          "17,91",
          "42,22",
          "26,9",
          "33,89",
          "24,87",
          "12,74",
          "33,91",
          "45,73",
          "15,23",
          "13,25",
          "20,48",
          "36,93",
          "43,69",
          "42,57",
          "18,32",
          "35,11",
          "11,89",
          "9,02",
          "11,13",
          "39,53",
          "15,27",
          "23,22",
          "22,29",
          "22,94",
          "26,61",
          "35,59",
          "34,33",
          "10,04",
          "37,98",
          "22,55",
          "10,45",
          "11,99",
          "20,46",
          "16,68",
          "36,16",
          "39,37",
          "10,41",
          "8,25",
          "30,52",
          "9,68",
          "22,08",
          "15,05",
          "29,88",
          "41,76",
          "37,22",
          "18,28",
          "36,44",
          "28,24",
          "7,29",
          "9,72",
          "13,64",
          "22,01",
          "20,34",
          "17",
          "31,98",
          "14,45",
          "17,97",
          "20,82",
          "9,37",
          "21,25",
          "16",
          "39,72",
          "15,54",
          "10",
          "21,94",
          "22,8",
          "35,49",
          "9,24",
          "24,75",
          "44,77",
          "10,21",
          "8,48",
          "41,41",
          "43,13",
          "22,86",
          "34,81",
          "49,82",
          "33,05",
          "13,74",
          "40,99",
          "15,43",
          "20,69",
          "24,68",
          "21,59",
          "35,18",
          "24,32",
          "10,9",
          "14,78",
          "18,11",
          "13,76",
          "24,51",
          "50,73",
          "40,43",
          "11,46",
          "36,24",
          "29,74",
          "18,03",
          "21,74",
          "29,36",
          "29,1",
          "20,48",
          "24,89",
          "9,85",
          "10,72",
          "12,77",
          "15,56",
          "18,9",
          "10,7",
          "40,37",
          "18,02",
          "19,68",
          "16,18",
          "16,43",
          "40,25",
          "29,34",
          "32,78",
          "16,03",
          "45,76",
          "9,34",
          "45,13",
          "18,2",
          "10,06",
          "15,51",
          "34,53",
          "18,02",
          "27,41",
          "10,27",
          "9,71",
          "27,76",
          "12,56",
          "32,65",
          "13,87",
          "37,01",
          "25,37",
          "12,9",
          "15,52",
          "16,62",
          "27,61",
          "47,35",
          "8,82",
          "18,96",
          "10,71",
          "14,14",
          "13,91",
          "26,36",
          "22,72",
          "18,71",
          "16,86",
          "42,89",
          "41",
          "28,01"
         ]
        },
        {
         "boxpoints": false,
         "line": {
          "width": 1.3
         },
         "marker": {
          "color": "rgba(0, 128, 128, 0.8999999999999999)"
         },
         "name": "Deathrate",
         "orientation": "v",
         "type": "box",
         "y": [
          "20,34",
          "5,22",
          "4,61",
          "5,34",
          "5,37",
          "7,55",
          "8,23",
          "6,68",
          "7,51",
          "9,76",
          "9,75",
          "9,05",
          "4,14",
          "8,27",
          "8,67",
          "14,02",
          "10,27",
          "5,72",
          "12,22",
          "7,74",
          "12,7",
          "7,53",
          "29,5",
          "6,17",
          "4,42",
          "3,45",
          "14,27",
          "15,6",
          "9,83",
          "13,46",
          "9,06",
          "13,47",
          "6,55",
          "4,89",
          "18,65",
          "16,38",
          "5,81",
          "6,97",
          "5,58",
          "8,2",
          "13,27",
          "12,93",
          "4,36",
          "14,84",
          "7,22",
          "10,59",
          "10,36",
          "19,31",
          "6,73",
          "5,73",
          "4,23",
          "5,23",
          "5,78",
          "15,06",
          "9,6",
          "13,25",
          "14,86",
          "5,65",
          "9,86",
          "9,14",
          "4,88",
          "4,69",
          "12,25",
          "12,25",
          "9,23",
          "10,62",
          "9,72",
          "10,24",
          "6,88",
          "6,09",
          "5,2",
          "15,48",
          "16,53",
          "8,28",
          "12,17",
          "5,28",
          "6,29",
          "13,11",
          "6,72",
          "8,18",
          "6,25",
          "5,55",
          "5,37",
          "7,82",
          "6,18",
          "6,52",
          "9,16",
          "2,65",
          "9,42",
          "14,02",
          "7,13",
          "5,85",
          "2,41",
          "7,08",
          "11,55",
          "13,66",
          "28,71",
          "23,1",
          "7,18",
          "4,47",
          "11,11",
          "19,33",
          "5,05",
          "7,06",
          "16,89",
          "4,78",
          "6,48",
          "12,16",
          "6,86",
          "4,74",
          "4,75",
          "6,95",
          "21,35",
          "18,86",
          "8,68",
          "6,45",
          "5,69",
          "7,53",
          "4,45",
          "20,91",
          "16,94",
          "9,4",
          "3,81",
          "8,23",
          "6,8",
          "5,36",
          "7,25",
          "4,49",
          "6,23",
          "5,41",
          "9,89",
          "10,5",
          "7,65",
          "4,72",
          "5,49",
          "11,77",
          "16,09",
          "8,33",
          "5,08",
          "5,98",
          "6,62",
          "6,47",
          "2,58",
          "9,42",
          "6,29",
          "23,03",
          "4,28",
          "16,63",
          "22",
          "9,72",
          "6,52",
          "8,97",
          "7,27",
          "29,74",
          "10,31",
          "8,49",
          "4,81",
          "6,48",
          "8,25",
          "7,04",
          "9,83",
          "5,28",
          "10,57",
          "5,13",
          "5,97",
          "8,6",
          "12,24",
          "14,39",
          "4,4",
          "10,13",
          "8,26",
          "9,05",
          "7,84",
          "7,82",
          "4,92",
          "6,22",
          "8,3",
          "19,93",
          "21,84"
         ]
        },
        {
         "boxpoints": false,
         "line": {
          "width": 1.3
         },
         "marker": {
          "color": "rgba(255, 255, 51, 0.8999999999999999)"
         },
         "name": "Agriculture",
         "orientation": "v",
         "type": "box",
         "y": [
          "0,38",
          "0,232",
          "0,101",
          "0,04",
          "0,038",
          "0,095",
          "0,239",
          "0,004",
          "0,038",
          "0,018",
          "0,141",
          "0,03",
          "0,005",
          "0,199",
          "0,06",
          "0,093",
          "0,01",
          "0,142",
          "0,316",
          "0,01",
          "0,258",
          "0,128",
          "0,024",
          "0,084",
          "0,018",
          "0,036",
          "0,093",
          "0,322",
          "0,564",
          "0,463",
          "0,35",
          "0,448",
          "0,121",
          "0,014",
          "0,55",
          "0,335",
          "0,06",
          "0,125",
          "0,125",
          "0,4",
          "0,55",
          "0,062",
          "0,088",
          "0,279",
          "0,055",
          "0,034",
          "0,018",
          "0,179",
          "0,177",
          "0,112",
          "0,07",
          "0,149",
          "0,099",
          "0,03",
          "0,102",
          "0,04",
          "0,475",
          "0,089",
          "0,028",
          "0,022",
          "0,066",
          "0,031",
          "0,061",
          "0,308",
          "0,172",
          "0,009",
          "0,366",
          "0,054",
          "0,054",
          "0,15",
          "0,227",
          "0,237",
          "0,62",
          "0,37",
          "0,28",
          "0,139",
          "0,001",
          "0,037",
          "0,086",
          "0,186",
          "0,134",
          "0,116",
          "0,073",
          "0,05",
          "0,026",
          "0,049",
          "0,017",
          "0,033",
          "0,067",
          "0,163",
          "0,3",
          "0,033",
          "0,004",
          "0,353",
          "0,455",
          "0,04",
          "0,163",
          "0,769",
          "0,06",
          "0,001",
          "0,276",
          "0,342",
          "0,084",
          "0,2",
          "0,45",
          "0,317",
          "0,06",
          "0,25",
          "0,059",
          "0,038",
          "0,289",
          "0,206",
          "0,262",
          "0,097",
          "0,021",
          "0,01",
          "0,15",
          "0,043",
          "0,165",
          "0,39",
          "0,269",
          "0,021",
          "0,027",
          "0,216",
          "0,062",
          "0,068",
          "0,353",
          "0,224",
          "0,08",
          "0,144",
          "0,05",
          "0,053",
          "0,01",
          "0,002",
          "0,08",
          "0,101",
          "0,401",
          "0,035",
          "0,07",
          "0,1",
          "0,114",
          "0,167",
          "0,033",
          "0,172",
          "0,032",
          "0,49",
          "0",
          "0,65",
          "0,025",
          "0,04",
          "0,178",
          "0,387",
          "0,13",
          "0,119",
          "0,011",
          "0,015",
          "0,249",
          "0,018",
          "0,234",
          "0,099",
          "0,395",
          "0,23",
          "0,007",
          "0,132",
          "0,117",
          "0,209",
          "0,311",
          "0,187",
          "0,04",
          "0,005",
          "0,01",
          "0,093",
          "0,342",
          "0,26",
          "0,04",
          "0,209",
          "0,135",
          "0,22",
          "0,179"
         ]
        },
        {
         "boxpoints": false,
         "line": {
          "width": 1.3
         },
         "marker": {
          "color": "rgba(128, 128, 0, 0.8999999999999999)"
         },
         "name": "Industry",
         "orientation": "v",
         "type": "box",
         "y": [
          "0,24",
          "0,188",
          "0,6",
          "0,18",
          "0,22",
          "0,358",
          "0,343",
          "0,333",
          "0,262",
          "0,304",
          "0,457",
          "0,07",
          "0,387",
          "0,198",
          "0,16",
          "0,316",
          "0,24",
          "0,152",
          "0,138",
          "0,1",
          "0,379",
          "0,352",
          "0,469",
          "0,4",
          "0,062",
          "0,561",
          "0,304",
          "0,196",
          "0,082",
          "0,203",
          "0,3",
          "0,17",
          "0,219",
          "0,032",
          "0,2",
          "0,259",
          "0,493",
          "0,473",
          "0,342",
          "0,04",
          "0,11",
          "0,57",
          "0,299",
          "0,171",
          "0,261",
          "0,393",
          "0,246",
          "0,225",
          "0,328",
          "0,306",
          "0,312",
          "0,357",
          "0,302",
          "0,906",
          "0,254",
          "0,294",
          "0,099",
          "0,135",
          "0,295",
          "0,214",
          "0,156",
          "0,19",
          "0,592",
          "0,142",
          "0,275",
          "0,296",
          "0,246",
          "0,213",
          "0,18",
          "0,17",
          "0,188",
          "0,362",
          "0,12",
          "0,203",
          "0,2",
          "0,312",
          "0,092",
          "0,312",
          "0,15",
          "0,276",
          "0,458",
          "0,424",
          "0,666",
          "0,46",
          "0,317",
          "0,337",
          "0,258",
          "0,287",
          "0,386",
          "0,188",
          "0,34",
          "0,403",
          "0,479",
          "0,208",
          "0,287",
          "0,261",
          "0,443",
          "0,054",
          "0,39",
          "0,072",
          "0,165",
          "0,158",
          "0,48",
          "0,18",
          "0,17",
          "0,149",
          "0,11",
          "0,29",
          "0,298",
          "0,259",
          "0,152",
          "0,214",
          "0,348",
          "0,315",
          "0,244",
          "0,15",
          "0,088",
          "0,273",
          "0,275",
          "0,17",
          "0,487",
          "0,415",
          "0,39",
          "0,251",
          "0,12",
          "0,156",
          "0,381",
          "0,207",
          "0,27",
          "0,326",
          "0,311",
          "0,274",
          "0,45",
          "0,801",
          "0,19",
          "0,35",
          "0,229",
          "0,258",
          "0,2",
          "0,26",
          "0,584",
          "0,148",
          "0,613",
          "0,209",
          "0,304",
          "0,31",
          "0,339",
          "0,1",
          "0,303",
          "0,295",
          "0,276",
          "0,203",
          "0,22",
          "0,515",
          "0,282",
          "0,34",
          "0,23",
          "0,259",
          "0,286",
          "0,441",
          "0,204",
          "0,27",
          "0,57",
          "0,318",
          "0,298",
          "0,38",
          "0,222",
          "0,452",
          "0,585",
          "0,237",
          "0,204",
          "0,311",
          "0,229",
          "0,12",
          "0,419",
          "0,41",
          "0,472",
          "0,29",
          "0,243"
         ]
        },
        {
         "boxpoints": false,
         "line": {
          "width": 1.3
         },
         "marker": {
          "color": "rgba(251, 128, 114, 0.8999999999999999)"
         },
         "name": "Service",
         "orientation": "v",
         "type": "box",
         "y": [
          "0,38",
          "0,579",
          "0,298",
          "0,78",
          "0,743",
          "0,547",
          "0,418",
          "0,663",
          "0,7",
          "0,678",
          "0,402",
          "0,9",
          "0,608",
          "0,603",
          "0,78",
          "0,591",
          "0,749",
          "0,612",
          "0,546",
          "0,89",
          "0,363",
          "0,52",
          "0,507",
          "0,516",
          "0,92",
          "0,403",
          "0,603",
          "0,482",
          "0,353",
          "0,334",
          "0,35",
          "0,382",
          "0,66",
          "0,954",
          "0,25",
          "0,406",
          "0,447",
          "0,403",
          "0,533",
          "0,56",
          "0,34",
          "0,369",
          "0,614",
          "0,55",
          "0,684",
          "0,573",
          "0,735",
          "0,596",
          "0,495",
          "0,582",
          "0,618",
          "0,493",
          "0,599",
          "0,062",
          "0,643",
          "0,666",
          "0,426",
          "0,776",
          "0,676",
          "0,764",
          "0,778",
          "0,769",
          "0,348",
          "0,549",
          "0,553",
          "0,695",
          "0,387",
          "0,733",
          "0,766",
          "0,68",
          "0,585",
          "0,401",
          "0,26",
          "0,427",
          "0,52",
          "0,549",
          "0,906",
          "0,651",
          "0,765",
          "0,538",
          "0,408",
          "0,46",
          "0,261",
          "0,49",
          "0,657",
          "0,615",
          "0,725",
          "0,68",
          "0,547",
          "0,651",
          "0,36",
          "0,563",
          "0,516",
          "0,439",
          "0,258",
          "0,699",
          "0,394",
          "0,177",
          "0,55",
          "0,927",
          "0,559",
          "0,499",
          "0,436",
          "0,62",
          "0,38",
          "0,534",
          "0,83",
          "0,46",
          "0,643",
          "0,702",
          "0,559",
          "0,58",
          "0,39",
          "0,588",
          "0,736",
          "0,84",
          "0,762",
          "0,684",
          "0,56",
          "0,44",
          "0,244",
          "0,564",
          "0,583",
          "0,533",
          "0,818",
          "0,776",
          "0,266",
          "0,569",
          "0,65",
          "0,53",
          "0,64",
          "0,673",
          "0,54",
          "0,197",
          "0,73",
          "0,549",
          "0,37",
          "0,707",
          "0,73",
          "0,64",
          "0,302",
          "0,684",
          "0,354",
          "0,619",
          "0,665",
          "0,21",
          "0,661",
          "0,25",
          "0,671",
          "0,665",
          "0,545",
          "0,41",
          "0,65",
          "0,366",
          "0,707",
          "0,645",
          "0,519",
          "0,723",
          "0,48",
          "0,46",
          "0,401",
          "0,5",
          "0,423",
          "0,55",
          "0,585",
          "0,411",
          "0,469",
          "0,361",
          "0,375",
          "0,758",
          "0,787",
          "0,596",
          "0,43",
          "0,62",
          "0,541",
          "0,381",
          "0,393",
          "0,489",
          "0,579"
         ]
        }
       ],
       "layout": {
        "legend": {
         "bgcolor": "#F5F6F9",
         "font": {
          "color": "#4D5663"
         }
        },
        "paper_bgcolor": "#F5F6F9",
        "plot_bgcolor": "#F5F6F9",
        "template": {
         "data": {
          "bar": [
           {
            "error_x": {
             "color": "#2a3f5f"
            },
            "error_y": {
             "color": "#2a3f5f"
            },
            "marker": {
             "line": {
              "color": "#E5ECF6",
              "width": 0.5
             }
            },
            "type": "bar"
           }
          ],
          "barpolar": [
           {
            "marker": {
             "line": {
              "color": "#E5ECF6",
              "width": 0.5
             }
            },
            "type": "barpolar"
           }
          ],
          "carpet": [
           {
            "aaxis": {
             "endlinecolor": "#2a3f5f",
             "gridcolor": "white",
             "linecolor": "white",
             "minorgridcolor": "white",
             "startlinecolor": "#2a3f5f"
            },
            "baxis": {
             "endlinecolor": "#2a3f5f",
             "gridcolor": "white",
             "linecolor": "white",
             "minorgridcolor": "white",
             "startlinecolor": "#2a3f5f"
            },
            "type": "carpet"
           }
          ],
          "choropleth": [
           {
            "colorbar": {
             "outlinewidth": 0,
             "ticks": ""
            },
            "type": "choropleth"
           }
          ],
          "contour": [
           {
            "colorbar": {
             "outlinewidth": 0,
             "ticks": ""
            },
            "colorscale": [
             [
              0,
              "#0d0887"
             ],
             [
              0.1111111111111111,
              "#46039f"
             ],
             [
              0.2222222222222222,
              "#7201a8"
             ],
             [
              0.3333333333333333,
              "#9c179e"
             ],
             [
              0.4444444444444444,
              "#bd3786"
             ],
             [
              0.5555555555555556,
              "#d8576b"
             ],
             [
              0.6666666666666666,
              "#ed7953"
             ],
             [
              0.7777777777777778,
              "#fb9f3a"
             ],
             [
              0.8888888888888888,
              "#fdca26"
             ],
             [
              1,
              "#f0f921"
             ]
            ],
            "type": "contour"
           }
          ],
          "contourcarpet": [
           {
            "colorbar": {
             "outlinewidth": 0,
             "ticks": ""
            },
            "type": "contourcarpet"
           }
          ],
          "heatmap": [
           {
            "colorbar": {
             "outlinewidth": 0,
             "ticks": ""
            },
            "colorscale": [
             [
              0,
              "#0d0887"
             ],
             [
              0.1111111111111111,
              "#46039f"
             ],
             [
              0.2222222222222222,
              "#7201a8"
             ],
             [
              0.3333333333333333,
              "#9c179e"
             ],
             [
              0.4444444444444444,
              "#bd3786"
             ],
             [
              0.5555555555555556,
              "#d8576b"
             ],
             [
              0.6666666666666666,
              "#ed7953"
             ],
             [
              0.7777777777777778,
              "#fb9f3a"
             ],
             [
              0.8888888888888888,
              "#fdca26"
             ],
             [
              1,
              "#f0f921"
             ]
            ],
            "type": "heatmap"
           }
          ],
          "heatmapgl": [
           {
            "colorbar": {
             "outlinewidth": 0,
             "ticks": ""
            },
            "colorscale": [
             [
              0,
              "#0d0887"
             ],
             [
              0.1111111111111111,
              "#46039f"
             ],
             [
              0.2222222222222222,
              "#7201a8"
             ],
             [
              0.3333333333333333,
              "#9c179e"
             ],
             [
              0.4444444444444444,
              "#bd3786"
             ],
             [
              0.5555555555555556,
              "#d8576b"
             ],
             [
              0.6666666666666666,
              "#ed7953"
             ],
             [
              0.7777777777777778,
              "#fb9f3a"
             ],
             [
              0.8888888888888888,
              "#fdca26"
             ],
             [
              1,
              "#f0f921"
             ]
            ],
            "type": "heatmapgl"
           }
          ],
          "histogram": [
           {
            "marker": {
             "colorbar": {
              "outlinewidth": 0,
              "ticks": ""
             }
            },
            "type": "histogram"
           }
          ],
          "histogram2d": [
           {
            "colorbar": {
             "outlinewidth": 0,
             "ticks": ""
            },
            "colorscale": [
             [
              0,
              "#0d0887"
             ],
             [
              0.1111111111111111,
              "#46039f"
             ],
             [
              0.2222222222222222,
              "#7201a8"
             ],
             [
              0.3333333333333333,
              "#9c179e"
             ],
             [
              0.4444444444444444,
              "#bd3786"
             ],
             [
              0.5555555555555556,
              "#d8576b"
             ],
             [
              0.6666666666666666,
              "#ed7953"
             ],
             [
              0.7777777777777778,
              "#fb9f3a"
             ],
             [
              0.8888888888888888,
              "#fdca26"
             ],
             [
              1,
              "#f0f921"
             ]
            ],
            "type": "histogram2d"
           }
          ],
          "histogram2dcontour": [
           {
            "colorbar": {
             "outlinewidth": 0,
             "ticks": ""
            },
            "colorscale": [
             [
              0,
              "#0d0887"
             ],
             [
              0.1111111111111111,
              "#46039f"
             ],
             [
              0.2222222222222222,
              "#7201a8"
             ],
             [
              0.3333333333333333,
              "#9c179e"
             ],
             [
              0.4444444444444444,
              "#bd3786"
             ],
             [
              0.5555555555555556,
              "#d8576b"
             ],
             [
              0.6666666666666666,
              "#ed7953"
             ],
             [
              0.7777777777777778,
              "#fb9f3a"
             ],
             [
              0.8888888888888888,
              "#fdca26"
             ],
             [
              1,
              "#f0f921"
             ]
            ],
            "type": "histogram2dcontour"
           }
          ],
          "mesh3d": [
           {
            "colorbar": {
             "outlinewidth": 0,
             "ticks": ""
            },
            "type": "mesh3d"
           }
          ],
          "parcoords": [
           {
            "line": {
             "colorbar": {
              "outlinewidth": 0,
              "ticks": ""
             }
            },
            "type": "parcoords"
           }
          ],
          "pie": [
           {
            "automargin": true,
            "type": "pie"
           }
          ],
          "scatter": [
           {
            "marker": {
             "colorbar": {
              "outlinewidth": 0,
              "ticks": ""
             }
            },
            "type": "scatter"
           }
          ],
          "scatter3d": [
           {
            "line": {
             "colorbar": {
              "outlinewidth": 0,
              "ticks": ""
             }
            },
            "marker": {
             "colorbar": {
              "outlinewidth": 0,
              "ticks": ""
             }
            },
            "type": "scatter3d"
           }
          ],
          "scattercarpet": [
           {
            "marker": {
             "colorbar": {
              "outlinewidth": 0,
              "ticks": ""
             }
            },
            "type": "scattercarpet"
           }
          ],
          "scattergeo": [
           {
            "marker": {
             "colorbar": {
              "outlinewidth": 0,
              "ticks": ""
             }
            },
            "type": "scattergeo"
           }
          ],
          "scattergl": [
           {
            "marker": {
             "colorbar": {
              "outlinewidth": 0,
              "ticks": ""
             }
            },
            "type": "scattergl"
           }
          ],
          "scattermapbox": [
           {
            "marker": {
             "colorbar": {
              "outlinewidth": 0,
              "ticks": ""
             }
            },
            "type": "scattermapbox"
           }
          ],
          "scatterpolar": [
           {
            "marker": {
             "colorbar": {
              "outlinewidth": 0,
              "ticks": ""
             }
            },
            "type": "scatterpolar"
           }
          ],
          "scatterpolargl": [
           {
            "marker": {
             "colorbar": {
              "outlinewidth": 0,
              "ticks": ""
             }
            },
            "type": "scatterpolargl"
           }
          ],
          "scatterternary": [
           {
            "marker": {
             "colorbar": {
              "outlinewidth": 0,
              "ticks": ""
             }
            },
            "type": "scatterternary"
           }
          ],
          "surface": [
           {
            "colorbar": {
             "outlinewidth": 0,
             "ticks": ""
            },
            "colorscale": [
             [
              0,
              "#0d0887"
             ],
             [
              0.1111111111111111,
              "#46039f"
             ],
             [
              0.2222222222222222,
              "#7201a8"
             ],
             [
              0.3333333333333333,
              "#9c179e"
             ],
             [
              0.4444444444444444,
              "#bd3786"
             ],
             [
              0.5555555555555556,
              "#d8576b"
             ],
             [
              0.6666666666666666,
              "#ed7953"
             ],
             [
              0.7777777777777778,
              "#fb9f3a"
             ],
             [
              0.8888888888888888,
              "#fdca26"
             ],
             [
              1,
              "#f0f921"
             ]
            ],
            "type": "surface"
           }
          ],
          "table": [
           {
            "cells": {
             "fill": {
              "color": "#EBF0F8"
             },
             "line": {
              "color": "white"
             }
            },
            "header": {
             "fill": {
              "color": "#C8D4E3"
             },
             "line": {
              "color": "white"
             }
            },
            "type": "table"
           }
          ]
         },
         "layout": {
          "annotationdefaults": {
           "arrowcolor": "#2a3f5f",
           "arrowhead": 0,
           "arrowwidth": 1
          },
          "autotypenumbers": "strict",
          "coloraxis": {
           "colorbar": {
            "outlinewidth": 0,
            "ticks": ""
           }
          },
          "colorscale": {
           "diverging": [
            [
             0,
             "#8e0152"
            ],
            [
             0.1,
             "#c51b7d"
            ],
            [
             0.2,
             "#de77ae"
            ],
            [
             0.3,
             "#f1b6da"
            ],
            [
             0.4,
             "#fde0ef"
            ],
            [
             0.5,
             "#f7f7f7"
            ],
            [
             0.6,
             "#e6f5d0"
            ],
            [
             0.7,
             "#b8e186"
            ],
            [
             0.8,
             "#7fbc41"
            ],
            [
             0.9,
             "#4d9221"
            ],
            [
             1,
             "#276419"
            ]
           ],
           "sequential": [
            [
             0,
             "#0d0887"
            ],
            [
             0.1111111111111111,
             "#46039f"
            ],
            [
             0.2222222222222222,
             "#7201a8"
            ],
            [
             0.3333333333333333,
             "#9c179e"
            ],
            [
             0.4444444444444444,
             "#bd3786"
            ],
            [
             0.5555555555555556,
             "#d8576b"
            ],
            [
             0.6666666666666666,
             "#ed7953"
            ],
            [
             0.7777777777777778,
             "#fb9f3a"
            ],
            [
             0.8888888888888888,
             "#fdca26"
            ],
            [
             1,
             "#f0f921"
            ]
           ],
           "sequentialminus": [
            [
             0,
             "#0d0887"
            ],
            [
             0.1111111111111111,
             "#46039f"
            ],
            [
             0.2222222222222222,
             "#7201a8"
            ],
            [
             0.3333333333333333,
             "#9c179e"
            ],
            [
             0.4444444444444444,
             "#bd3786"
            ],
            [
             0.5555555555555556,
             "#d8576b"
            ],
            [
             0.6666666666666666,
             "#ed7953"
            ],
            [
             0.7777777777777778,
             "#fb9f3a"
            ],
            [
             0.8888888888888888,
             "#fdca26"
            ],
            [
             1,
             "#f0f921"
            ]
           ]
          },
          "colorway": [
           "#636efa",
           "#EF553B",
           "#00cc96",
           "#ab63fa",
           "#FFA15A",
           "#19d3f3",
           "#FF6692",
           "#B6E880",
           "#FF97FF",
           "#FECB52"
          ],
          "font": {
           "color": "#2a3f5f"
          },
          "geo": {
           "bgcolor": "white",
           "lakecolor": "white",
           "landcolor": "#E5ECF6",
           "showlakes": true,
           "showland": true,
           "subunitcolor": "white"
          },
          "hoverlabel": {
           "align": "left"
          },
          "hovermode": "closest",
          "mapbox": {
           "style": "light"
          },
          "paper_bgcolor": "white",
          "plot_bgcolor": "#E5ECF6",
          "polar": {
           "angularaxis": {
            "gridcolor": "white",
            "linecolor": "white",
            "ticks": ""
           },
           "bgcolor": "#E5ECF6",
           "radialaxis": {
            "gridcolor": "white",
            "linecolor": "white",
            "ticks": ""
           }
          },
          "scene": {
           "xaxis": {
            "backgroundcolor": "#E5ECF6",
            "gridcolor": "white",
            "gridwidth": 2,
            "linecolor": "white",
            "showbackground": true,
            "ticks": "",
            "zerolinecolor": "white"
           },
           "yaxis": {
            "backgroundcolor": "#E5ECF6",
            "gridcolor": "white",
            "gridwidth": 2,
            "linecolor": "white",
            "showbackground": true,
            "ticks": "",
            "zerolinecolor": "white"
           },
           "zaxis": {
            "backgroundcolor": "#E5ECF6",
            "gridcolor": "white",
            "gridwidth": 2,
            "linecolor": "white",
            "showbackground": true,
            "ticks": "",
            "zerolinecolor": "white"
           }
          },
          "shapedefaults": {
           "line": {
            "color": "#2a3f5f"
           }
          },
          "ternary": {
           "aaxis": {
            "gridcolor": "white",
            "linecolor": "white",
            "ticks": ""
           },
           "baxis": {
            "gridcolor": "white",
            "linecolor": "white",
            "ticks": ""
           },
           "bgcolor": "#E5ECF6",
           "caxis": {
            "gridcolor": "white",
            "linecolor": "white",
            "ticks": ""
           }
          },
          "title": {
           "x": 0.05
          },
          "xaxis": {
           "automargin": true,
           "gridcolor": "white",
           "linecolor": "white",
           "ticks": "",
           "title": {
            "standoff": 15
           },
           "zerolinecolor": "white",
           "zerolinewidth": 2
          },
          "yaxis": {
           "automargin": true,
           "gridcolor": "white",
           "linecolor": "white",
           "ticks": "",
           "title": {
            "standoff": 15
           },
           "zerolinecolor": "white",
           "zerolinewidth": 2
          }
         }
        },
        "title": {
         "font": {
          "color": "#4D5663"
         }
        },
        "xaxis": {
         "gridcolor": "#E1E5ED",
         "showgrid": true,
         "tickfont": {
          "color": "#4D5663"
         },
         "title": {
          "font": {
           "color": "#4D5663"
          },
          "text": ""
         },
         "zerolinecolor": "#E1E5ED"
        },
        "yaxis": {
         "gridcolor": "#E1E5ED",
         "showgrid": true,
         "tickfont": {
          "color": "#4D5663"
         },
         "title": {
          "font": {
           "color": "#4D5663"
          },
          "text": ""
         },
         "zerolinecolor": "#E1E5ED"
        }
       }
      },
      "text/html": [
       "<div>                            <div id=\"9e8d2d4b-7692-4384-9baa-ac0a9ed7b8e4\" class=\"plotly-graph-div\" style=\"height:525px; width:100%;\"></div>            <script type=\"text/javascript\">                require([\"plotly\"], function(Plotly) {                    window.PLOTLYENV=window.PLOTLYENV || {};\n",
       "                    window.PLOTLYENV.BASE_URL='https://plot.ly';                                    if (document.getElementById(\"9e8d2d4b-7692-4384-9baa-ac0a9ed7b8e4\")) {                    Plotly.newPlot(                        \"9e8d2d4b-7692-4384-9baa-ac0a9ed7b8e4\",                        [{\"boxpoints\": false, \"line\": {\"width\": 1.3}, \"marker\": {\"color\": \"rgba(255, 153, 51, 1.0)\"}, \"name\": \"Country\", \"orientation\": \"v\", \"type\": \"box\", \"y\": [\"Afghanistan \", \"Albania \", \"Algeria \", \"Anguilla \", \"Antigua & Barbuda \", \"Argentina \", \"Armenia \", \"Aruba \", \"Australia \", \"Austria \", \"Azerbaijan \", \"Bahamas, The \", \"Bahrain \", \"Bangladesh \", \"Barbados \", \"Belarus \", \"Belgium \", \"Belize \", \"Benin \", \"Bermuda \", \"Bhutan \", \"Bolivia \", \"Botswana \", \"Brazil \", \"British Virgin Is. \", \"Brunei \", \"Bulgaria \", \"Burkina Faso \", \"Burma \", \"Burundi \", \"Cambodia \", \"Cameroon \", \"Cape Verde \", \"Cayman Islands \", \"Central African Rep. \", \"Chad \", \"Chile \", \"China \", \"Colombia \", \"Comoros \", \"Congo, Dem. Rep. \", \"Congo, Repub. of the \", \"Costa Rica \", \"Cote d'Ivoire \", \"Cuba \", \"Czech Republic \", \"Denmark \", \"Djibouti \", \"Dominica \", \"Dominican Republic \", \"Ecuador \", \"Egypt \", \"El Salvador \", \"Equatorial Guinea \", \"Eritrea \", \"Estonia \", \"Ethiopia \", \"Fiji \", \"Finland \", \"France \", \"French Guiana \", \"French Polynesia \", \"Gabon \", \"Gambia, The \", \"Georgia \", \"Germany \", \"Ghana \", \"Greece \", \"Grenada \", \"Guadeloupe \", \"Guatemala \", \"Guinea \", \"Guinea-Bissau \", \"Guyana \", \"Haiti \", \"Honduras \", \"Hong Kong \", \"Hungary \", \"Iceland \", \"India \", \"Indonesia \", \"Iran \", \"Iraq \", \"Ireland \", \"Israel \", \"Jamaica \", \"Japan \", \"Jordan \", \"Kazakhstan \", \"Kenya \", \"Korea, North \", \"Korea, South \", \"Kuwait \", \"Kyrgyzstan \", \"Laos \", \"Latvia \", \"Lesotho \", \"Liberia \", \"Liechtenstein \", \"Macau \", \"Madagascar \", \"Malawi \", \"Malaysia \", \"Maldives \", \"Mali \", \"Marshall Islands \", \"Martinique \", \"Mauritania \", \"Mauritius \", \"Mexico \", \"Micronesia, Fed. St. \", \"Mongolia \", \"Mozambique \", \"Namibia \", \"Netherlands \", \"Netherlands Antilles \", \"New Caledonia \", \"New Zealand \", \"Nicaragua \", \"Niger \", \"Nigeria \", \"Norway \", \"Oman \", \"Pakistan \", \"Palau \", \"Panama \", \"Papua New Guinea \", \"Paraguay \", \"Peru \", \"Philippines \", \"Poland \", \"Portugal \", \"Puerto Rico \", \"Qatar \", \"Reunion \", \"Romania \", \"Rwanda \", \"Saint Kitts & Nevis \", \"Saint Lucia \", \"Saint Vincent and the Grenadines \", \"Samoa \", \"Sao Tome & Principe \", \"Saudi Arabia \", \"Senegal \", \"Seychelles \", \"Sierra Leone \", \"Singapore \", \"Somalia \", \"South Africa \", \"Spain \", \"Sri Lanka \", \"Sudan \", \"Suriname \", \"Swaziland \", \"Sweden \", \"Switzerland \", \"Syria \", \"Taiwan \", \"Tajikistan \", \"Thailand \", \"Togo \", \"Tonga \", \"Trinidad & Tobago \", \"Tunisia \", \"Turkey \", \"Turkmenistan \", \"Uganda \", \"Ukraine \", \"United Arab Emirates \", \"United Kingdom \", \"United States \", \"Uruguay \", \"Uzbekistan \", \"Vanuatu \", \"Venezuela \", \"Vietnam \", \"Yemen \", \"Zambia \", \"Zimbabwe \"]}, {\"boxpoints\": false, \"line\": {\"width\": 1.3}, \"marker\": {\"color\": \"rgba(55, 128, 191, 1.0)\"}, \"name\": \"Region\", \"orientation\": \"v\", \"type\": \"box\", \"y\": [\"ASIA (EX. NEAR EAST)         \", \"EASTERN EUROPE                     \", \"NORTHERN AFRICA                    \", \"LATIN AMER. & CARIB    \", \"LATIN AMER. & CARIB    \", \"LATIN AMER. & CARIB    \", \"C.W. OF IND. STATES \", \"LATIN AMER. & CARIB    \", \"OCEANIA                            \", \"WESTERN EUROPE                     \", \"C.W. OF IND. STATES \", \"LATIN AMER. & CARIB    \", \"NEAR EAST                          \", \"ASIA (EX. NEAR EAST)         \", \"LATIN AMER. & CARIB    \", \"C.W. OF IND. STATES \", \"WESTERN EUROPE                     \", \"LATIN AMER. & CARIB    \", \"SUB-SAHARAN AFRICA                 \", \"NORTHERN AMERICA                   \", \"ASIA (EX. NEAR EAST)         \", \"LATIN AMER. & CARIB    \", \"SUB-SAHARAN AFRICA                 \", \"LATIN AMER. & CARIB    \", \"LATIN AMER. & CARIB    \", \"ASIA (EX. NEAR EAST)         \", \"EASTERN EUROPE                     \", \"SUB-SAHARAN AFRICA                 \", \"ASIA (EX. NEAR EAST)         \", \"SUB-SAHARAN AFRICA                 \", \"ASIA (EX. NEAR EAST)         \", \"SUB-SAHARAN AFRICA                 \", \"SUB-SAHARAN AFRICA                 \", \"LATIN AMER. & CARIB    \", \"SUB-SAHARAN AFRICA                 \", \"SUB-SAHARAN AFRICA                 \", \"LATIN AMER. & CARIB    \", \"ASIA (EX. NEAR EAST)         \", \"LATIN AMER. & CARIB    \", \"SUB-SAHARAN AFRICA                 \", \"SUB-SAHARAN AFRICA                 \", \"SUB-SAHARAN AFRICA                 \", \"LATIN AMER. & CARIB    \", \"SUB-SAHARAN AFRICA                 \", \"LATIN AMER. & CARIB    \", \"EASTERN EUROPE                     \", \"WESTERN EUROPE                     \", \"SUB-SAHARAN AFRICA                 \", \"LATIN AMER. & CARIB    \", \"LATIN AMER. & CARIB    \", \"LATIN AMER. & CARIB    \", \"NORTHERN AFRICA                    \", \"LATIN AMER. & CARIB    \", \"SUB-SAHARAN AFRICA                 \", \"SUB-SAHARAN AFRICA                 \", \"BALTICS                            \", \"SUB-SAHARAN AFRICA                 \", \"OCEANIA                            \", \"WESTERN EUROPE                     \", \"WESTERN EUROPE                     \", \"LATIN AMER. & CARIB    \", \"OCEANIA                            \", \"SUB-SAHARAN AFRICA                 \", \"SUB-SAHARAN AFRICA                 \", \"C.W. OF IND. STATES \", \"WESTERN EUROPE                     \", \"SUB-SAHARAN AFRICA                 \", \"WESTERN EUROPE                     \", \"LATIN AMER. & CARIB    \", \"LATIN AMER. & CARIB    \", \"LATIN AMER. & CARIB    \", \"SUB-SAHARAN AFRICA                 \", \"SUB-SAHARAN AFRICA                 \", \"LATIN AMER. & CARIB    \", \"LATIN AMER. & CARIB    \", \"LATIN AMER. & CARIB    \", \"ASIA (EX. NEAR EAST)         \", \"EASTERN EUROPE                     \", \"WESTERN EUROPE                     \", \"ASIA (EX. NEAR EAST)         \", \"ASIA (EX. NEAR EAST)         \", \"ASIA (EX. NEAR EAST)         \", \"NEAR EAST                          \", \"WESTERN EUROPE                     \", \"NEAR EAST                          \", \"LATIN AMER. & CARIB    \", \"ASIA (EX. NEAR EAST)         \", \"NEAR EAST                          \", \"C.W. OF IND. STATES \", \"SUB-SAHARAN AFRICA                 \", \"ASIA (EX. NEAR EAST)         \", \"ASIA (EX. NEAR EAST)         \", \"NEAR EAST                          \", \"C.W. OF IND. STATES \", \"ASIA (EX. NEAR EAST)         \", \"BALTICS                            \", \"SUB-SAHARAN AFRICA                 \", \"SUB-SAHARAN AFRICA                 \", \"WESTERN EUROPE                     \", \"ASIA (EX. NEAR EAST)         \", \"SUB-SAHARAN AFRICA                 \", \"SUB-SAHARAN AFRICA                 \", \"ASIA (EX. NEAR EAST)         \", \"ASIA (EX. NEAR EAST)         \", \"SUB-SAHARAN AFRICA                 \", \"OCEANIA                            \", \"LATIN AMER. & CARIB    \", \"SUB-SAHARAN AFRICA                 \", \"SUB-SAHARAN AFRICA                 \", \"LATIN AMER. & CARIB    \", \"OCEANIA                            \", \"ASIA (EX. NEAR EAST)         \", \"SUB-SAHARAN AFRICA                 \", \"SUB-SAHARAN AFRICA                 \", \"WESTERN EUROPE                     \", \"LATIN AMER. & CARIB    \", \"OCEANIA                            \", \"OCEANIA                            \", \"LATIN AMER. & CARIB    \", \"SUB-SAHARAN AFRICA                 \", \"SUB-SAHARAN AFRICA                 \", \"WESTERN EUROPE                     \", \"NEAR EAST                          \", \"ASIA (EX. NEAR EAST)         \", \"OCEANIA                            \", \"LATIN AMER. & CARIB    \", \"OCEANIA                            \", \"LATIN AMER. & CARIB    \", \"LATIN AMER. & CARIB    \", \"ASIA (EX. NEAR EAST)         \", \"EASTERN EUROPE                     \", \"WESTERN EUROPE                     \", \"LATIN AMER. & CARIB    \", \"NEAR EAST                          \", \"SUB-SAHARAN AFRICA                 \", \"EASTERN EUROPE                     \", \"SUB-SAHARAN AFRICA                 \", \"LATIN AMER. & CARIB    \", \"LATIN AMER. & CARIB    \", \"LATIN AMER. & CARIB    \", \"OCEANIA                            \", \"SUB-SAHARAN AFRICA                 \", \"NEAR EAST                          \", \"SUB-SAHARAN AFRICA                 \", \"SUB-SAHARAN AFRICA                 \", \"SUB-SAHARAN AFRICA                 \", \"ASIA (EX. NEAR EAST)         \", \"SUB-SAHARAN AFRICA                 \", \"SUB-SAHARAN AFRICA                 \", \"WESTERN EUROPE                     \", \"ASIA (EX. NEAR EAST)         \", \"SUB-SAHARAN AFRICA                 \", \"LATIN AMER. & CARIB    \", \"SUB-SAHARAN AFRICA                 \", \"WESTERN EUROPE                     \", \"WESTERN EUROPE                     \", \"NEAR EAST                          \", \"ASIA (EX. NEAR EAST)         \", \"C.W. OF IND. STATES \", \"ASIA (EX. NEAR EAST)         \", \"SUB-SAHARAN AFRICA                 \", \"OCEANIA                            \", \"LATIN AMER. & CARIB    \", \"NORTHERN AFRICA                    \", \"NEAR EAST                          \", \"C.W. OF IND. STATES \", \"SUB-SAHARAN AFRICA                 \", \"C.W. OF IND. STATES \", \"NEAR EAST                          \", \"WESTERN EUROPE                     \", \"NORTHERN AMERICA                   \", \"LATIN AMER. & CARIB    \", \"C.W. OF IND. STATES \", \"OCEANIA                            \", \"LATIN AMER. & CARIB    \", \"ASIA (EX. NEAR EAST)         \", \"NEAR EAST                          \", \"SUB-SAHARAN AFRICA                 \", \"SUB-SAHARAN AFRICA                 \"]}, {\"boxpoints\": false, \"line\": {\"width\": 1.3}, \"marker\": {\"color\": \"rgba(50, 171, 96, 1.0)\"}, \"name\": \"Population\", \"orientation\": \"v\", \"type\": \"box\", \"y\": [31056997, 3581655, 32930091, 13477, 69108, 39921833, 2976372, 71891, 20264082, 8192880, 7961619, 303770, 698585, 147365352, 279912, 10293011, 10379067, 287730, 7862944, 65773, 2279723, 8989046, 1639833, 188078227, 23098, 379444, 7385367, 13902972, 47382633, 8090068, 13881427, 17340702, 420979, 45436, 4303356, 9944201, 16134219, 1313973713, 43593035, 690948, 62660551, 3702314, 4075261, 17654843, 11382820, 10235455, 5450661, 486530, 68910, 9183984, 13547510, 78887007, 6822378, 540109, 4786994, 1324333, 74777981, 905949, 5231372, 60876136, 199509, 274578, 1424906, 1641564, 4661473, 82422299, 22409572, 10688058, 89703, 452776, 12293545, 9690222, 1442029, 767245, 8308504, 7326496, 6940432, 9981334, 299388, 1095351995, 245452739, 68688433, 26783383, 4062235, 6352117, 2758124, 127463611, 5906760, 15233244, 34707817, 23113019, 48846823, 2418393, 5213898, 6368481, 2274735, 2022331, 3042004, 33987, 453125, 18595469, 13013926, 24385858, 359008, 11716829, 60422, 436131, 3177388, 1240827, 107449525, 108004, 2832224, 19686505, 2044147, 16491461, 221736, 219246, 4076140, 5570129, 12525094, 131859731, 4610820, 3102229, 165803560, 20579, 3191319, 5670544, 6506464, 28302603, 89468677, 38536869, 10605870, 3927188, 885359, 787584, 22303552, 8648248, 39129, 168458, 117848, 176908, 193413, 27019731, 11987121, 81541, 6005250, 4492150, 8863338, 44187637, 40397842, 20222240, 41236378, 439117, 1136334, 9016596, 7523934, 18881361, 23036087, 7320815, 64631595, 5548702, 114689, 1065842, 10175014, 70413958, 5042920, 28195754, 46710816, 2602713, 60609153, 298444215, 3431932, 27307134, 208869, 25730435, 84402966, 21456188, 11502010, 12236805]}, {\"boxpoints\": false, \"line\": {\"width\": 1.3}, \"marker\": {\"color\": \"rgba(128, 0, 128, 1.0)\"}, \"name\": \"Area (sq. mi.)\", \"orientation\": \"v\", \"type\": \"box\", \"y\": [647500, 28748, 2381740, 102, 443, 2766890, 29800, 193, 7686850, 83870, 86600, 13940, 665, 144000, 431, 207600, 30528, 22966, 112620, 53, 47000, 1098580, 600370, 8511965, 153, 5770, 110910, 274200, 678500, 27830, 181040, 475440, 4033, 262, 622984, 1284000, 756950, 9596960, 1138910, 2170, 2345410, 342000, 51100, 322460, 110860, 78866, 43094, 23000, 754, 48730, 283560, 1001450, 21040, 28051, 121320, 45226, 1127127, 18270, 338145, 547030, 91000, 4167, 267667, 11300, 69700, 357021, 239460, 131940, 344, 1780, 108890, 245857, 36120, 214970, 27750, 112090, 1092, 93030, 103000, 3287590, 1919440, 1648000, 437072, 70280, 20770, 10991, 377835, 92300, 2717300, 582650, 120540, 98480, 17820, 198500, 236800, 64589, 30355, 111370, 160, 28, 587040, 118480, 329750, 300, 1240000, 11854, 1100, 1030700, 2040, 1972550, 702, 1564116, 801590, 825418, 41526, 960, 19060, 268680, 129494, 1267000, 923768, 323802, 212460, 803940, 458, 78200, 462840, 406750, 1285220, 300000, 312685, 92391, 13790, 11437, 2517, 237500, 26338, 261, 616, 389, 2944, 1001, 1960582, 196190, 455, 71740, 693, 637657, 1219912, 504782, 65610, 2505810, 163270, 17363, 449964, 41290, 185180, 35980, 143100, 514000, 56785, 748, 5128, 163610, 780580, 488100, 236040, 603700, 82880, 244820, 9631420, 176220, 447400, 12200, 912050, 329560, 527970, 752614, 390580]}, {\"boxpoints\": false, \"line\": {\"width\": 1.3}, \"marker\": {\"color\": \"rgba(219, 64, 82, 1.0)\"}, \"name\": \"Pop. Density (per sq. mi.)\", \"orientation\": \"v\", \"type\": \"box\", \"y\": [\"48,0\", \"124,6\", \"13,8\", \"132,1\", \"156,0\", \"14,4\", \"99,9\", \"372,5\", \"2,6\", \"97,7\", \"91,9\", \"21,8\", \"1050,5\", \"1023,4\", \"649,5\", \"49,6\", \"340,0\", \"12,5\", \"69,8\", \"1241,0\", \"48,5\", \"8,2\", \"2,7\", \"22,1\", \"151,0\", \"65,8\", \"66,6\", \"50,7\", \"69,8\", \"290,7\", \"76,7\", \"36,5\", \"104,4\", \"173,4\", \"6,9\", \"7,7\", \"21,3\", \"136,9\", \"38,3\", \"318,4\", \"26,7\", \"10,8\", \"79,8\", \"54,8\", \"102,7\", \"129,8\", \"126,5\", \"21,2\", \"91,4\", \"188,5\", \"47,8\", \"78,8\", \"324,3\", \"19,3\", \"39,5\", \"29,3\", \"66,3\", \"49,6\", \"15,5\", \"111,3\", \"2,2\", \"65,9\", \"5,3\", \"145,3\", \"66,9\", \"230,9\", \"93,6\", \"81,0\", \"260,8\", \"254,4\", \"112,9\", \"39,4\", \"39,9\", \"3,6\", \"299,4\", \"65,4\", \"6355,7\", \"107,3\", \"2,9\", \"333,2\", \"127,9\", \"41,7\", \"61,3\", \"57,8\", \"305,8\", \"250,9\", \"337,4\", \"64,0\", \"5,6\", \"59,6\", \"191,8\", \"496,0\", \"135,7\", \"26,3\", \"26,9\", \"35,2\", \"66,6\", \"27,3\", \"212,4\", \"16183,0\", \"31,7\", \"109,8\", \"74,0\", \"1196,7\", \"9,5\", \"5,1\", \"396,5\", \"3,1\", \"608,3\", \"54,5\", \"153,9\", \"1,8\", \"24,6\", \"2,5\", \"397,1\", \"231,0\", \"11,5\", \"15,2\", \"43,0\", \"9,9\", \"142,7\", \"14,2\", \"14,6\", \"206,2\", \"44,9\", \"40,8\", \"12,3\", \"16,0\", \"22,0\", \"298,2\", \"123,3\", \"114,8\", \"284,8\", \"77,4\", \"312,9\", \"93,9\", \"328,4\", \"149,9\", \"273,5\", \"303,0\", \"60,1\", \"193,2\", \"13,8\", \"61,1\", \"179,2\", \"83,7\", \"6482,2\", \"13,9\", \"36,2\", \"80,0\", \"308,2\", \"16,5\", \"2,7\", \"65,5\", \"20,0\", \"182,2\", \"102,0\", \"640,3\", \"51,2\", \"125,7\", \"97,7\", \"153,3\", \"207,9\", \"62,2\", \"90,2\", \"10,3\", \"119,5\", \"77,4\", \"31,4\", \"247,6\", \"31,0\", \"19,5\", \"61,0\", \"17,1\", \"28,2\", \"256,1\", \"40,6\", \"15,3\", \"31,3\"]}, {\"boxpoints\": false, \"line\": {\"width\": 1.3}, \"marker\": {\"color\": \"rgba(0, 128, 128, 1.0)\"}, \"name\": \"Coastline (coast/area ratio)\", \"orientation\": \"v\", \"type\": \"box\", \"y\": [\"0,00\", \"1,26\", \"0,04\", \"59,80\", \"34,54\", \"0,18\", \"0,00\", \"35,49\", \"0,34\", \"0,00\", \"0,00\", \"25,41\", \"24,21\", \"0,40\", \"22,51\", \"0,00\", \"0,22\", \"1,68\", \"0,11\", \"194,34\", \"0,00\", \"0,00\", \"0,00\", \"0,09\", \"52,29\", \"2,79\", \"0,32\", \"0,00\", \"0,28\", \"0,00\", \"0,24\", \"0,08\", \"23,93\", \"61,07\", \"0,00\", \"0,00\", \"0,85\", \"0,15\", \"0,28\", \"15,67\", \"0,00\", \"0,05\", \"2,52\", \"0,16\", \"3,37\", \"0,00\", \"16,97\", \"1,37\", \"19,63\", \"2,64\", \"0,79\", \"0,24\", \"1,46\", \"1,06\", \"1,84\", \"8,39\", \"0,00\", \"6,18\", \"0,37\", \"0,63\", \"0,42\", \"60,60\", \"0,33\", \"0,71\", \"0,44\", \"0,67\", \"0,23\", \"10,37\", \"35,17\", \"17,19\", \"0,37\", \"0,13\", \"0,97\", \"0,21\", \"6,38\", \"0,73\", \"67,12\", \"0,00\", \"4,83\", \"0,21\", \"2,85\", \"0,15\", \"0,01\", \"2,06\", \"1,31\", \"9,30\", \"7,87\", \"0,03\", \"0,00\", \"0,09\", \"2,07\", \"2,45\", \"2,80\", \"0,00\", \"0,00\", \"0,82\", \"0,00\", \"0,52\", \"0,00\", \"146,43\", \"0,82\", \"0,00\", \"1,42\", \"214,67\", \"0,00\", \"3,12\", \"31,82\", \"0,07\", \"8,68\", \"0,47\", \"870,66\", \"0,00\", \"0,31\", \"0,19\", \"1,09\", \"37,92\", \"11,83\", \"5,63\", \"0,70\", \"0,00\", \"0,09\", \"7,77\", \"0,98\", \"0,13\", \"331,66\", \"3,18\", \"1,11\", \"0,00\", \"0,19\", \"12,10\", \"0,16\", \"1,94\", \"3,63\", \"4,92\", \"8,22\", \"0,09\", \"0,00\", \"51,72\", \"25,65\", \"21,59\", \"13,69\", \"20,88\", \"0,13\", \"0,27\", \"107,91\", \"0,56\", \"27,85\", \"0,47\", \"0,23\", \"0,98\", \"2,04\", \"0,03\", \"0,24\", \"0,00\", \"0,72\", \"0,00\", \"0,10\", \"4,35\", \"0,00\", \"0,63\", \"0,10\", \"56,02\", \"7,06\", \"0,70\", \"0,92\", \"0,00\", \"0,00\", \"0,46\", \"1,59\", \"5,08\", \"0,21\", \"0,37\", \"0,00\", \"20,72\", \"0,31\", \"1,05\", \"0,36\", \"0,00\", \"0,00\"]}, {\"boxpoints\": false, \"line\": {\"width\": 1.3}, \"marker\": {\"color\": \"rgba(255, 255, 51, 1.0)\"}, \"name\": \"Net migration\", \"orientation\": \"v\", \"type\": \"box\", \"y\": [\"23,06\", \"-4,93\", \"-0,39\", \"10,76\", \"-6,15\", \"0,61\", \"-6,47\", \"0\", \"3,98\", \"2\", \"-4,9\", \"-2,2\", \"1,05\", \"-0,71\", \"-0,31\", \"2,54\", \"1,23\", \"0\", \"0\", \"2,49\", \"0\", \"-1,32\", \"0\", \"-0,03\", \"10,01\", \"3,59\", \"-4,58\", \"0\", \"-1,8\", \"-0,06\", \"0\", \"0\", \"-12,07\", \"18,75\", \"0\", \"-0,11\", \"0\", \"-0,4\", \"-0,31\", \"0\", \"0\", \"-0,17\", \"0,51\", \"-0,07\", \"-1,58\", \"0,97\", \"2,48\", \"0\", \"-13,87\", \"-3,22\", \"-8,58\", \"-0,22\", \"-3,74\", \"0\", \"0\", \"-3,16\", \"0\", \"-3,14\", \"0,95\", \"0,66\", \"6,27\", \"2,94\", \"0\", \"1,57\", \"-4,7\", \"2,18\", \"-0,64\", \"2,35\", \"-13,92\", \"-0,15\", \"-1,67\", \"-3,06\", \"-1,57\", \"-2,07\", \"-3,4\", \"-1,99\", \"5,24\", \"0,86\", \"2,38\", \"-0,07\", \"0\", \"-0,84\", \"0\", \"4,99\", \"0,68\", \"-4,92\", \"0\", \"6,59\", \"-3,35\", \"-0,1\", \"0\", \"0\", \"14,18\", \"-2,45\", \"0\", \"-2,23\", \"-0,74\", \"0\", \"4,85\", \"4,86\", \"0\", \"0\", \"0\", \"0\", \"-0,33\", \"-6,04\", \"-0,05\", \"0\", \"-0,9\", \"-4,87\", \"-20,99\", \"0\", \"0\", \"0\", \"2,91\", \"-0,41\", \"0\", \"4,05\", \"-1,22\", \"-0,67\", \"0,26\", \"1,74\", \"0,28\", \"-2,77\", \"2,85\", \"-0,91\", \"0\", \"-0,08\", \"-1,05\", \"-1,5\", \"-0,49\", \"3,57\", \"-1,46\", \"16,29\", \"0\", \"-0,13\", \"0\", \"-7,11\", \"-2,67\", \"-7,64\", \"-11,7\", \"-2,72\", \"-2,71\", \"0,2\", \"-5,69\", \"0\", \"11,53\", \"5,37\", \"-0,29\", \"0,99\", \"-1,31\", \"-0,02\", \"-8,81\", \"0\", \"1,67\", \"4,05\", \"0\", \"0\", \"-2,86\", \"0\", \"0\", \"0\", \"-10,83\", \"-0,57\", \"0\", \"-0,86\", \"0\", \"-0,39\", \"1,03\", \"2,19\", \"3,41\", \"-0,32\", \"-1,72\", \"0\", \"-0,04\", \"-0,45\", \"0\", \"0\", \"0\"]}, {\"boxpoints\": false, \"line\": {\"width\": 1.3}, \"marker\": {\"color\": \"rgba(128, 128, 0, 1.0)\"}, \"name\": \"Infant mortality (per 1000 births)\", \"orientation\": \"v\", \"type\": \"box\", \"y\": [\"163,07\", \"21,52\", \"31\", \"21,03\", \"19,46\", \"15,18\", \"23,28\", \"5,89\", \"4,69\", \"4,66\", \"81,74\", \"25,21\", \"17,27\", \"62,6\", \"12,5\", \"13,37\", \"4,68\", \"25,69\", \"85\", \"8,53\", \"100,44\", \"53,11\", \"54,58\", \"29,61\", \"18,05\", \"12,61\", \"20,55\", \"97,57\", \"67,24\", \"69,29\", \"71,48\", \"68,26\", \"47,77\", \"8,19\", \"91\", \"93,82\", \"8,8\", \"24,18\", \"20,97\", \"74,93\", \"94,69\", \"93,86\", \"9,95\", \"90,83\", \"6,33\", \"3,93\", \"4,56\", \"104,13\", \"14,15\", \"32,38\", \"23,66\", \"32,59\", \"25,1\", \"85,13\", \"74,87\", \"7,87\", \"95,32\", \"12,62\", \"3,57\", \"4,26\", \"12,07\", \"8,44\", \"53,64\", \"72,02\", \"18,59\", \"4,16\", \"51,43\", \"5,53\", \"14,62\", \"8,6\", \"35,93\", \"90,37\", \"107,17\", \"33,26\", \"73,45\", \"29,32\", \"2,97\", \"8,57\", \"3,31\", \"56,29\", \"35,6\", \"41,58\", \"50,25\", \"5,39\", \"7,03\", \"12,36\", \"3,26\", \"17,35\", \"29,21\", \"61,47\", \"24,04\", \"7,05\", \"9,95\", \"35,64\", \"85,22\", \"9,55\", \"84,23\", \"128,87\", \"4,7\", \"4,39\", \"76,83\", \"103,32\", \"17,7\", \"56,52\", \"116,79\", \"29,45\", \"7,09\", \"70,89\", \"15,03\", \"20,91\", \"30,21\", \"53,79\", \"130,79\", \"48,98\", \"5,04\", \"10,03\", \"7,72\", \"5,85\", \"29,11\", \"121,69\", \"98,8\", \"3,7\", \"19,51\", \"72,44\", \"14,84\", \"20,47\", \"51,45\", \"25,63\", \"31,94\", \"23,51\", \"8,51\", \"5,05\", \"8,24\", \"18,61\", \"7,78\", \"26,43\", \"91,23\", \"14,49\", \"13,53\", \"14,78\", \"27,71\", \"43,11\", \"13,24\", \"55,51\", \"15,53\", \"143,64\", \"2,29\", \"116,7\", \"61,81\", \"4,42\", \"14,35\", \"62,5\", \"23,57\", \"69,27\", \"2,77\", \"4,39\", \"29,53\", \"6,4\", \"110,76\", \"20,48\", \"66,61\", \"12,62\", \"24,31\", \"24,77\", \"41,04\", \"73,08\", \"67,83\", \"20,34\", \"14,51\", \"5,16\", \"6,5\", \"11,95\", \"71,1\", \"55,16\", \"22,2\", \"25,95\", \"61,5\", \"88,29\", \"67,69\"]}, {\"boxpoints\": false, \"line\": {\"width\": 1.3}, \"marker\": {\"color\": \"rgba(251, 128, 114, 1.0)\"}, \"name\": \"GDP ($ per capita)\", \"orientation\": \"v\", \"type\": \"box\", \"y\": [700.0, 4500.0, 6000.0, 8600.0, 11000.0, 11200.0, 3500.0, 28000.0, 29000.0, 30000.0, 3400.0, 16700.0, 16900.0, 1900.0, 15700.0, 6100.0, 29100.0, 4900.0, 1100.0, 36000.0, 1300.0, 2400.0, 9000.0, 7600.0, 16000.0, 18600.0, 7600.0, 1100.0, 1800.0, 600.0, 1900.0, 1800.0, 1400.0, 35000.0, 1100.0, 1200.0, 9900.0, 5000.0, 6300.0, 700.0, 700.0, 700.0, 9100.0, 1400.0, 2900.0, 15700.0, 31100.0, 1300.0, 5400.0, 6000.0, 3300.0, 4000.0, 4800.0, 2700.0, 700.0, 12300.0, 700.0, 5800.0, 27400.0, 27600.0, 8300.0, 17500.0, 5500.0, 1700.0, 2500.0, 27600.0, 2200.0, 20000.0, 5000.0, 8000.0, 4100.0, 2100.0, 800.0, 4000.0, 1600.0, 2600.0, 28800.0, 13900.0, 30900.0, 2900.0, 3200.0, 7000.0, 1500.0, 29600.0, 19800.0, 3900.0, 28200.0, 4300.0, 6300.0, 1000.0, 1300.0, 17800.0, 19000.0, 1600.0, 1700.0, 10200.0, 3000.0, 1000.0, 25000.0, 19400.0, 800.0, 600.0, 9000.0, 3900.0, 900.0, 1600.0, 14400.0, 1800.0, 11400.0, 9000.0, 2000.0, 1800.0, 1200.0, 7200.0, 28600.0, 11400.0, 15000.0, 21600.0, 2300.0, 800.0, 900.0, 37800.0, 13100.0, 2100.0, 9000.0, 6300.0, 2200.0, 4700.0, 5100.0, 4600.0, 11100.0, 18000.0, 16800.0, 21500.0, 5800.0, 7000.0, 1300.0, 8800.0, 5400.0, 2900.0, 5600.0, 1200.0, 11800.0, 1600.0, 7800.0, 500.0, 23700.0, 500.0, 10700.0, 22000.0, 3700.0, 1900.0, 4000.0, 4900.0, 26800.0, 32700.0, 3300.0, 23400.0, 1000.0, 7400.0, 1500.0, 2200.0, 9500.0, 6900.0, 6700.0, 5800.0, 1400.0, 5400.0, 23200.0, 27700.0, 37800.0, 12800.0, 1700.0, 2900.0, 4800.0, 2500.0, 800.0, 800.0, 1900.0]}, {\"boxpoints\": false, \"line\": {\"width\": 1.3}, \"marker\": {\"color\": \"rgba(128, 177, 211, 1.0)\"}, \"name\": \"Literacy (%)\", \"orientation\": \"v\", \"type\": \"box\", \"y\": [\"36,0\", \"86,5\", \"70,0\", \"95,0\", \"89,0\", \"97,1\", \"98,6\", \"97,0\", \"100,0\", \"98,0\", \"97,0\", \"95,6\", \"89,1\", \"43,1\", \"97,4\", \"99,6\", \"98,0\", \"94,1\", \"40,9\", \"98,0\", \"42,2\", \"87,2\", \"79,8\", \"86,4\", \"97,8\", \"93,9\", \"98,6\", \"26,6\", \"85,3\", \"51,6\", \"69,4\", \"79,0\", \"76,6\", \"98,0\", \"51,0\", \"47,5\", \"96,2\", \"90,9\", \"92,5\", \"56,5\", \"65,5\", \"83,8\", \"96,0\", \"50,9\", \"97,0\", \"99,9\", \"100,0\", \"67,9\", \"94,0\", \"84,7\", \"92,5\", \"57,7\", \"80,2\", \"85,7\", \"58,6\", \"99,8\", \"42,7\", \"93,7\", \"100,0\", \"99,0\", \"83,0\", \"98,0\", \"63,2\", \"40,1\", \"99,0\", \"99,0\", \"74,8\", \"97,5\", \"98,0\", \"90,0\", \"70,6\", \"35,9\", \"42,4\", \"98,8\", \"52,9\", \"76,2\", \"93,5\", \"99,4\", \"99,9\", \"59,5\", \"87,9\", \"79,4\", \"40,4\", \"98,0\", \"95,4\", \"87,9\", \"99,0\", \"91,3\", \"98,4\", \"85,1\", \"99,0\", \"97,9\", \"83,5\", \"97,0\", \"66,4\", \"99,8\", \"84,8\", \"57,5\", \"100,0\", \"94,5\", \"68,9\", \"62,7\", \"88,7\", \"97,2\", \"46,4\", \"93,7\", \"97,7\", \"41,7\", \"85,6\", \"92,2\", \"89,0\", \"97,8\", \"47,8\", \"84,0\", \"99,0\", \"96,7\", \"91,0\", \"99,0\", \"67,5\", \"17,6\", \"68,0\", \"100,0\", \"75,8\", \"45,7\", \"92,0\", \"92,6\", \"64,6\", \"94,0\", \"90,9\", \"92,6\", \"99,8\", \"93,3\", \"94,1\", \"82,5\", \"88,9\", \"98,4\", \"70,4\", \"97,0\", \"67,0\", \"96,0\", \"99,7\", \"79,3\", \"78,8\", \"40,2\", \"58,0\", \"31,4\", \"92,5\", \"37,8\", \"86,4\", \"97,9\", \"92,3\", \"61,1\", \"93,0\", \"81,6\", \"99,0\", \"99,0\", \"76,9\", \"96,1\", \"99,4\", \"92,6\", \"60,9\", \"98,5\", \"98,6\", \"74,2\", \"86,5\", \"98,0\", \"69,9\", \"99,7\", \"77,9\", \"99,0\", \"97,0\", \"98,0\", \"99,3\", \"53,0\", \"93,4\", \"90,3\", \"50,2\", \"80,6\", \"90,7\"]}, {\"boxpoints\": false, \"line\": {\"width\": 1.3}, \"marker\": {\"color\": \"rgba(128, 177, 211, 0.8999999999999999)\"}, \"name\": \"Phones (per 1000)\", \"orientation\": \"v\", \"type\": \"box\", \"y\": [\"3,2\", \"71,2\", \"78,1\", \"460,0\", \"549,9\", \"220,4\", \"195,7\", \"516,1\", \"565,5\", \"452,2\", \"137,1\", \"460,6\", \"281,3\", \"7,3\", \"481,9\", \"319,1\", \"462,6\", \"115,7\", \"9,7\", \"851,4\", \"14,3\", \"71,9\", \"80,5\", \"225,3\", \"506,5\", \"237,2\", \"336,3\", \"7,0\", \"10,1\", \"3,4\", \"2,6\", \"5,7\", \"169,6\", \"836,3\", \"2,3\", \"1,3\", \"213,0\", \"266,7\", \"176,2\", \"24,5\", \"0,2\", \"3,7\", \"340,7\", \"14,6\", \"74,7\", \"314,3\", \"614,6\", \"22,8\", \"304,8\", \"97,4\", \"125,6\", \"131,8\", \"142,4\", \"18,5\", \"7,9\", \"333,8\", \"8,2\", \"112,6\", \"405,3\", \"586,4\", \"255,6\", \"194,5\", \"27,4\", \"26,8\", \"146,6\", \"667,9\", \"14,4\", \"589,7\", \"364,5\", \"463,8\", \"92,1\", \"2,7\", \"7,4\", \"143,5\", \"16,9\", \"67,5\", \"546,7\", \"336,2\", \"647,7\", \"45,4\", \"52,0\", \"276,4\", \"38,6\", \"500,5\", \"462,3\", \"124,0\", \"461,2\", \"104,5\", \"164,1\", \"8,1\", \"42,4\", \"486,1\", \"211,0\", \"84,0\", \"14,1\", \"321,4\", \"23,7\", \"2,3\", \"585,5\", \"384,9\", \"3,6\", \"7,9\", \"179,0\", \"90,0\", \"6,4\", \"91,2\", \"394,4\", \"12,9\", \"289,3\", \"181,6\", \"114,8\", \"55,1\", \"3,5\", \"62,6\", \"460,8\", \"365,3\", \"252,2\", \"441,7\", \"39,7\", \"1,9\", \"9,3\", \"461,7\", \"85,5\", \"31,8\", \"325,6\", \"137,9\", \"10,9\", \"49,2\", \"79,5\", \"38,4\", \"306,3\", \"399,2\", \"283,1\", \"232,0\", \"380,9\", \"196,9\", \"2,7\", \"638,9\", \"303,3\", \"190,9\", \"75,2\", \"36,2\", \"140,6\", \"22,2\", \"262,4\", \"4,0\", \"411,4\", \"11,3\", \"107,0\", \"453,5\", \"61,5\", \"16,3\", \"184,7\", \"30,8\", \"715,0\", \"680,9\", \"153,8\", \"591,0\", \"33,5\", \"108,9\", \"10,6\", \"97,7\", \"303,5\", \"123,6\", \"269,5\", \"74,6\", \"3,6\", \"259,9\", \"475,3\", \"543,5\", \"898,0\", \"291,4\", \"62,9\", \"32,6\", \"140,1\", \"187,7\", \"37,2\", \"8,2\", \"26,8\"]}, {\"boxpoints\": false, \"line\": {\"width\": 1.3}, \"marker\": {\"color\": \"rgba(255, 153, 51, 0.8999999999999999)\"}, \"name\": \"Arable (%)\", \"orientation\": \"v\", \"type\": \"box\", \"y\": [\"12,13\", \"21,09\", \"3,22\", \"0\", \"18,18\", \"12,31\", \"17,55\", \"10,53\", \"6,55\", \"16,91\", \"19,63\", \"0,8\", \"2,82\", \"62,11\", \"37,21\", \"29,55\", \"23,28\", \"2,85\", \"18,08\", \"20\", \"3,09\", \"2,67\", \"0,65\", \"6,96\", \"20\", \"0,57\", \"40,02\", \"14,43\", \"15,19\", \"35,05\", \"20,96\", \"12,81\", \"9,68\", \"3,85\", \"3,1\", \"2,86\", \"2,65\", \"15,4\", \"2,42\", \"35,87\", \"2,96\", \"0,51\", \"4,41\", \"9,75\", \"33,05\", \"39,8\", \"54,02\", \"0,04\", \"6,67\", \"22,65\", \"5,85\", \"2,87\", \"31,85\", \"4,63\", \"4,95\", \"16,04\", \"10,71\", \"10,95\", \"7,19\", \"33,53\", \"0,14\", \"0,82\", \"1,26\", \"25\", \"11,44\", \"33,85\", \"16,26\", \"21,1\", \"5,88\", \"11,24\", \"12,54\", \"3,63\", \"10,67\", \"2,44\", \"28,3\", \"9,55\", \"5,05\", \"50,09\", \"0,07\", \"54,4\", \"11,32\", \"8,72\", \"13,15\", \"15,2\", \"16,39\", \"16,07\", \"12,19\", \"2,67\", \"7,98\", \"8,08\", \"20,76\", \"17,18\", \"0,73\", \"7,3\", \"3,8\", \"29,67\", \"10,87\", \"3,95\", \"25\", \"0\", \"5,07\", \"23,38\", \"5,48\", \"13,33\", \"3,82\", \"16,67\", \"10,38\", \"0,48\", \"49,26\", \"12,99\", \"5,71\", \"0,77\", \"5,1\", \"0,99\", \"26,71\", \"10\", \"0,38\", \"5,6\", \"15,94\", \"3,54\", \"31,29\", \"2,87\", \"0\", \"27,87\", \"8,7\", \"7,36\", \"0,46\", \"7,6\", \"2,89\", \"18,95\", \"45,91\", \"21,75\", \"3,95\", \"1,64\", \"13,6\", \"40,82\", \"40,54\", \"19,44\", \"6,56\", \"17,95\", \"21,2\", \"6,25\", \"1,67\", \"12,78\", \"2,22\", \"6,98\", \"1,64\", \"1,67\", \"12,08\", \"26,07\", \"13,86\", \"6,83\", \"0,37\", \"10,35\", \"6,54\", \"10,42\", \"25,22\", \"24\", \"6,61\", \"29,36\", \"46,15\", \"23,61\", \"14,62\", \"17,86\", \"30,93\", \"3,72\", \"25,88\", \"56,21\", \"0,6\", \"23,46\", \"19,13\", \"7,43\", \"10,83\", \"2,46\", \"2,95\", \"19,97\", \"2,78\", \"7,08\", \"8,32\"]}, {\"boxpoints\": false, \"line\": {\"width\": 1.3}, \"marker\": {\"color\": \"rgba(55, 128, 191, 0.8999999999999999)\"}, \"name\": \"Crops (%)\", \"orientation\": \"v\", \"type\": \"box\", \"y\": [\"0,22\", \"4,42\", \"0,25\", \"0\", \"4,55\", \"0,48\", \"2,3\", \"0\", \"0,04\", \"0,86\", \"2,71\", \"0,4\", \"5,63\", \"3,07\", \"2,33\", \"0,6\", \"0,4\", \"1,71\", \"2,4\", \"0\", \"0,43\", \"0,19\", \"0,01\", \"0,9\", \"6,67\", \"0,76\", \"1,92\", \"0,19\", \"0,97\", \"14,02\", \"0,61\", \"2,58\", \"0,5\", \"0\", \"0,14\", \"0,02\", \"0,42\", \"1,25\", \"1,67\", \"23,32\", \"0,52\", \"0,13\", \"5,88\", \"13,84\", \"7,6\", \"3,05\", \"0,19\", \"0\", \"20\", \"10,33\", \"4,93\", \"0,48\", \"12,07\", \"3,57\", \"0,03\", \"0,45\", \"0,75\", \"4,65\", \"0,03\", \"2,07\", \"0,05\", \"5,46\", \"0,66\", \"0,5\", \"3,86\", \"0,59\", \"9,67\", \"8,78\", \"29,41\", \"3,55\", \"5,03\", \"2,58\", \"8,82\", \"0,15\", \"11,61\", \"3,22\", \"1,01\", \"2,06\", \"0\", \"2,74\", \"7,23\", \"1,39\", \"0,78\", \"0,03\", \"4,17\", \"10,16\", \"0,96\", \"1,83\", \"0,05\", \"0,98\", \"2,49\", \"1,95\", \"0,11\", \"0,35\", \"0,35\", \"0,47\", \"0,13\", \"2,28\", \"0\", \"0\", \"1,03\", \"1,49\", \"17,61\", \"16,67\", \"0,03\", \"38,89\", \"9,43\", \"0,01\", \"2,96\", \"1,31\", \"45,71\", \"0\", \"0,3\", \"0\", \"0,97\", \"0\", \"0,33\", \"6,99\", \"1,94\", \"0,01\", \"2,96\", \"0\", \"0,14\", \"0,87\", \"4,35\", \"1,98\", \"1,44\", \"0,23\", \"0,4\", \"16,77\", \"1,12\", \"7,81\", \"5,52\", \"0,27\", \"1,2\", \"2,25\", \"12,16\", \"2,78\", \"22,95\", \"17,95\", \"24,38\", \"48,96\", \"0,09\", \"0,21\", \"13,33\", \"0,89\", \"0\", \"0,04\", \"0,79\", \"9,87\", \"15,7\", \"0,18\", \"0,06\", \"0,7\", \"0,01\", \"0,61\", \"4,43\", \"1\", \"0,92\", \"6,46\", \"2,21\", \"43,06\", \"9,16\", \"13,74\", \"3,31\", \"0,14\", \"10,65\", \"1,61\", \"2,25\", \"0,21\", \"0,22\", \"0,23\", \"0,83\", \"7,38\", \"0,92\", \"5,95\", \"0,24\", \"0,03\", \"0,34\"]}, {\"boxpoints\": false, \"line\": {\"width\": 1.3}, \"marker\": {\"color\": \"rgba(50, 171, 96, 0.8999999999999999)\"}, \"name\": \"Other (%)\", \"orientation\": \"v\", \"type\": \"box\", \"y\": [\"87,65\", \"74,49\", \"96,53\", \"100\", \"77,27\", \"87,21\", \"80,15\", \"89,47\", \"93,41\", \"82,23\", \"77,66\", \"98,8\", \"91,55\", \"34,82\", \"60,46\", \"69,85\", \"76,32\", \"95,44\", \"79,52\", \"80\", \"96,48\", \"97,14\", \"99,34\", \"92,15\", \"73,33\", \"98,67\", \"58,06\", \"85,38\", \"83,84\", \"50,93\", \"78,43\", \"84,61\", \"89,82\", \"96,15\", \"96,76\", \"97,12\", \"96,93\", \"83,35\", \"95,91\", \"40,81\", \"96,52\", \"99,36\", \"89,71\", \"76,41\", \"59,35\", \"57,15\", \"45,79\", \"99,96\", \"73,33\", \"67,02\", \"89,22\", \"96,65\", \"56,08\", \"91,8\", \"95,02\", \"83,51\", \"88,54\", \"84,4\", \"92,78\", \"64,4\", \"99,81\", \"93,72\", \"98,08\", \"74,5\", \"84,7\", \"65,56\", \"74,07\", \"70,12\", \"64,71\", \"85,21\", \"82,43\", \"93,79\", \"80,51\", \"97,41\", \"60,09\", \"87,23\", \"93,94\", \"47,85\", \"99,93\", \"42,86\", \"81,45\", \"89,89\", \"86,07\", \"84,77\", \"79,44\", \"73,77\", \"86,85\", \"95,5\", \"91,97\", \"90,94\", \"76,75\", \"80,87\", \"99,16\", \"92,35\", \"95,85\", \"69,86\", \"89\", \"93,77\", \"75\", \"100\", \"93,91\", \"75,13\", \"76,91\", \"70\", \"96,15\", \"44,44\", \"80,19\", \"99,51\", \"47,78\", \"85,7\", \"48,58\", \"99,23\", \"94,6\", \"99,01\", \"72,32\", \"90\", \"99,29\", \"87,41\", \"82,12\", \"96,45\", \"65,75\", \"97,13\", \"99,74\", \"71,26\", \"86,95\", \"90,66\", \"98,1\", \"92,17\", \"96,71\", \"64,28\", \"52,97\", \"70,44\", \"90,53\", \"98,09\", \"85,2\", \"56,93\", \"47,3\", \"77,78\", \"70,49\", \"64,1\", \"54,42\", \"44,79\", \"98,24\", \"87,01\", \"84,45\", \"92,13\", \"98,36\", \"98,29\", \"87,13\", \"64,06\", \"70,44\", \"92,99\", \"99,57\", \"88,95\", \"93,45\", \"88,97\", \"70,35\", \"75\", \"92,47\", \"64,18\", \"51,64\", \"33,33\", \"76,22\", \"68,4\", \"65,76\", \"96,14\", \"63,47\", \"42,18\", \"97,15\", \"76,33\", \"80,65\", \"92,34\", \"88,34\", \"90,16\", \"96,13\", \"74,08\", \"96,98\", \"92,9\", \"91,34\"]}, {\"boxpoints\": false, \"line\": {\"width\": 1.3}, \"marker\": {\"color\": \"rgba(128, 0, 128, 0.8999999999999999)\"}, \"name\": \"Climate\", \"orientation\": \"v\", \"type\": \"box\", \"y\": [\"1\", \"3\", \"1\", \"2\", \"2\", \"3\", \"4\", \"2\", \"1\", \"3\", \"1\", \"2\", \"1\", \"2\", \"2\", \"4\", \"3\", \"2\", \"2\", \"2\", \"2\", \"1,5\", \"1\", \"2\", \"2\", \"2\", \"3\", \"2\", \"2\", \"2\", \"2\", \"1,5\", \"3\", \"2\", \"2\", \"2\", \"3\", \"1,5\", \"2\", \"2\", \"2\", \"2\", \"2\", \"2\", \"2\", \"3\", \"3\", \"1\", \"2\", \"2\", \"2\", \"1\", \"2\", \"2\", \"1,5\", \"3\", \"2\", \"2\", \"3\", \"4\", \"2\", \"2\", \"2\", \"2\", \"3\", \"3\", \"2\", \"3\", \"2\", \"2\", \"2\", \"2\", \"2\", \"2\", \"2\", \"2\", \"2\", \"3\", \"3\", \"2,5\", \"2\", \"1\", \"1\", \"3\", \"3\", \"2\", \"3\", \"1\", \"4\", \"1,5\", \"3\", \"3\", \"1\", \"2,5\", \"2\", \"3\", \"3\", \"2\", \"4\", \"2\", \"2\", \"2\", \"2\", \"2\", \"2\", \"2\", \"2\", \"1\", \"2\", \"1,5\", \"2\", \"1\", \"2\", \"1\", \"3\", \"2\", \"2\", \"3\", \"2\", \"1\", \"1,5\", \"3\", \"1\", \"1\", \"2\", \"2\", \"2\", \"2\", \"1,5\", \"2\", \"3\", \"3\", \"2\", \"1\", \"2\", \"3\", \"3\", \"2\", \"2\", \"2\", \"2\", \"2\", \"1\", \"2\", \"2\", \"2\", \"2\", \"1\", \"1\", \"3\", \"2\", \"2\", \"2\", \"2,5\", \"3\", \"3\", \"1\", \"2\", \"2\", \"2\", \"2\", \"2\", \"2\", \"3\", \"3\", \"1\", \"2\", \"3\", \"1\", \"3\", \"3\", \"3\", \"1\", \"2\", \"2\", \"2\", \"1\", \"2\", \"2\"]}, {\"boxpoints\": false, \"line\": {\"width\": 1.3}, \"marker\": {\"color\": \"rgba(219, 64, 82, 0.8999999999999999)\"}, \"name\": \"Birthrate\", \"orientation\": \"v\", \"type\": \"box\", \"y\": [\"46,6\", \"15,11\", \"17,14\", \"14,17\", \"16,93\", \"16,73\", \"12,07\", \"11,03\", \"12,14\", \"8,74\", \"20,74\", \"17,57\", \"17,8\", \"29,8\", \"12,71\", \"11,16\", \"10,38\", \"28,84\", \"38,85\", \"11,4\", \"33,65\", \"23,3\", \"23,08\", \"16,56\", \"14,89\", \"18,79\", \"9,65\", \"45,62\", \"17,91\", \"42,22\", \"26,9\", \"33,89\", \"24,87\", \"12,74\", \"33,91\", \"45,73\", \"15,23\", \"13,25\", \"20,48\", \"36,93\", \"43,69\", \"42,57\", \"18,32\", \"35,11\", \"11,89\", \"9,02\", \"11,13\", \"39,53\", \"15,27\", \"23,22\", \"22,29\", \"22,94\", \"26,61\", \"35,59\", \"34,33\", \"10,04\", \"37,98\", \"22,55\", \"10,45\", \"11,99\", \"20,46\", \"16,68\", \"36,16\", \"39,37\", \"10,41\", \"8,25\", \"30,52\", \"9,68\", \"22,08\", \"15,05\", \"29,88\", \"41,76\", \"37,22\", \"18,28\", \"36,44\", \"28,24\", \"7,29\", \"9,72\", \"13,64\", \"22,01\", \"20,34\", \"17\", \"31,98\", \"14,45\", \"17,97\", \"20,82\", \"9,37\", \"21,25\", \"16\", \"39,72\", \"15,54\", \"10\", \"21,94\", \"22,8\", \"35,49\", \"9,24\", \"24,75\", \"44,77\", \"10,21\", \"8,48\", \"41,41\", \"43,13\", \"22,86\", \"34,81\", \"49,82\", \"33,05\", \"13,74\", \"40,99\", \"15,43\", \"20,69\", \"24,68\", \"21,59\", \"35,18\", \"24,32\", \"10,9\", \"14,78\", \"18,11\", \"13,76\", \"24,51\", \"50,73\", \"40,43\", \"11,46\", \"36,24\", \"29,74\", \"18,03\", \"21,74\", \"29,36\", \"29,1\", \"20,48\", \"24,89\", \"9,85\", \"10,72\", \"12,77\", \"15,56\", \"18,9\", \"10,7\", \"40,37\", \"18,02\", \"19,68\", \"16,18\", \"16,43\", \"40,25\", \"29,34\", \"32,78\", \"16,03\", \"45,76\", \"9,34\", \"45,13\", \"18,2\", \"10,06\", \"15,51\", \"34,53\", \"18,02\", \"27,41\", \"10,27\", \"9,71\", \"27,76\", \"12,56\", \"32,65\", \"13,87\", \"37,01\", \"25,37\", \"12,9\", \"15,52\", \"16,62\", \"27,61\", \"47,35\", \"8,82\", \"18,96\", \"10,71\", \"14,14\", \"13,91\", \"26,36\", \"22,72\", \"18,71\", \"16,86\", \"42,89\", \"41\", \"28,01\"]}, {\"boxpoints\": false, \"line\": {\"width\": 1.3}, \"marker\": {\"color\": \"rgba(0, 128, 128, 0.8999999999999999)\"}, \"name\": \"Deathrate\", \"orientation\": \"v\", \"type\": \"box\", \"y\": [\"20,34\", \"5,22\", \"4,61\", \"5,34\", \"5,37\", \"7,55\", \"8,23\", \"6,68\", \"7,51\", \"9,76\", \"9,75\", \"9,05\", \"4,14\", \"8,27\", \"8,67\", \"14,02\", \"10,27\", \"5,72\", \"12,22\", \"7,74\", \"12,7\", \"7,53\", \"29,5\", \"6,17\", \"4,42\", \"3,45\", \"14,27\", \"15,6\", \"9,83\", \"13,46\", \"9,06\", \"13,47\", \"6,55\", \"4,89\", \"18,65\", \"16,38\", \"5,81\", \"6,97\", \"5,58\", \"8,2\", \"13,27\", \"12,93\", \"4,36\", \"14,84\", \"7,22\", \"10,59\", \"10,36\", \"19,31\", \"6,73\", \"5,73\", \"4,23\", \"5,23\", \"5,78\", \"15,06\", \"9,6\", \"13,25\", \"14,86\", \"5,65\", \"9,86\", \"9,14\", \"4,88\", \"4,69\", \"12,25\", \"12,25\", \"9,23\", \"10,62\", \"9,72\", \"10,24\", \"6,88\", \"6,09\", \"5,2\", \"15,48\", \"16,53\", \"8,28\", \"12,17\", \"5,28\", \"6,29\", \"13,11\", \"6,72\", \"8,18\", \"6,25\", \"5,55\", \"5,37\", \"7,82\", \"6,18\", \"6,52\", \"9,16\", \"2,65\", \"9,42\", \"14,02\", \"7,13\", \"5,85\", \"2,41\", \"7,08\", \"11,55\", \"13,66\", \"28,71\", \"23,1\", \"7,18\", \"4,47\", \"11,11\", \"19,33\", \"5,05\", \"7,06\", \"16,89\", \"4,78\", \"6,48\", \"12,16\", \"6,86\", \"4,74\", \"4,75\", \"6,95\", \"21,35\", \"18,86\", \"8,68\", \"6,45\", \"5,69\", \"7,53\", \"4,45\", \"20,91\", \"16,94\", \"9,4\", \"3,81\", \"8,23\", \"6,8\", \"5,36\", \"7,25\", \"4,49\", \"6,23\", \"5,41\", \"9,89\", \"10,5\", \"7,65\", \"4,72\", \"5,49\", \"11,77\", \"16,09\", \"8,33\", \"5,08\", \"5,98\", \"6,62\", \"6,47\", \"2,58\", \"9,42\", \"6,29\", \"23,03\", \"4,28\", \"16,63\", \"22\", \"9,72\", \"6,52\", \"8,97\", \"7,27\", \"29,74\", \"10,31\", \"8,49\", \"4,81\", \"6,48\", \"8,25\", \"7,04\", \"9,83\", \"5,28\", \"10,57\", \"5,13\", \"5,97\", \"8,6\", \"12,24\", \"14,39\", \"4,4\", \"10,13\", \"8,26\", \"9,05\", \"7,84\", \"7,82\", \"4,92\", \"6,22\", \"8,3\", \"19,93\", \"21,84\"]}, {\"boxpoints\": false, \"line\": {\"width\": 1.3}, \"marker\": {\"color\": \"rgba(255, 255, 51, 0.8999999999999999)\"}, \"name\": \"Agriculture\", \"orientation\": \"v\", \"type\": \"box\", \"y\": [\"0,38\", \"0,232\", \"0,101\", \"0,04\", \"0,038\", \"0,095\", \"0,239\", \"0,004\", \"0,038\", \"0,018\", \"0,141\", \"0,03\", \"0,005\", \"0,199\", \"0,06\", \"0,093\", \"0,01\", \"0,142\", \"0,316\", \"0,01\", \"0,258\", \"0,128\", \"0,024\", \"0,084\", \"0,018\", \"0,036\", \"0,093\", \"0,322\", \"0,564\", \"0,463\", \"0,35\", \"0,448\", \"0,121\", \"0,014\", \"0,55\", \"0,335\", \"0,06\", \"0,125\", \"0,125\", \"0,4\", \"0,55\", \"0,062\", \"0,088\", \"0,279\", \"0,055\", \"0,034\", \"0,018\", \"0,179\", \"0,177\", \"0,112\", \"0,07\", \"0,149\", \"0,099\", \"0,03\", \"0,102\", \"0,04\", \"0,475\", \"0,089\", \"0,028\", \"0,022\", \"0,066\", \"0,031\", \"0,061\", \"0,308\", \"0,172\", \"0,009\", \"0,366\", \"0,054\", \"0,054\", \"0,15\", \"0,227\", \"0,237\", \"0,62\", \"0,37\", \"0,28\", \"0,139\", \"0,001\", \"0,037\", \"0,086\", \"0,186\", \"0,134\", \"0,116\", \"0,073\", \"0,05\", \"0,026\", \"0,049\", \"0,017\", \"0,033\", \"0,067\", \"0,163\", \"0,3\", \"0,033\", \"0,004\", \"0,353\", \"0,455\", \"0,04\", \"0,163\", \"0,769\", \"0,06\", \"0,001\", \"0,276\", \"0,342\", \"0,084\", \"0,2\", \"0,45\", \"0,317\", \"0,06\", \"0,25\", \"0,059\", \"0,038\", \"0,289\", \"0,206\", \"0,262\", \"0,097\", \"0,021\", \"0,01\", \"0,15\", \"0,043\", \"0,165\", \"0,39\", \"0,269\", \"0,021\", \"0,027\", \"0,216\", \"0,062\", \"0,068\", \"0,353\", \"0,224\", \"0,08\", \"0,144\", \"0,05\", \"0,053\", \"0,01\", \"0,002\", \"0,08\", \"0,101\", \"0,401\", \"0,035\", \"0,07\", \"0,1\", \"0,114\", \"0,167\", \"0,033\", \"0,172\", \"0,032\", \"0,49\", \"0\", \"0,65\", \"0,025\", \"0,04\", \"0,178\", \"0,387\", \"0,13\", \"0,119\", \"0,011\", \"0,015\", \"0,249\", \"0,018\", \"0,234\", \"0,099\", \"0,395\", \"0,23\", \"0,007\", \"0,132\", \"0,117\", \"0,209\", \"0,311\", \"0,187\", \"0,04\", \"0,005\", \"0,01\", \"0,093\", \"0,342\", \"0,26\", \"0,04\", \"0,209\", \"0,135\", \"0,22\", \"0,179\"]}, {\"boxpoints\": false, \"line\": {\"width\": 1.3}, \"marker\": {\"color\": \"rgba(128, 128, 0, 0.8999999999999999)\"}, \"name\": \"Industry\", \"orientation\": \"v\", \"type\": \"box\", \"y\": [\"0,24\", \"0,188\", \"0,6\", \"0,18\", \"0,22\", \"0,358\", \"0,343\", \"0,333\", \"0,262\", \"0,304\", \"0,457\", \"0,07\", \"0,387\", \"0,198\", \"0,16\", \"0,316\", \"0,24\", \"0,152\", \"0,138\", \"0,1\", \"0,379\", \"0,352\", \"0,469\", \"0,4\", \"0,062\", \"0,561\", \"0,304\", \"0,196\", \"0,082\", \"0,203\", \"0,3\", \"0,17\", \"0,219\", \"0,032\", \"0,2\", \"0,259\", \"0,493\", \"0,473\", \"0,342\", \"0,04\", \"0,11\", \"0,57\", \"0,299\", \"0,171\", \"0,261\", \"0,393\", \"0,246\", \"0,225\", \"0,328\", \"0,306\", \"0,312\", \"0,357\", \"0,302\", \"0,906\", \"0,254\", \"0,294\", \"0,099\", \"0,135\", \"0,295\", \"0,214\", \"0,156\", \"0,19\", \"0,592\", \"0,142\", \"0,275\", \"0,296\", \"0,246\", \"0,213\", \"0,18\", \"0,17\", \"0,188\", \"0,362\", \"0,12\", \"0,203\", \"0,2\", \"0,312\", \"0,092\", \"0,312\", \"0,15\", \"0,276\", \"0,458\", \"0,424\", \"0,666\", \"0,46\", \"0,317\", \"0,337\", \"0,258\", \"0,287\", \"0,386\", \"0,188\", \"0,34\", \"0,403\", \"0,479\", \"0,208\", \"0,287\", \"0,261\", \"0,443\", \"0,054\", \"0,39\", \"0,072\", \"0,165\", \"0,158\", \"0,48\", \"0,18\", \"0,17\", \"0,149\", \"0,11\", \"0,29\", \"0,298\", \"0,259\", \"0,152\", \"0,214\", \"0,348\", \"0,315\", \"0,244\", \"0,15\", \"0,088\", \"0,273\", \"0,275\", \"0,17\", \"0,487\", \"0,415\", \"0,39\", \"0,251\", \"0,12\", \"0,156\", \"0,381\", \"0,207\", \"0,27\", \"0,326\", \"0,311\", \"0,274\", \"0,45\", \"0,801\", \"0,19\", \"0,35\", \"0,229\", \"0,258\", \"0,2\", \"0,26\", \"0,584\", \"0,148\", \"0,613\", \"0,209\", \"0,304\", \"0,31\", \"0,339\", \"0,1\", \"0,303\", \"0,295\", \"0,276\", \"0,203\", \"0,22\", \"0,515\", \"0,282\", \"0,34\", \"0,23\", \"0,259\", \"0,286\", \"0,441\", \"0,204\", \"0,27\", \"0,57\", \"0,318\", \"0,298\", \"0,38\", \"0,222\", \"0,452\", \"0,585\", \"0,237\", \"0,204\", \"0,311\", \"0,229\", \"0,12\", \"0,419\", \"0,41\", \"0,472\", \"0,29\", \"0,243\"]}, {\"boxpoints\": false, \"line\": {\"width\": 1.3}, \"marker\": {\"color\": \"rgba(251, 128, 114, 0.8999999999999999)\"}, \"name\": \"Service\", \"orientation\": \"v\", \"type\": \"box\", \"y\": [\"0,38\", \"0,579\", \"0,298\", \"0,78\", \"0,743\", \"0,547\", \"0,418\", \"0,663\", \"0,7\", \"0,678\", \"0,402\", \"0,9\", \"0,608\", \"0,603\", \"0,78\", \"0,591\", \"0,749\", \"0,612\", \"0,546\", \"0,89\", \"0,363\", \"0,52\", \"0,507\", \"0,516\", \"0,92\", \"0,403\", \"0,603\", \"0,482\", \"0,353\", \"0,334\", \"0,35\", \"0,382\", \"0,66\", \"0,954\", \"0,25\", \"0,406\", \"0,447\", \"0,403\", \"0,533\", \"0,56\", \"0,34\", \"0,369\", \"0,614\", \"0,55\", \"0,684\", \"0,573\", \"0,735\", \"0,596\", \"0,495\", \"0,582\", \"0,618\", \"0,493\", \"0,599\", \"0,062\", \"0,643\", \"0,666\", \"0,426\", \"0,776\", \"0,676\", \"0,764\", \"0,778\", \"0,769\", \"0,348\", \"0,549\", \"0,553\", \"0,695\", \"0,387\", \"0,733\", \"0,766\", \"0,68\", \"0,585\", \"0,401\", \"0,26\", \"0,427\", \"0,52\", \"0,549\", \"0,906\", \"0,651\", \"0,765\", \"0,538\", \"0,408\", \"0,46\", \"0,261\", \"0,49\", \"0,657\", \"0,615\", \"0,725\", \"0,68\", \"0,547\", \"0,651\", \"0,36\", \"0,563\", \"0,516\", \"0,439\", \"0,258\", \"0,699\", \"0,394\", \"0,177\", \"0,55\", \"0,927\", \"0,559\", \"0,499\", \"0,436\", \"0,62\", \"0,38\", \"0,534\", \"0,83\", \"0,46\", \"0,643\", \"0,702\", \"0,559\", \"0,58\", \"0,39\", \"0,588\", \"0,736\", \"0,84\", \"0,762\", \"0,684\", \"0,56\", \"0,44\", \"0,244\", \"0,564\", \"0,583\", \"0,533\", \"0,818\", \"0,776\", \"0,266\", \"0,569\", \"0,65\", \"0,53\", \"0,64\", \"0,673\", \"0,54\", \"0,197\", \"0,73\", \"0,549\", \"0,37\", \"0,707\", \"0,73\", \"0,64\", \"0,302\", \"0,684\", \"0,354\", \"0,619\", \"0,665\", \"0,21\", \"0,661\", \"0,25\", \"0,671\", \"0,665\", \"0,545\", \"0,41\", \"0,65\", \"0,366\", \"0,707\", \"0,645\", \"0,519\", \"0,723\", \"0,48\", \"0,46\", \"0,401\", \"0,5\", \"0,423\", \"0,55\", \"0,585\", \"0,411\", \"0,469\", \"0,361\", \"0,375\", \"0,758\", \"0,787\", \"0,596\", \"0,43\", \"0,62\", \"0,541\", \"0,381\", \"0,393\", \"0,489\", \"0,579\"]}],                        {\"legend\": {\"bgcolor\": \"#F5F6F9\", \"font\": {\"color\": \"#4D5663\"}}, \"paper_bgcolor\": \"#F5F6F9\", \"plot_bgcolor\": \"#F5F6F9\", \"template\": {\"data\": {\"bar\": [{\"error_x\": {\"color\": \"#2a3f5f\"}, \"error_y\": {\"color\": \"#2a3f5f\"}, \"marker\": {\"line\": {\"color\": \"#E5ECF6\", \"width\": 0.5}}, \"type\": \"bar\"}], \"barpolar\": [{\"marker\": {\"line\": {\"color\": \"#E5ECF6\", \"width\": 0.5}}, \"type\": \"barpolar\"}], \"carpet\": [{\"aaxis\": {\"endlinecolor\": \"#2a3f5f\", \"gridcolor\": \"white\", \"linecolor\": \"white\", \"minorgridcolor\": \"white\", \"startlinecolor\": \"#2a3f5f\"}, \"baxis\": {\"endlinecolor\": \"#2a3f5f\", \"gridcolor\": \"white\", \"linecolor\": \"white\", \"minorgridcolor\": \"white\", \"startlinecolor\": \"#2a3f5f\"}, \"type\": \"carpet\"}], \"choropleth\": [{\"colorbar\": {\"outlinewidth\": 0, \"ticks\": \"\"}, \"type\": \"choropleth\"}], \"contour\": [{\"colorbar\": {\"outlinewidth\": 0, \"ticks\": \"\"}, \"colorscale\": [[0.0, \"#0d0887\"], [0.1111111111111111, \"#46039f\"], [0.2222222222222222, \"#7201a8\"], [0.3333333333333333, \"#9c179e\"], [0.4444444444444444, \"#bd3786\"], [0.5555555555555556, \"#d8576b\"], [0.6666666666666666, \"#ed7953\"], [0.7777777777777778, \"#fb9f3a\"], [0.8888888888888888, \"#fdca26\"], [1.0, \"#f0f921\"]], \"type\": \"contour\"}], \"contourcarpet\": [{\"colorbar\": {\"outlinewidth\": 0, \"ticks\": \"\"}, \"type\": \"contourcarpet\"}], \"heatmap\": [{\"colorbar\": {\"outlinewidth\": 0, \"ticks\": \"\"}, \"colorscale\": [[0.0, \"#0d0887\"], [0.1111111111111111, \"#46039f\"], [0.2222222222222222, \"#7201a8\"], [0.3333333333333333, \"#9c179e\"], [0.4444444444444444, \"#bd3786\"], [0.5555555555555556, \"#d8576b\"], [0.6666666666666666, \"#ed7953\"], [0.7777777777777778, \"#fb9f3a\"], [0.8888888888888888, \"#fdca26\"], [1.0, \"#f0f921\"]], \"type\": \"heatmap\"}], \"heatmapgl\": [{\"colorbar\": {\"outlinewidth\": 0, \"ticks\": \"\"}, \"colorscale\": [[0.0, \"#0d0887\"], [0.1111111111111111, \"#46039f\"], [0.2222222222222222, \"#7201a8\"], [0.3333333333333333, \"#9c179e\"], [0.4444444444444444, \"#bd3786\"], [0.5555555555555556, \"#d8576b\"], [0.6666666666666666, \"#ed7953\"], [0.7777777777777778, \"#fb9f3a\"], [0.8888888888888888, \"#fdca26\"], [1.0, \"#f0f921\"]], \"type\": \"heatmapgl\"}], \"histogram\": [{\"marker\": {\"colorbar\": {\"outlinewidth\": 0, \"ticks\": \"\"}}, \"type\": \"histogram\"}], \"histogram2d\": [{\"colorbar\": {\"outlinewidth\": 0, \"ticks\": \"\"}, \"colorscale\": [[0.0, \"#0d0887\"], [0.1111111111111111, \"#46039f\"], [0.2222222222222222, \"#7201a8\"], [0.3333333333333333, \"#9c179e\"], [0.4444444444444444, \"#bd3786\"], [0.5555555555555556, \"#d8576b\"], [0.6666666666666666, \"#ed7953\"], [0.7777777777777778, \"#fb9f3a\"], [0.8888888888888888, \"#fdca26\"], [1.0, \"#f0f921\"]], \"type\": \"histogram2d\"}], \"histogram2dcontour\": [{\"colorbar\": {\"outlinewidth\": 0, \"ticks\": \"\"}, \"colorscale\": [[0.0, \"#0d0887\"], [0.1111111111111111, \"#46039f\"], [0.2222222222222222, \"#7201a8\"], [0.3333333333333333, \"#9c179e\"], [0.4444444444444444, \"#bd3786\"], [0.5555555555555556, \"#d8576b\"], [0.6666666666666666, \"#ed7953\"], [0.7777777777777778, \"#fb9f3a\"], [0.8888888888888888, \"#fdca26\"], [1.0, \"#f0f921\"]], \"type\": \"histogram2dcontour\"}], \"mesh3d\": [{\"colorbar\": {\"outlinewidth\": 0, \"ticks\": \"\"}, \"type\": \"mesh3d\"}], \"parcoords\": [{\"line\": {\"colorbar\": {\"outlinewidth\": 0, \"ticks\": \"\"}}, \"type\": \"parcoords\"}], \"pie\": [{\"automargin\": true, \"type\": \"pie\"}], \"scatter\": [{\"marker\": {\"colorbar\": {\"outlinewidth\": 0, \"ticks\": \"\"}}, \"type\": \"scatter\"}], \"scatter3d\": [{\"line\": {\"colorbar\": {\"outlinewidth\": 0, \"ticks\": \"\"}}, \"marker\": {\"colorbar\": {\"outlinewidth\": 0, \"ticks\": \"\"}}, \"type\": \"scatter3d\"}], \"scattercarpet\": [{\"marker\": {\"colorbar\": {\"outlinewidth\": 0, \"ticks\": \"\"}}, \"type\": \"scattercarpet\"}], \"scattergeo\": [{\"marker\": {\"colorbar\": {\"outlinewidth\": 0, \"ticks\": \"\"}}, \"type\": \"scattergeo\"}], \"scattergl\": [{\"marker\": {\"colorbar\": {\"outlinewidth\": 0, \"ticks\": \"\"}}, \"type\": \"scattergl\"}], \"scattermapbox\": [{\"marker\": {\"colorbar\": {\"outlinewidth\": 0, \"ticks\": \"\"}}, \"type\": \"scattermapbox\"}], \"scatterpolar\": [{\"marker\": {\"colorbar\": {\"outlinewidth\": 0, \"ticks\": \"\"}}, \"type\": \"scatterpolar\"}], \"scatterpolargl\": [{\"marker\": {\"colorbar\": {\"outlinewidth\": 0, \"ticks\": \"\"}}, \"type\": \"scatterpolargl\"}], \"scatterternary\": [{\"marker\": {\"colorbar\": {\"outlinewidth\": 0, \"ticks\": \"\"}}, \"type\": \"scatterternary\"}], \"surface\": [{\"colorbar\": {\"outlinewidth\": 0, \"ticks\": \"\"}, \"colorscale\": [[0.0, \"#0d0887\"], [0.1111111111111111, \"#46039f\"], [0.2222222222222222, \"#7201a8\"], [0.3333333333333333, \"#9c179e\"], [0.4444444444444444, \"#bd3786\"], [0.5555555555555556, \"#d8576b\"], [0.6666666666666666, \"#ed7953\"], [0.7777777777777778, \"#fb9f3a\"], [0.8888888888888888, \"#fdca26\"], [1.0, \"#f0f921\"]], \"type\": \"surface\"}], \"table\": [{\"cells\": {\"fill\": {\"color\": \"#EBF0F8\"}, \"line\": {\"color\": \"white\"}}, \"header\": {\"fill\": {\"color\": \"#C8D4E3\"}, \"line\": {\"color\": \"white\"}}, \"type\": \"table\"}]}, \"layout\": {\"annotationdefaults\": {\"arrowcolor\": \"#2a3f5f\", \"arrowhead\": 0, \"arrowwidth\": 1}, \"autotypenumbers\": \"strict\", \"coloraxis\": {\"colorbar\": {\"outlinewidth\": 0, \"ticks\": \"\"}}, \"colorscale\": {\"diverging\": [[0, \"#8e0152\"], [0.1, \"#c51b7d\"], [0.2, \"#de77ae\"], [0.3, \"#f1b6da\"], [0.4, \"#fde0ef\"], [0.5, \"#f7f7f7\"], [0.6, \"#e6f5d0\"], [0.7, \"#b8e186\"], [0.8, \"#7fbc41\"], [0.9, \"#4d9221\"], [1, \"#276419\"]], \"sequential\": [[0.0, \"#0d0887\"], [0.1111111111111111, \"#46039f\"], [0.2222222222222222, \"#7201a8\"], [0.3333333333333333, \"#9c179e\"], [0.4444444444444444, \"#bd3786\"], [0.5555555555555556, \"#d8576b\"], [0.6666666666666666, \"#ed7953\"], [0.7777777777777778, \"#fb9f3a\"], [0.8888888888888888, \"#fdca26\"], [1.0, \"#f0f921\"]], \"sequentialminus\": [[0.0, \"#0d0887\"], [0.1111111111111111, \"#46039f\"], [0.2222222222222222, \"#7201a8\"], [0.3333333333333333, \"#9c179e\"], [0.4444444444444444, \"#bd3786\"], [0.5555555555555556, \"#d8576b\"], [0.6666666666666666, \"#ed7953\"], [0.7777777777777778, \"#fb9f3a\"], [0.8888888888888888, \"#fdca26\"], [1.0, \"#f0f921\"]]}, \"colorway\": [\"#636efa\", \"#EF553B\", \"#00cc96\", \"#ab63fa\", \"#FFA15A\", \"#19d3f3\", \"#FF6692\", \"#B6E880\", \"#FF97FF\", \"#FECB52\"], \"font\": {\"color\": \"#2a3f5f\"}, \"geo\": {\"bgcolor\": \"white\", \"lakecolor\": \"white\", \"landcolor\": \"#E5ECF6\", \"showlakes\": true, \"showland\": true, \"subunitcolor\": \"white\"}, \"hoverlabel\": {\"align\": \"left\"}, \"hovermode\": \"closest\", \"mapbox\": {\"style\": \"light\"}, \"paper_bgcolor\": \"white\", \"plot_bgcolor\": \"#E5ECF6\", \"polar\": {\"angularaxis\": {\"gridcolor\": \"white\", \"linecolor\": \"white\", \"ticks\": \"\"}, \"bgcolor\": \"#E5ECF6\", \"radialaxis\": {\"gridcolor\": \"white\", \"linecolor\": \"white\", \"ticks\": \"\"}}, \"scene\": {\"xaxis\": {\"backgroundcolor\": \"#E5ECF6\", \"gridcolor\": \"white\", \"gridwidth\": 2, \"linecolor\": \"white\", \"showbackground\": true, \"ticks\": \"\", \"zerolinecolor\": \"white\"}, \"yaxis\": {\"backgroundcolor\": \"#E5ECF6\", \"gridcolor\": \"white\", \"gridwidth\": 2, \"linecolor\": \"white\", \"showbackground\": true, \"ticks\": \"\", \"zerolinecolor\": \"white\"}, \"zaxis\": {\"backgroundcolor\": \"#E5ECF6\", \"gridcolor\": \"white\", \"gridwidth\": 2, \"linecolor\": \"white\", \"showbackground\": true, \"ticks\": \"\", \"zerolinecolor\": \"white\"}}, \"shapedefaults\": {\"line\": {\"color\": \"#2a3f5f\"}}, \"ternary\": {\"aaxis\": {\"gridcolor\": \"white\", \"linecolor\": \"white\", \"ticks\": \"\"}, \"baxis\": {\"gridcolor\": \"white\", \"linecolor\": \"white\", \"ticks\": \"\"}, \"bgcolor\": \"#E5ECF6\", \"caxis\": {\"gridcolor\": \"white\", \"linecolor\": \"white\", \"ticks\": \"\"}}, \"title\": {\"x\": 0.05}, \"xaxis\": {\"automargin\": true, \"gridcolor\": \"white\", \"linecolor\": \"white\", \"ticks\": \"\", \"title\": {\"standoff\": 15}, \"zerolinecolor\": \"white\", \"zerolinewidth\": 2}, \"yaxis\": {\"automargin\": true, \"gridcolor\": \"white\", \"linecolor\": \"white\", \"ticks\": \"\", \"title\": {\"standoff\": 15}, \"zerolinecolor\": \"white\", \"zerolinewidth\": 2}}}, \"title\": {\"font\": {\"color\": \"#4D5663\"}}, \"xaxis\": {\"gridcolor\": \"#E1E5ED\", \"showgrid\": true, \"tickfont\": {\"color\": \"#4D5663\"}, \"title\": {\"font\": {\"color\": \"#4D5663\"}, \"text\": \"\"}, \"zerolinecolor\": \"#E1E5ED\"}, \"yaxis\": {\"gridcolor\": \"#E1E5ED\", \"showgrid\": true, \"tickfont\": {\"color\": \"#4D5663\"}, \"title\": {\"font\": {\"color\": \"#4D5663\"}, \"text\": \"\"}, \"zerolinecolor\": \"#E1E5ED\"}},                        {\"showLink\": true, \"linkText\": \"Export to plot.ly\", \"plotlyServerURL\": \"https://plot.ly\", \"responsive\": true}                    ).then(function(){\n",
       "                            \n",
       "var gd = document.getElementById('9e8d2d4b-7692-4384-9baa-ac0a9ed7b8e4');\n",
       "var x = new MutationObserver(function (mutations, observer) {{\n",
       "        var display = window.getComputedStyle(gd).display;\n",
       "        if (!display || display === 'none') {{\n",
       "            console.log([gd, 'removed!']);\n",
       "            Plotly.purge(gd);\n",
       "            observer.disconnect();\n",
       "        }}\n",
       "}});\n",
       "\n",
       "// Listen for the removal of the full notebook cells\n",
       "var notebookContainer = gd.closest('#notebook-container');\n",
       "if (notebookContainer) {{\n",
       "    x.observe(notebookContainer, {childList: true});\n",
       "}}\n",
       "\n",
       "// Listen for the clearing of the current output cell\n",
       "var outputEl = gd.closest('.output');\n",
       "if (outputEl) {{\n",
       "    x.observe(outputEl, {childList: true});\n",
       "}}\n",
       "\n",
       "                        })                };                });            </script>        </div>"
      ]
     },
     "metadata": {},
     "output_type": "display_data"
    }
   ],
   "source": [
    "df.iplot(kind='box', size=40)"
   ]
  },
  {
   "cell_type": "code",
   "execution_count": null,
   "metadata": {},
   "outputs": [],
   "source": []
  },
  {
   "cell_type": "code",
   "execution_count": null,
   "metadata": {},
   "outputs": [],
   "source": []
  }
 ],
 "metadata": {
  "kernelspec": {
   "display_name": "Python 3",
   "language": "python",
   "name": "python3"
  },
  "language_info": {
   "codemirror_mode": {
    "name": "ipython",
    "version": 3
   },
   "file_extension": ".py",
   "mimetype": "text/x-python",
   "name": "python",
   "nbconvert_exporter": "python",
   "pygments_lexer": "ipython3",
   "version": "3.8.2"
  }
 },
 "nbformat": 4,
 "nbformat_minor": 4
}
